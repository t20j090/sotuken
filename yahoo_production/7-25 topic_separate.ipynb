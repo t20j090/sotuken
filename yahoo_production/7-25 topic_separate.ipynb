{
 "cells": [
  {
   "cell_type": "code",
   "execution_count": 1,
   "id": "5a2a36d2-d2cd-44a7-804a-eb430f7b81c7",
   "metadata": {},
   "outputs": [],
   "source": [
    "from bs4 import BeautifulSoup\n",
    "import requests\n",
    "import time\n",
    "\n",
    "url = 'https://news.yahoo.co.jp/'\n",
    "r = requests.get(url)\n",
    "soup = BeautifulSoup(r.text, \"html.parser\")\n",
    "elements = soup.select('.sc-fKgJPI.fFnFHR')\n",
    "\n",
    "articles_dict = []\n",
    "topic = '国内'\n",
    "#トピックのURL取得\n",
    "for i, element in enumerate(elements):\n",
    "    if topic in element.text:\n",
    "        categories_num = i"
   ]
  },
  {
   "cell_type": "code",
   "execution_count": 2,
   "id": "aaabffe5-fa6b-428c-a5ed-72e449868807",
   "metadata": {},
   "outputs": [
    {
     "name": "stdout",
     "output_type": "stream",
     "text": [
      "0\n"
     ]
    }
   ],
   "source": [
    "print(categories_num)"
   ]
  },
  {
   "cell_type": "code",
   "execution_count": 3,
   "id": "0dcc35ac-d50d-43b2-8337-499eb67e32b2",
   "metadata": {},
   "outputs": [],
   "source": [
    "element = elements[categories_num]\n",
    "topic_url= element.a['href']\n",
    "URL = url + topic_url\n",
    "\n",
    "r = requests.get(URL)\n",
    "soup = BeautifulSoup(r.text, \"html.parser\")\n",
    "elements = soup.select('.sc-fXazdy.UjHkE')\n",
    "elements = elements[:5]"
   ]
  },
  {
   "cell_type": "code",
   "execution_count": 5,
   "id": "7085f05c-9b66-42ef-bd66-04fc6ddd9a6e",
   "metadata": {},
   "outputs": [],
   "source": [
    "news_urls = []\n",
    "news_titles = []\n",
    "#ニュースのURLとタイトルを取得\n",
    "for element in elements:\n",
    "    url = element.a['href']\n",
    "    title = element.text[1:]\n",
    "    news_urls.append(url)\n",
    "    news_titles.append(title)\n",
    "    time.sleep(1)"
   ]
  },
  {
   "cell_type": "code",
   "execution_count": 6,
   "id": "58b47e93-79b4-4dbb-a1e8-78111ecf6bed",
   "metadata": {},
   "outputs": [
    {
     "data": {
      "text/plain": [
       "['https://news.yahoo.co.jp/articles/15c44bbc3b89ba7a2a10a499330361391b441e2c',\n",
       " 'https://news.yahoo.co.jp/articles/fbfa9305f1d8b8e8d6766fbb18b6d0268c19639e',\n",
       " 'https://news.yahoo.co.jp/articles/460c2ef2b35eafbc23504796eeff8802960c4497',\n",
       " 'https://news.yahoo.co.jp/articles/0a2bbc2cc1c4434bc9fccb06c22938460a815625',\n",
       " 'https://news.yahoo.co.jp/articles/a4ec1421ff1623f82dd56acd782a8f721a1321bd']"
      ]
     },
     "execution_count": 6,
     "metadata": {},
     "output_type": "execute_result"
    }
   ],
   "source": [
    "news_urls"
   ]
  },
  {
   "cell_type": "code",
   "execution_count": 12,
   "id": "90abb5c6-614d-487f-97dd-eb04ba6235aa",
   "metadata": {},
   "outputs": [],
   "source": [
    "news_url = news_urls[0]\n",
    "r = requests.get(news_url)\n",
    "soup = BeautifulSoup(r.text, \"html.parser\")\n",
    "elements = soup.select('.sc-hcmsbg.iHLBIg.yjSlinkDirectlink.highLightSearchTarget')"
   ]
  },
  {
   "cell_type": "code",
   "execution_count": 13,
   "id": "0b0fd4cc-9900-46fd-b5c4-fd49019503c9",
   "metadata": {},
   "outputs": [],
   "source": [
    "#ニュース記事の本文が配列で区切られていた場合\n",
    "for i in range(0, 8):\n",
    "    try:\n",
    "        if (i == 0):\n",
    "            text = elements[0].text\n",
    "        else:\n",
    "            text += elements[i].text\n",
    "    except:\n",
    "        pass"
   ]
  },
  {
   "cell_type": "code",
   "execution_count": null,
   "id": "3835ae98-61e0-4fbf-aefa-01d7edcd8622",
   "metadata": {},
   "outputs": [],
   "source": [
    "page_element = soup.select('.sc-dYXZXt.jzZUwL')\n",
    "page = page_element[0].text\n",
    "page_str = ''.join(filter(str.isdigit, page))\n",
    "page_num = int(page_num)"
   ]
  },
  {
   "cell_type": "code",
   "execution_count": 68,
   "id": "87c1e5c4-7dc6-4ac3-b963-3f16921936e7",
   "metadata": {},
   "outputs": [],
   "source": [
    "#ページ数が複数のとき、ページ遷移し本文を取得\n",
    "if (page_num > 0):\n",
    "    for i in range(2, page_num + 1):\n",
    "        news_url_page = news_url + \"?page=\" + str(page_num)\n",
    "        r = requests.get(news_url_page)\n",
    "        soup = BeautifulSoup(r.text, \"html.parser\")\n",
    "        elements = soup.select('.sc-hcmsbg.iHLBIg.yjSlinkDirectlink.highLightSearchTarget')\n",
    "        for i in range(0, 8):\n",
    "            try:\n",
    "                if (i == 0):\n",
    "                    text = elements[0].text\n",
    "                else:\n",
    "                    text += elements[i].text\n",
    "            except:\n",
    "                pass\n",
    "\n",
    "news_text.append(text)\n",
    "\n",
    "time.sleep(1)"
   ]
  },
  {
   "cell_type": "code",
   "execution_count": 69,
   "id": "ca9d4a7d-dd13-4bee-9048-4ef1164525d2",
   "metadata": {},
   "outputs": [
    {
     "data": {
      "text/plain": [
       "['\\u3000電車では、僕が席を譲ることもあります。あまりにも足に疲労があって座っていたい時は座ったままでいますが、パッと周りを見て、「限られたこの座席を誰が一番必要としているか」を考えた結果、譲った方がいいと判断することがあります。\\n\\n\\u3000元々おばあちゃんっ子なのもあって、高齢の人には座ってもらおうという意識は子供の頃からありました。その後、20歳でこの体になって数々の障害当事者と会ってきた中で、優先席に座るべき人は他にも数多くいるんだなと意識が広がりました。僕のような身体障害に限らず、見た目では分かりづらい障害がある人、様々な理由でヘルプマークをつけている人、マタニティマークをつけている人など、優先席が必要な人はたくさんいます。\\n\\n\\u3000僕なんかは、どうしても座りたい時は「譲ってもらえませんか」と自分で言ってしまうけど、おそらく座りたくても自分から言えない人の方が多いでしょう。座席を求めている時というのは、電車に多くの人が乗っている時です。その車内で、6人くらいが座っている優先席に向かって「座らせてもらえませんか」と発言できる人は少数派だと思います。\\n\\n\\u3000だから、本当に優先席に座るべき人が声を出しやすい空間にすることも大事だし、今座っている人が進んで「どうぞ」と譲れるような心のゆとりがあったらいいなと思います。僕が地下鉄で出会った女性のように、必要としている人が座れるように第三者が声をかけることがあってもいいと思います。\\n\\n\\u3000電車でもバスでも、優先席に座る時に大事なのは周りを見ること。周りを見て、他に必要としている人がいなければ使えばいいと思うし、譲った方がいい時は譲ればいい。僕が考えているのはそんなシンプルなことです。\\n\\n\\u3000これも1つの「心のバリアフリー」なのかなと思います。時と場合に応じて譲り合う心を1人1人が持っていれば、乗っているみんなが幸せになり、より豊かな社会に繋がっていくのではないでしょうか。そして譲り合う心は、お互いが目の前の相手のことを思いやることから始まると思います。\\n\\n（構成：J-CASTニュース編集部\\u3000青木正典）']"
      ]
     },
     "execution_count": 69,
     "metadata": {},
     "output_type": "execute_result"
    }
   ],
   "source": [
    "news_text"
   ]
  },
  {
   "cell_type": "code",
   "execution_count": 23,
   "id": "b2be8bb0-db61-40b2-a807-464eb7164f7d",
   "metadata": {},
   "outputs": [
    {
     "data": {
      "text/plain": [
       "0"
      ]
     },
     "execution_count": 23,
     "metadata": {},
     "output_type": "execute_result"
    }
   ],
   "source": [
    "page_num"
   ]
  },
  {
   "cell_type": "code",
   "execution_count": null,
   "id": "e992fe1c-51f0-40d4-a91b-b2e8f35b2860",
   "metadata": {},
   "outputs": [],
   "source": []
  },
  {
   "cell_type": "code",
   "execution_count": null,
   "id": "98daa920-1f5d-4fc8-b62a-2b013982fc88",
   "metadata": {},
   "outputs": [],
   "source": [
    "articles = []\n",
    "for url, title, text in zip(news_urls, news_titles, news_text):\n",
    "    article = {\n",
    "        \"title\" : title,\n",
    "        \"URL\" : url,\n",
    "        \"text\" : text\n",
    "    }\n",
    "    articles.append(article)\n",
    "\n",
    "return articles\n",
    "    "
   ]
  },
  {
   "cell_type": "code",
   "execution_count": null,
   "id": "c30c3e41-aa99-4ce1-876d-1dac3775c794",
   "metadata": {},
   "outputs": [],
   "source": []
  },
  {
   "cell_type": "code",
   "execution_count": null,
   "id": "bf36560c-361c-468b-be06-a215307a8db6",
   "metadata": {},
   "outputs": [],
   "source": []
  },
  {
   "cell_type": "code",
   "execution_count": 39,
   "id": "4a41799f-6ddf-4797-bbf9-a1f8fd83fe74",
   "metadata": {},
   "outputs": [],
   "source": [
    "def clean_data(articles):\n",
    "    for i in range(len(articles)):\n",
    "        articles[i]['title'] = articles[i]['title'].replace('\\u3000', '') \n",
    "        articles[i]['title'] = articles[i]['title'].lstrip('0123456789')\n",
    "        articles[i]['text'] = articles[i]['text'].replace('\\u3000', '')\n",
    "        articles[i]['text'] = articles[i]['text'].replace('\\n', '')\n",
    "\n",
    "    return articles"
   ]
  },
  {
   "cell_type": "code",
   "execution_count": null,
   "id": "721bab26-9402-4299-bd55-ff416169267e",
   "metadata": {},
   "outputs": [],
   "source": [
    "articles = scraping('国内')"
   ]
  },
  {
   "cell_type": "code",
   "execution_count": 41,
   "id": "89e65485-1602-40db-981e-9d8b12f42d2f",
   "metadata": {},
   "outputs": [],
   "source": [
    "articles = clean_data(articles)"
   ]
  },
  {
   "cell_type": "code",
   "execution_count": 42,
   "id": "19103463-9b0c-412f-878c-b6d9401ef15e",
   "metadata": {},
   "outputs": [
    {
     "data": {
      "text/plain": [
       "[{'title': '「前日にアルコールかけ爆発実験」バーベキュー4人死傷火災、福岡・柳川の専門学校理事長西日本新聞6/18(日)10:02',\n",
       "  'URL': 'https://news.yahoo.co.jp/articles/a0221d3baa09749c233b4682bc783bd2f93db602',\n",
       "  'text': '福岡県柳川市のハリウッドワールド美容専門学校で5月、バーベキューの火が燃え移って生徒4人が死傷した事故を受け、学校は17日、初の保護者説明会を同校で開いた。説明会は非公開。出席者によると、古賀英次理事長は各地から参加した200人超の保護者らを前に近く理事長を引責辞任する考えを示し、事故原因の究明や再発防止のため、弁護士らでつくる第三者委員会を23日に設置する方針を明らかにした。【写真】学生がやけどを負い死亡した専門学校説明会の冒頭、理事長は亡くなった18歳の男子生徒を追悼し、被害者や家族、生徒ら関係者に対して「深く謝罪します」と頭を下げた。事故の経緯の説明に続いて質疑応答があった。バーベキューの引火は、理事長自身が炭に消毒用アルコールを加えた後、火勢が弱くなった1台に別の教員が追加したことが原因とみられている。学校側のアルコールの危険性に対する認識について質問が相次ぎ、理事長は事故の前日、着火剤にアルコールをかけても爆発しないかどうか実験をしていた、という趣旨の回答をしたという。事故は5月24日に発生。学校敷地内で生徒約470人が参加したバーベキューの途中、教員が火にアルコールを追加したところ爆発的に炎上して男子生徒4人に燃え移り、うち1人が死亡。県警柳川署が業務上過失致死傷容疑で捜査している。（児玉珠希、河野潤一郎）事故から1カ月近くが経過し、ようやく学校が開いた説明会。集まった保護者らは次々に疑問をぶつけたが、説明にはあいまいな部分が多く、「とても納得できない」との声が上がった。いっそう、不満や不信を募らせた。出席者によると、学校側は古賀英次理事長や古賀郁（ふみ）学園長ら幹部と弁護士らが対応。亡くなった生徒の追悼、関係者への謝罪に続いて、約20分にわたって事故の状況や今後の対応を説明し、質疑応答が始まった。「なぜ、消毒用アルコールを追加したのか」「危険なアルコールを使うことに教員から異論はなかったのか」誰もが考えるであろう疑問点。これらに対し理事長は、バーベキューの時間が長くなって熱中症になることを警戒した、早く確実に肉を焼くためだった、との従来の説明を繰り返した上で「危険な作業は私一人で、私の責任でやる。異論は出なかった」などと述べた。だが保護者らは納得できない。学校は事故前日の実験で「安全性」を確保したと主張したいようだが、実験をすること自体、「危険性」を認識していたとも受け取れる。実際、保護者からは「（アルコールを入れれば）爆発するのは当たり前。そんな知識もないのか」と厳しい声が飛んだ。質疑は、学校が設置する第三者委員会の人選にも及んだ。「任命権者が理事長なら、身内の組織ではないか」。公平性を疑問視する保護者に対し、学校側が答えに窮し、沈黙する場面もあった。バーベキュー会場には消火用の水が準備されていなかったことを複数の保護者が「生徒の証言」として発言し、うち一人は「子どもは目前で火が燃え上がる記憶のフラッシュバックで夜も寝付けない。生徒にしっかり謝罪してほしい」と語気を強めた。3時間超にわたった説明会。鹿児島県から参加した40代男性は「説明に納得した人は一人もいないと思う」と憤った。（山下真）'},\n",
       " {'title': 'はびこる「ナンバーワン広告」…１位になった瞬間に調査終了・ライバル企業を回答欄から省く読売新聞オンライン6/18(日)11:39',\n",
       "  'URL': 'https://news.yahoo.co.jp/articles/f4cb4865203ff6701b7a3edfc8bbcff3515473a2',\n",
       "  'text': '「人気度Ｎｏ．１」といった文言で販売実績や顧客満足度を強調する「ナンバーワン広告」。この手の宣伝文句は世の中にあふれているが、根拠がないものも多いとみられる。広告主に持ちかけて「偽りの高評価」を作り出す調査会社もあるとされるだけに、消費者自身も「ウソを見抜く目」を持つ必要がありそうだ。（糸井裕哉）【図】景品表示法違反で措置命令を受けた主な「ナンバーワン広告」「勝手に業界ナンバーワンをうたっている」「何についてのナンバーワンなのか、よくわからない」日本広告審査機構（ＪＡＲＯ）には２０１９年４月から今年３月までの４年間で「ナンバーワン広告」に関するこうした苦情や相談が３５５件寄せられた。不当表示の横行を示しており、実際に景品表示法に違反すると認定されたケースもある。消費者庁は１月、東京都内の家庭教師派遣事業会社に対し、再発防止を求める措置命令を出した。オンラインでの個別学習指導を巡り、客観的な調査をしていないのに、ウェブ広告で「口コミ人気度Ｎｏ．１」などと表示したことが同法の禁じる「優良誤認」に当たると判断した。▽１位を取るまで項目や選択肢を変えて調査を繰り返す▽１位になった瞬間に調査を終える▽有力なライバル企業を回答欄から省く――など、様々な手法を駆使して「偽りの１位」を作り出すケースもある。'},\n",
       " {'title': '登山自慢をしてくる上司に後輩が巧み過ぎる“切り返し” 投稿者も思わず感心した秀逸コメントに「こういうセンス欲しい」「座布団3枚！」称賛の声ABEMA TIMES6/15(木)10:01',\n",
       "  'URL': 'https://news.yahoo.co.jp/articles/e7481fd7096df39a683a9a27493fd1e5fcb40239',\n",
       "  'text': '登山自慢をしてくる上司に対する後輩の秀逸な“切り返し”がTwitter上で話題を呼んでいる。【映像】上司気づいてないかも？ 後輩の巧み過ぎる“切り返し”話題を呼んでいるのは、超やきとり（@yakichuu）さんの上司と後輩のやりとり。初めて高尾山を登った後輩が「キツかったけど、次は富士山登りたいです」と話していたという投稿者。そこに、おじいちゃん上司が「俺は今まで富士山10回は登ったぞ～」と割り込んできたそうだ。すると、後輩はその上司に「“マウント富士”ですね」と二重の意味を含ませた巧みな切り返しをしたという。この投稿を見た人からは「こういうセンス欲しい」「ナイス後輩!!」「上司はこの皮肉を理解できたのだろうか…」「座布団3枚あげよう」などの反響が寄せられ、5万件を超える“いいね”が押されている。（※数字は6月13日18時のデータ）ニュース番組『ABEMAヒルズ』は超やきとりさんを取材。投稿後のやり取りについて、「上司はよくわかってない様子でしたが、私は意味に気づいて笑いました」とコメント。続けて、反響については「普段から反響は気にしてないですが、シニカルな笑いが好きな方に刺さってよかったです」と話してくれた。（『ABEMAヒルズ』より）'},\n",
       " {'title': '【独自】「注意されたらすぐ逆ギレ」移動しながら次々発射…自衛官候補生（18）の行動判明 「真面目な自衛隊には向かないと」FNNプライムオンライン6/16(金)18:52',\n",
       "  'URL': 'https://news.yahoo.co.jp/articles/a2a4b5fa4b0ee42de2d0a4d2bc110c06796def6a',\n",
       "  'text': '陸上自衛隊の射撃場で、18歳の隊員が自動小銃を発砲し、自衛官3人が死傷した事件。隊員の男は犯行時、移動しながら次々と発砲していたことがわかった。【画像】取り押さえられてからも複数回発砲…男の発砲時の行動詳細事件は6月14日、岐阜市にある日野基本射撃場で、自動小銃を使った射撃訓練の開始直後に発生。関係者への取材によると、逮捕された陸自隊員の男（18）は事件直前、射撃訓練の順番を待つ待機場所にいたという。本来、この場所では銃に弾を込めることはないにもかかわらず、男は持っていた銃に勝手に弾を込めた可能性があるとみられている。その行動を止めようとしたとみられるのが、最初に撃たれた八代航佑3曹（25）。この発砲について男はこう供述しているという。自衛隊候補生の男（18）:「お前何やってんだ!やめろ」と言われて、自分の行為を邪魔されると思って撃った。その人に恨みはなかった。さらに「足を狙ったが当たりどころが悪かったから死んだ、殺すつもりはなかった」などと話し、殺意を否認しているという。最初の発砲後、男は右後方に歩いていき、弾薬係の菊松安親1曹（52）に向けて発砲。さらに隣にいた原悠介3曹（25）を撃った後、その位置から再び菊松1曹に向け発砲したという。男はこの後すぐに別の隊員によって取り押さえられたが、なおも複数回発砲したとみられている。打たれた菊松1曹と八代3曹はその後死亡。原3曹は重傷だという。今年3月末に入隊したばかりだった男。小学校時代の同級生は、男が当時から自衛隊に憧れていたと話し、自衛隊への思いは高校に進んでからも変わらなかったようだ。小学校時代の同級生:言っていました「自衛隊になりたい」って。小学校5、6年生ぐらいの時に言っていたような気がするんですけど。高校の同級生:もう高校1、2年の時から言っていましたね。自衛隊員になりたいって。3年に入ってからそういう試験勉強とかは色々していましたね。また、男の小・中学校時代を知る人は短気な一面があったと記憶している。子どもが小学校の同級生だった女性:ちょっと先生も手を焼いている感じだった。小・中学校の同級生:彼は学校に（持ち込み禁止の）イヤホンとかスマートフォンを持ってきて、それで注意されたら、すぐ逆ギレしたり、あまりいいイメージはないです。自衛隊って真面目なイメージじゃないですか。だから向いていないんじゃないか（と思った）。事件から2日…自衛隊と警察は、今なおはっきりしていない動機などについて、慎重に調べている。（「イット!」6月16日放送分より）'},\n",
       " {'title': '週刊地震情報 2023.6.18千葉県で連続の地震2回目は最大震度4を観測ウェザーニュース6/18(日)10:28',\n",
       "  'URL': 'https://news.yahoo.co.jp/articles/898db953cd32a9aa16372a86c6efce6b86692616',\n",
       "  'text': 'この1週間で国内で観測された有感地震の回数は、前週に比べるとやや少ない水準です。関東から北海道にかけての太平洋側で地震が多く、西日本では目立った地震があまりありませんでした。震度3以上の地震は3回発生しています。（6月12日～18日10時の集計）16日(金)21時14分頃、千葉県北西部を震源とするマグニチュード4.0、深さ66kmと推定される地震が発生しました。この地震で千葉県野田市や東京都渋谷区などで最大震度2を観測しています。その10分後の16日(金)21時24分頃、今度は千葉県北東部を震源とするマグニチュード4.9、深さ49kmと推定される地震が発生し、千葉県横芝光町で最大震度4、千葉県東金市や香取市、成田市、茨城県稲敷市、神栖市などで震度3の揺れを観測しました。地震のメカニズムはいずれも東西方向に圧力軸を持つ逆断層型と解析されています。沈み込む太平洋プレートの上面に近い所で起きており、場所は少し違いますが、似たタイプの地震です。2つの震源は過去にも多数の地震が起きている領域で、10分間隔で相次ぎ発生したのは偶然と考えられます。17日(土)20時37分頃、オホーツク海南部を震源とするマグニチュード5.8、深さ約450kmと推定される地震が発生しました。この地震で北海道函館市や標茶町、青森県八戸市、むつ市などで最大震度2を観測しています。この地震の震度分布を見ると、震央に近い北海道のオホーツク海側で震度1以上を観測していない一方で、少し離れた東北太平洋側で震度1～2の揺れを観測しました。深発地震の時に現れる「異常震域」と呼ばれる震度分布です。多くの地震では震央から同心円状に揺れの強い地域が分布します。それが深発地震では沈み込んだプレートに沿って強い揺れが伝わり、プレート境界に近い遠方で揺れが大きくなる現象がみられることがあり、これを「異常震域」と呼んでいます。異常という名称ではあるものの、深発地震が起きた時には普通に現れ、現象そのものが異常という訳ではありません。オホーツク海南部は異常震域を引き起こす深発地震がしばしば発生し、2012年のマグニチュード7.3の地震では、関東でも震度2の揺れを観測しました。アメリカ地質調査所の解析によるマグニチュード6以上の地震は5回発生しました。最も大きなものは南太平洋・トンガ近海で発生したマグニチュード7.2です。日本時間の16日(金)未明にトンガ近海でマグニチュード7.2、深さ約167kmと推定される地震が発生しました。マグニチュード7以上の地震が発生するのは、5月20日のニューカレドニア近くで起きたマグニチュード7.1以来です。地震の規模は大きかったものの、深さが100km以上の深発地震だったため津波の発生はなく、震央が島々から少し離れていたため、揺れによる被害もありませんでした。また、同じトンガ近海では17日(土)にかけてマグニチュード6クラスの地震が数回発生しましたが、こちらは深さが20～30km程度と浅く、別のタイプの地震です。'}]"
      ]
     },
     "execution_count": 42,
     "metadata": {},
     "output_type": "execute_result"
    }
   ],
   "source": [
    "articles"
   ]
  },
  {
   "cell_type": "code",
   "execution_count": null,
   "id": "482533c7-f2ae-4385-bf03-9bd3eaece89e",
   "metadata": {},
   "outputs": [],
   "source": []
  }
 ],
 "metadata": {
  "kernelspec": {
   "display_name": "Python 3 (ipykernel)",
   "language": "python",
   "name": "python3"
  },
  "language_info": {
   "codemirror_mode": {
    "name": "ipython",
    "version": 3
   },
   "file_extension": ".py",
   "mimetype": "text/x-python",
   "name": "python",
   "nbconvert_exporter": "python",
   "pygments_lexer": "ipython3",
   "version": "3.11.4"
  }
 },
 "nbformat": 4,
 "nbformat_minor": 5
}
