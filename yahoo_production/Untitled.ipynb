{
 "cells": [
  {
   "cell_type": "code",
   "execution_count": 1,
   "id": "e6b0a287-8f23-48eb-a51f-d0f546907893",
   "metadata": {},
   "outputs": [],
   "source": [
    "from bs4 import BeautifulSoup\n",
    "import requests\n",
    "import time\n",
    "\n",
    "url = 'https://news.yahoo.co.jp/'\n",
    "r = requests.get(url)\n",
    "soup = BeautifulSoup(r.text, \"html.parser\")"
   ]
  },
  {
   "cell_type": "code",
   "execution_count": 18,
   "id": "85627d10-5b2a-4d40-8308-ae715797f48b",
   "metadata": {},
   "outputs": [],
   "source": [
    "list_item = soup.find_all('li')"
   ]
  },
  {
   "cell_type": "code",
   "execution_count": 19,
   "id": "9013d3ce-17bc-4520-b812-7d0bfb4bae45",
   "metadata": {},
   "outputs": [],
   "source": [
    "list_item = list_item[12:21]"
   ]
  },
  {
   "cell_type": "code",
   "execution_count": 46,
   "id": "4e3b1ef5-caf6-41e4-a547-b5934cb64514",
   "metadata": {},
   "outputs": [],
   "source": [
    "# <a>要素からトピックを取得\n",
    "a_contents = [li.a for li in list_item]"
   ]
  },
  {
   "cell_type": "code",
   "execution_count": 52,
   "id": "3f5c5e01-67f8-47c0-9f3e-fd3a7e2a2c07",
   "metadata": {},
   "outputs": [],
   "source": [
    "articles_dict = []\n",
    "topic = topic \n",
    "for i, a_content in enumerate(a_contents):\n",
    "    if topic in a_content.text:\n",
    "        categories_num = i"
   ]
  },
  {
   "cell_type": "code",
   "execution_count": 38,
   "id": "8e47b6a1-91a7-45e9-bd0d-854b3a3cb826",
   "metadata": {},
   "outputs": [],
   "source": [
    "categories_num = 1"
   ]
  },
  {
   "cell_type": "code",
   "execution_count": 57,
   "id": "6b75196b-acc7-4e68-810e-04f90c11cfc2",
   "metadata": {},
   "outputs": [],
   "source": [
    "a_content = a_contents[categories_num]"
   ]
  },
  {
   "cell_type": "code",
   "execution_count": 67,
   "id": "45dc97f6-2194-4437-a1ff-de1511d181f0",
   "metadata": {},
   "outputs": [],
   "source": [
    "topic_url = a_content['href']\n",
    "URL = url + topic_url\n",
    "\n",
    "r = requests.get(URL)\n",
    "soup = BeautifulSoup(r.text, \"html.parser\")"
   ]
  },
  {
   "cell_type": "code",
   "execution_count": 68,
   "id": "1b65be48-b749-4d3e-a544-8c3053cea279",
   "metadata": {},
   "outputs": [],
   "source": [
    "list_item = soup.find_all('li')"
   ]
  },
  {
   "cell_type": "code",
   "execution_count": 77,
   "id": "59123130-f31c-4d49-bd5c-a937426cd690",
   "metadata": {},
   "outputs": [],
   "source": [
    "list_item = list_item[35:40]"
   ]
  },
  {
   "cell_type": "code",
   "execution_count": 78,
   "id": "07fa0b9b-142c-403d-9797-f44371832978",
   "metadata": {},
   "outputs": [],
   "source": [
    "news_urls = []\n",
    "news_titles = []\n",
    "#ニュースのURLとタイトルを取得\n",
    "for li in list_item:\n",
    "    url = li.a['href']\n",
    "    title = li.text[1:]\n",
    "    news_urls.append(url)\n",
    "    news_titles.append(title)\n",
    "    time.sleep(1)"
   ]
  },
  {
   "cell_type": "code",
   "execution_count": 83,
   "id": "78e2c352-cf01-47ce-814c-9d27cbdfd993",
   "metadata": {},
   "outputs": [],
   "source": [
    "news_url = 'https://news.yahoo.co.jp/articles/0522d2bdb76b086f54f411b500f2b50ed2252d93'"
   ]
  },
  {
   "cell_type": "code",
   "execution_count": 85,
   "id": "7e06b543-4010-4396-b28b-baefb24b108f",
   "metadata": {},
   "outputs": [],
   "source": [
    "news_text = []\n",
    "r = requests.get(news_url)\n",
    "soup = BeautifulSoup(r.text, \"html.parser\")\n",
    "text = \"\""
   ]
  },
  {
   "cell_type": "code",
   "execution_count": 108,
   "id": "04e9988e-57d0-4bec-8bd4-d026bd0fa31a",
   "metadata": {},
   "outputs": [],
   "source": [
    "paragraph = soup.find_all('p')"
   ]
  },
  {
   "cell_type": "code",
   "execution_count": 109,
   "id": "bcd7aa7e-61a3-48b2-8a60-67016a0ba0e2",
   "metadata": {},
   "outputs": [
    {
     "data": {
      "text/plain": [
       "[<p class=\"sc-gDyJDg dmrAcv yjSlinkDirectlink highLightSearchTarget\">　街中をバイクで走行している際に、ふと地面を見ると目に入ってくる「G→」の印。矢印が示す先には何があるのか、気になったという人もいるでしょう。\n",
       " \n",
       " <a data-cl-params=\"_cl_vmodule:related;_cl_link:photo;_cl_position:1;view_pos:1;shcid:0522d2bdb76b086f54f411b500f2b50ed2252d93;url:https%3A%2F%2Fbike-news.jp%2Fphoto%2F319723;title:【画像】「えっ…！」これが謎の道路標示「G→」マークの正体です（10枚）;\" href=\"https://bike-news.jp/photo/319723\">【画像】「えっ…！」これが謎の道路標示「G→」マークの正体です（10枚）</a>\n",
       " \n",
       " 　同じ場所にいくつもGマークが貼られているにもかかわらず、矢印がまったく別の方向を指している場合も多々あります。このマークには、いったいどのような意味があるのでしょうか。</p>,\n",
       " <p class=\"sc-eYKchh iHrcjg\">「ガス管用スコッチレーン」の道路標示</p>,\n",
       " <p class=\"sc-gDyJDg dmrAcv yjSlinkDirectlink highLightSearchTarget\">「G→」マークの正式名称は「ガス管用スコッチレーン」といい、ガス埋設管の位置を示すことで工事などによるガス管の損傷を防止することを目的としています。\n",
       " \n",
       " 　なぜなら、道路の舗装や水道管工事といったさまざまな工事で地面を掘削する事がありますが、その際にガス管が埋められているとは知らずに掘ってしまうと、ガス管を傷つけたり、最悪の場合は割ってしまうなど、ガスが漏れて大きな事故につながる可能性が高まる為。\n",
       " \n",
       " 　同じ場所に複数の「G→」マークが貼られているのは、細かく表示することで、さらなる事故の回避を目的としているという訳です。つまり「G」はガス管の頭文字、矢印はガス管が伸びる方向性を示しているというわけ。\n",
       " \n",
       " 　ちなみにスコッチレーンとはアルミホイルを基材とし、シートの上から圧力を加えるだけで施工できる感圧性接着剤を塗布した路面標示材のこと。\n",
       " \n",
       " 　また、「G」の色にも緑色と赤色の2通りがあり、緑字はポリエチレン管、赤字は鋼管が埋まっています。とはいえ、古くからある金属製の管である鋼管は錆びによって老朽化し、ガス漏れが生じる可能性があるため、最近はポリエチレン管を採用することが多くなっているようで、赤字の「G→」マークは今ではかなり珍しいかもしれません。</p>,\n",
       " <p class=\"sc-eYKchh iHrcjg\">「ガス管用スコッチレーン」の道路標示は道路工事の際のガス事故を防ぐ為の物</p>,\n",
       " <p class=\"sc-gDyJDg dmrAcv yjSlinkDirectlink highLightSearchTarget\">　なお「G→」マーク、もといガス管用スコッチレーンは、ショッピングサイトなどで誰でも簡単に購入することが可能。大手通販サイトなどでも販売されており、価格は200円から300円ほどです。\n",
       " \n",
       " 　しかし簡単に入手できるからといって勝手に道路に貼り付けると、屋外広告物条例に抵触する可能性があるので要注意。\n",
       " \n",
       " 　屋外広告物条例に違反した場合は罰則が科せられますが、都道府県や都市など各地方公共団体で罰則内容は異なります。\n",
       "  \n",
       " 　例えば大阪府の場合は、1年以下の懲役や50万円以下の罰金などが科されます。また、違反行為をおこなった本人だけではなく、掲示を指示した人に対しても罰則の規定が適用されるので覚えておきましょう。\n",
       " \n",
       " 　また、「G→」マークとは別に、黄色いチョークでGと書かれた印も存在します。\n",
       " \n",
       " 　この印もガス管が埋まっていることを示してはいるものの、基本的に仮舗装された部分に記されることが多いようです。\n",
       " \n",
       " ※　※　※\n",
       " \n",
       " 　道路に施されたさまざまな道路標示には、きちんと意味や役割が存在します。バイクの交通ルールに直接関係あるものからそうでないものまで、その種類は多岐に渡りますが、それぞれの意味を理解しておけば、より楽しいバイクライフを送れるはず！\n",
       " \n",
       " 　気になる道路標示があれば、その意味を是非調べてみるようにしましょう。</p>,\n",
       " <p class=\"sc-eqLmJG fvWiKM\">Peacock Blue K.K.</p>]"
      ]
     },
     "execution_count": 109,
     "metadata": {},
     "output_type": "execute_result"
    }
   ],
   "source": [
    "paragraph[6:12]"
   ]
  },
  {
   "cell_type": "code",
   "execution_count": null,
   "id": "d63f6e17-2059-4493-ace0-a67c03c438b3",
   "metadata": {},
   "outputs": [],
   "source": []
  }
 ],
 "metadata": {
  "kernelspec": {
   "display_name": "Python 3 (ipykernel)",
   "language": "python",
   "name": "python3"
  },
  "language_info": {
   "codemirror_mode": {
    "name": "ipython",
    "version": 3
   },
   "file_extension": ".py",
   "mimetype": "text/x-python",
   "name": "python",
   "nbconvert_exporter": "python",
   "pygments_lexer": "ipython3",
   "version": "3.11.4"
  }
 },
 "nbformat": 4,
 "nbformat_minor": 5
}
