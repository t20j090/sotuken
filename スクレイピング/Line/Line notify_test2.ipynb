{
 "cells": [
  {
   "cell_type": "code",
   "execution_count": 19,
   "id": "a21dd215-2d94-449f-8d94-df16c2fe70e2",
   "metadata": {},
   "outputs": [],
   "source": [
    "def main():\n",
    "    for article_url in article_urls:\n",
    "        send_line_notify('テスト', article_url)\n",
    "\n",
    "def send_line_notify(notification_message, url):\n",
    "    \"\"\"\n",
    "    Lineに通知する\n",
    "    \"\"\"\n",
    "    line_notify_token = 'LMr5ZeQuAsAz6GMxaMJyzLuhGBO3VvVIFxTwfSLUvz0'\n",
    "    line_notify_api = 'https://notify-api.line.me/api/notify'\n",
    "    headers = {'Authorization': f'Bearer {line_notify_token}'}\n",
    "    data = {'message': url}\n",
    "    requests.post(line_notify_api, headers = headers, data = data)\n",
    "\n",
    "if __name__ == \"__main__\":\n",
    "    main()"
   ]
  },
  {
   "cell_type": "code",
   "execution_count": 4,
   "id": "a3ad0c55-d3cc-4e0a-bb1e-be6dfbd9f953",
   "metadata": {},
   "outputs": [],
   "source": [
    "from bs4 import BeautifulSoup\n",
    "import requests\n",
    "import time\n",
    "\n",
    "def scraping(topic):\n",
    "    url = 'https://news.yahoo.co.jp/'\n",
    "    r = requests.get(url)\n",
    "    soup = BeautifulSoup(r.text, \"html.parser\")\n",
    "    elements = soup.select('.sc-fKgJPI.fFnFHR')\n",
    "    \n",
    "    articles_dict = []\n",
    "    topic = topic \n",
    "    #トピックのURL取得\n",
    "    for i, element in enumerate(elements):\n",
    "        if topic in element.text:\n",
    "            categories_num = i\n",
    "    \n",
    "    element = elements[categories_num]\n",
    "    topic_url= element.a['href']\n",
    "    URL = url + topic_url\n",
    "    \n",
    "    r = requests.get(URL)\n",
    "    soup = BeautifulSoup(r.text, \"html.parser\")\n",
    "    elements = soup.select('.sc-fXazdy.UjHkE')\n",
    "    elements = elements[:5]\n",
    "    \n",
    "    news_urls = []\n",
    "    news_titles = []\n",
    "    #ニュースのURLとタイトルを取得\n",
    "    for element in elements:\n",
    "        url = element.a['href']\n",
    "        title = element.text[1:]\n",
    "        news_urls.append(url)\n",
    "        news_titles.append(title)\n",
    "        time.sleep(1)\n",
    "    \n",
    "    news_text = []\n",
    "    \n",
    "    for news_url in news_urls:\n",
    "        r = requests.get(news_url)\n",
    "        soup = BeautifulSoup(r.text, \"html.parser\")\n",
    "        elements = soup.select('.sc-dYXZXt.jzZUwL.yjSlinkDirectlink.highLightSearchTarget')\n",
    "\n",
    "        #ニュース記事のページ数が複数のときの例外処理\n",
    "        for i in range(0, 5):\n",
    "            try:\n",
    "                if (i == 0):\n",
    "                    text = elements[0].text\n",
    "                else:\n",
    "                    text += elements[i].text\n",
    "            except:\n",
    "                pass\n",
    "                \n",
    "        page_num = len(soup.select('.sc-bxLXlR.kerziU'))\n",
    "        #ページ数が複数のとき、ページ遷移し本文を取得\n",
    "        if (page_num > 0):\n",
    "            for i in range(2, page_num + 1):\n",
    "                news_url_page = news_url + \"?page=\" + str(page_num)\n",
    "                r = requests.get(news_url_page)\n",
    "                soup = BeautifulSoup(r.text, \"html.parser\")\n",
    "                elements = soup.select('.sc-dYXZXt.jzZUwL.yjSlinkDirectlink.highLightSearchTarget')\n",
    "                text += elements[0].text\n",
    "\n",
    "        print(i)\n",
    "        print(text)\n",
    "        \n",
    "        news_text.append(text)\n",
    "    \n",
    "        time.sleep(1)\n",
    "    \n",
    "    articles = []\n",
    "    for url, title, text in zip(news_urls, news_titles, news_text):\n",
    "        article = {\n",
    "            \"title\" : title,\n",
    "            \"URL\" : url,\n",
    "            \"text\" : text\n",
    "        }\n",
    "        articles.append(article)\n",
    "\n",
    "    return articles\n",
    "    "
   ]
  },
  {
   "cell_type": "code",
   "execution_count": 2,
   "id": "e7ce50fa-78a6-41b6-8e2c-18f21275ec25",
   "metadata": {},
   "outputs": [],
   "source": [
    "def clean_data(articles):\n",
    "    for i in range(len(articles)):\n",
    "        articles[i]['title'] = articles[i]['title'].replace('\\u3000', '') \n",
    "        articles[i]['title'] = articles[i]['title'].lstrip('0123456789')\n",
    "        articles[i]['text'] = articles[i]['text'].replace('\\u3000', '')\n",
    "        articles[i]['text'] = articles[i]['text'].replace('\\n', '')\n",
    "\n",
    "    return articles"
   ]
  },
  {
   "cell_type": "code",
   "execution_count": 5,
   "id": "7a17c5e0-83f6-4dca-a655-30b99c6b23a2",
   "metadata": {},
   "outputs": [
    {
     "name": "stdout",
     "output_type": "stream",
     "text": [
      "4\n"
     ]
    },
    {
     "ename": "UnboundLocalError",
     "evalue": "cannot access local variable 'text' where it is not associated with a value",
     "output_type": "error",
     "traceback": [
      "\u001b[1;31m---------------------------------------------------------------------------\u001b[0m",
      "\u001b[1;31mUnboundLocalError\u001b[0m                         Traceback (most recent call last)",
      "Cell \u001b[1;32mIn[5], line 1\u001b[0m\n\u001b[1;32m----> 1\u001b[0m articles_dict \u001b[38;5;241m=\u001b[39m \u001b[43mscraping\u001b[49m\u001b[43m(\u001b[49m\u001b[38;5;124;43m'\u001b[39;49m\u001b[38;5;124;43m経済\u001b[39;49m\u001b[38;5;124;43m'\u001b[39;49m\u001b[43m)\u001b[49m\n\u001b[0;32m      2\u001b[0m articles \u001b[38;5;241m=\u001b[39m clean_data(articles_dict)\n",
      "Cell \u001b[1;32mIn[4], line 65\u001b[0m, in \u001b[0;36mscraping\u001b[1;34m(topic)\u001b[0m\n\u001b[0;32m     62\u001b[0m         text \u001b[38;5;241m+\u001b[39m\u001b[38;5;241m=\u001b[39m elements[\u001b[38;5;241m0\u001b[39m]\u001b[38;5;241m.\u001b[39mtext\n\u001b[0;32m     64\u001b[0m \u001b[38;5;28mprint\u001b[39m(i)\n\u001b[1;32m---> 65\u001b[0m \u001b[38;5;28mprint\u001b[39m(\u001b[43mtext\u001b[49m)\n\u001b[0;32m     67\u001b[0m news_text\u001b[38;5;241m.\u001b[39mappend(text)\n\u001b[0;32m     69\u001b[0m time\u001b[38;5;241m.\u001b[39msleep(\u001b[38;5;241m1\u001b[39m)\n",
      "\u001b[1;31mUnboundLocalError\u001b[0m: cannot access local variable 'text' where it is not associated with a value"
     ]
    }
   ],
   "source": [
    "articles_dict = scraping('経済')\n",
    "articles = clean_data(articles_dict)"
   ]
  },
  {
   "cell_type": "code",
   "execution_count": 16,
   "id": "2d73824b-072d-4f5d-967a-249947cbe683",
   "metadata": {},
   "outputs": [],
   "source": [
    "article_urls = []\n",
    "for i, article in enumerate(articles):\n",
    "    article_urls.append(articles[i]['URL'])"
   ]
  },
  {
   "cell_type": "code",
   "execution_count": 17,
   "id": "3775c38d-2d31-47f6-9c3c-30482a87c30e",
   "metadata": {},
   "outputs": [
    {
     "data": {
      "text/plain": [
       "['https://news.yahoo.co.jp/articles/b06ed103af6685e8d550cb51f787f54a9ab05540',\n",
       " 'https://news.yahoo.co.jp/articles/a00b3fb475d00dd2f98ceb25c19f24c66e6454a2',\n",
       " 'https://news.yahoo.co.jp/articles/5d423fdaf18612f73e3a1885e817d5245b299a58',\n",
       " 'https://news.yahoo.co.jp/articles/38ad8e92cfdf6be0f5e163b1956f28a327bd9b7a',\n",
       " 'https://news.yahoo.co.jp/articles/f43cb83065c79b0b6d0bc8cef20c0fe2291f865f']"
      ]
     },
     "execution_count": 17,
     "metadata": {},
     "output_type": "execute_result"
    }
   ],
   "source": [
    "article_urls"
   ]
  },
  {
   "cell_type": "code",
   "execution_count": null,
   "id": "1a4ea015-e222-476b-9e98-84bd777cef75",
   "metadata": {},
   "outputs": [],
   "source": []
  }
 ],
 "metadata": {
  "kernelspec": {
   "display_name": "Python 3 (ipykernel)",
   "language": "python",
   "name": "python3"
  },
  "language_info": {
   "codemirror_mode": {
    "name": "ipython",
    "version": 3
   },
   "file_extension": ".py",
   "mimetype": "text/x-python",
   "name": "python",
   "nbconvert_exporter": "python",
   "pygments_lexer": "ipython3",
   "version": "3.11.4"
  }
 },
 "nbformat": 4,
 "nbformat_minor": 5
}
