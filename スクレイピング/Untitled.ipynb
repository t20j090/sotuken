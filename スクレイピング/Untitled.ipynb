{
 "cells": [
  {
   "cell_type": "code",
   "execution_count": 13,
   "id": "7fba1fa5-0133-4f61-b6d0-9f595d9a0ffa",
   "metadata": {},
   "outputs": [],
   "source": [
    "def yahoo_news_ranking():\n",
    "    url = 'https://news.yahoo.co.jp'\n",
    "    r = requests.get(url)\n",
    "    soup = BeautifulSoup(r.text, \"html.parser\")\n",
    "    elements = soup.select('.sc-dvXYtj.iduHXF')\n",
    "    elements = elements[:5]\n",
    "    \n",
    "    news_urls = []\n",
    "    for element in elements:\n",
    "        link = element.a['href']\n",
    "        news_urls.append(link)\n",
    "    \n",
    "    return news_urls"
   ]
  },
  {
   "cell_type": "code",
   "execution_count": 14,
   "id": "2ec30d20-8b03-4882-b4cc-9405eb84ff20",
   "metadata": {},
   "outputs": [],
   "source": [
    "from bs4 import BeautifulSoup\n",
    "import requests\n",
    "import time"
   ]
  },
  {
   "cell_type": "code",
   "execution_count": 15,
   "id": "39717e9b-f8fe-4f74-98b8-f1140d678548",
   "metadata": {},
   "outputs": [],
   "source": [
    "a = yahoo_news_ranking()"
   ]
  },
  {
   "cell_type": "code",
   "execution_count": 16,
   "id": "f80521ec-3e18-41f3-8772-e0925ee554bd",
   "metadata": {},
   "outputs": [
    {
     "data": {
      "text/plain": [
       "['https://news.yahoo.co.jp/articles/2b8d882563b53dc19c863184f79c00ebdf684d74',\n",
       " 'https://news.yahoo.co.jp/articles/fd1301eb425940114172959550b3c7ae9be52c03',\n",
       " 'https://news.yahoo.co.jp/articles/6af5eb9f1340d40b0b4aee733d141ce12478ce7a',\n",
       " 'https://news.yahoo.co.jp/articles/3460da9ae3fa903dd06583911329451c13c20663',\n",
       " 'https://news.yahoo.co.jp/articles/0d9664c60cc58545662e595d0139b55f4fe6864f']"
      ]
     },
     "execution_count": 16,
     "metadata": {},
     "output_type": "execute_result"
    }
   ],
   "source": [
    "a"
   ]
  },
  {
   "cell_type": "code",
   "execution_count": null,
   "id": "0c63dafc-a271-482c-a602-6e69a070bc26",
   "metadata": {},
   "outputs": [],
   "source": [
    "url = 'https://news.yahoo.co.jp/ranking/access/news'\n",
    "r = requests.get(url)\n",
    "soup = BeautifulSoup(r.text, \"html.parser\")\n",
    "elements = soup.select('.sc-dvXYtj.iduHXF')\n",
    "elements = elements[:5]\n",
    "\n",
    "news_urls = []\n",
    "for element in elements:\n",
    "    link = element.a['href']\n",
    "    news_urls.append(link)"
   ]
  }
 ],
 "metadata": {
  "kernelspec": {
   "display_name": "Python 3 (ipykernel)",
   "language": "python",
   "name": "python3"
  },
  "language_info": {
   "codemirror_mode": {
    "name": "ipython",
    "version": 3
   },
   "file_extension": ".py",
   "mimetype": "text/x-python",
   "name": "python",
   "nbconvert_exporter": "python",
   "pygments_lexer": "ipython3",
   "version": "3.11.4"
  }
 },
 "nbformat": 4,
 "nbformat_minor": 5
}
