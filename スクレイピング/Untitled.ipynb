{
 "cells": [
  {
   "cell_type": "code",
   "execution_count": 1,
   "id": "76c3b6e4-fd67-46f8-862c-cb6b1ec83fa7",
   "metadata": {},
   "outputs": [],
   "source": [
    "from bs4 import BeautifulSoup\n",
    "import requests\n",
    "import time\n",
    "\n",
    "def sankei_news_text(url):\n",
    "    r = requests.get(url)\n",
    "    soup = BeautifulSoup(r.text, \"html.parser\")\n",
    "    elements = soup.select('.article-text')\n",
    "\n",
    "    time.sleep(0.2)\n",
    "\n",
    "    text = ''\n",
    "    for element in elements:\n",
    "        text += element.text\n",
    "    \n",
    "    text = text.replace('\\u3000', '')\n",
    "    text = text.replace('\\n', '')\n",
    "\n",
    "    return text"
   ]
  },
  {
   "cell_type": "code",
   "execution_count": 2,
   "id": "1cfee989-9ec6-418e-9c5d-3c3700a4913f",
   "metadata": {},
   "outputs": [
    {
     "data": {
      "text/plain": [
       "'高市早苗経済安全保障担当相は６日、自身を中心とする自民党内の勉強会「『日本のチカラ』研究会」の第２回会合を国会内で開き、政府の対外情報収集体制の強化が必要だとの認識を示した。出席者の一人は「次期党総裁選の高市氏の公約になるだろう」と話した。出席者によると、この日は有識者から政府の対外情報収集体制に関する講演を聞いた。省庁間の摩擦や主導権争いといった課題が挙げられ、高市氏は内閣が強い覚悟で体制整備をすべきだとの考えを示した。勉強会の関係者によると、会員は６日時点で４７人になったが、この日の出席者は初回より３人少ない１０人にとどまった。岸田文雄内閣の支持率が下落する中、出席者からは「派閥の締め付けがある」との声も漏れた。会合後には東京都内で懇親会が行われた。参加議員は「高市派の旗揚げだ。タイミングもいい」と述べ、総裁選に向けた地盤固めの好機とみる。岸田首相は党内主要派閥の支持を受け、その派閥はパーティー券問題で揺らいでいるだけに、女性で無派閥の高市氏は「起死回生のカードになる」（中堅議員）との計算も働いている。次回勉強会は来年１月下旬に開催する。次回の参加人数に注目が集まる。（長橋和之）'"
      ]
     },
     "execution_count": 2,
     "metadata": {},
     "output_type": "execute_result"
    }
   ],
   "source": [
    "sankei_news_text('https://www.sankei.com/article/20231206-SZQ3BHVZ6BPBVC5AMOQHNEYDDM/')"
   ]
  },
  {
   "cell_type": "code",
   "execution_count": null,
   "id": "999a2936-6e37-4187-97ef-7150c60a04c0",
   "metadata": {},
   "outputs": [],
   "source": []
  }
 ],
 "metadata": {
  "kernelspec": {
   "display_name": "Python 3 (ipykernel)",
   "language": "python",
   "name": "python3"
  },
  "language_info": {
   "codemirror_mode": {
    "name": "ipython",
    "version": 3
   },
   "file_extension": ".py",
   "mimetype": "text/x-python",
   "name": "python",
   "nbconvert_exporter": "python",
   "pygments_lexer": "ipython3",
   "version": "3.11.4"
  }
 },
 "nbformat": 4,
 "nbformat_minor": 5
}
