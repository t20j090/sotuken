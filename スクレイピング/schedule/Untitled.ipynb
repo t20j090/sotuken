{
 "cells": [
  {
   "cell_type": "code",
   "execution_count": 3,
   "id": "636e509f-87da-4185-aaa9-0038fb27ba67",
   "metadata": {},
   "outputs": [],
   "source": [
    "def news_ranking():\n",
    "    url = 'https://news.yahoo.co.jp/ranking/access/news'\n",
    "    r = requests.get(url)\n",
    "    soup = BeautifulSoup(r.text, \"html.parser\")\n",
    "    elements = soup.select('.newsFeed_item.newsFeed_item-normal.newsFeed_item-ranking')\n",
    "    elements = elements[:5]\n",
    "    \n",
    "    news_urls = []\n",
    "    for element in elements:\n",
    "        url = element.a['href']\n",
    "        news_urls.append(url)"
   ]
  },
  {
   "cell_type": "code",
   "execution_count": 2,
   "id": "19bca936-cda4-4d8e-ad10-d4625e4fa042",
   "metadata": {},
   "outputs": [],
   "source": [
    "from bs4 import BeautifulSoup\n",
    "import requests\n",
    "import time\n",
    "import datetime\n",
    "import schedule"
   ]
  },
  {
   "cell_type": "code",
   "execution_count": null,
   "id": "99c43875-ad98-4043-adf9-7f038719fc35",
   "metadata": {},
   "outputs": [
    {
     "name": "stdout",
     "output_type": "stream",
     "text": [
      "https://news.yahoo.co.jp/articles/0244cc3a168c7280a7a23e2ef45195d980a292a2\n",
      "https://news.yahoo.co.jp/articles/5dfd9bc80dab57ff524f99dd7e294808b9e05e51\n",
      "https://news.yahoo.co.jp/articles/d56c90d865d42bd0864e4c5fd3eb77003c45131e\n",
      "https://news.yahoo.co.jp/articles/268e9798307bac1fcdf9d715d9ef63305e5284c8\n",
      "https://news.yahoo.co.jp/articles/9907fc6a265c98ff75a8d24ee774ab59d4fbea01\n"
     ]
    }
   ],
   "source": [
    "schedule.every().day.at(\"14:33\").do(news_ranking) \n",
    "\n",
    "while True:\n",
    "    schedule.run_pending()\n",
    "    time.sleep(60)"
   ]
  },
  {
   "cell_type": "code",
   "execution_count": null,
   "id": "9149ece5-39fb-4567-9790-3de18e73644e",
   "metadata": {},
   "outputs": [],
   "source": []
  }
 ],
 "metadata": {
  "kernelspec": {
   "display_name": "Python 3 (ipykernel)",
   "language": "python",
   "name": "python3"
  },
  "language_info": {
   "codemirror_mode": {
    "name": "ipython",
    "version": 3
   },
   "file_extension": ".py",
   "mimetype": "text/x-python",
   "name": "python",
   "nbconvert_exporter": "python",
   "pygments_lexer": "ipython3",
   "version": "3.11.4"
  }
 },
 "nbformat": 4,
 "nbformat_minor": 5
}
