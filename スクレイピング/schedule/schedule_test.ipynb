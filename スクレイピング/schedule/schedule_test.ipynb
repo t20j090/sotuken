{
 "cells": [
  {
   "cell_type": "code",
   "execution_count": null,
   "id": "1e4f01f5-c1ae-40de-8c60-9c8a8e5b4de5",
   "metadata": {},
   "outputs": [
    {
     "name": "stdout",
     "output_type": "stream",
     "text": [
      "2023-05-26 15:41:20.775749\n",
      "I'm working...\n"
     ]
    }
   ],
   "source": [
    "import datetime\n",
    "import schedule\n",
    "import time\n",
    "\n",
    "def job():\n",
    "  print(datetime.datetime.now())\n",
    "  print(\"I'm working...\")  \n",
    "\n",
    "schedule.every().day.at(\"15:41\").do(job)\n",
    "  \n",
    "while True:\n",
    "  schedule.run_pending()\n",
    "  time.sleep(60)"
   ]
  },
  {
   "cell_type": "code",
   "execution_count": null,
   "id": "154e423b-7fdf-4b60-ad5f-b4dfa2b90289",
   "metadata": {},
   "outputs": [],
   "source": []
  }
 ],
 "metadata": {
  "kernelspec": {
   "display_name": "Python 3 (ipykernel)",
   "language": "python",
   "name": "python3"
  },
  "language_info": {
   "codemirror_mode": {
    "name": "ipython",
    "version": 3
   },
   "file_extension": ".py",
   "mimetype": "text/x-python",
   "name": "python",
   "nbconvert_exporter": "python",
   "pygments_lexer": "ipython3",
   "version": "3.11.4"
  }
 },
 "nbformat": 4,
 "nbformat_minor": 5
}
