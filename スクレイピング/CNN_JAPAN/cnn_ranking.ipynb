{
 "cells": [
  {
   "cell_type": "code",
   "execution_count": 1,
   "id": "50ff82e0-c50e-40b5-b2c8-ea66050713a6",
   "metadata": {},
   "outputs": [],
   "source": [
    "from bs4 import BeautifulSoup\n",
    "import requests\n",
    "import time"
   ]
  },
  {
   "cell_type": "code",
   "execution_count": 42,
   "id": "3f1c73ce-dd6f-46d3-b94a-ef36ec3e9873",
   "metadata": {},
   "outputs": [],
   "source": [
    "url = 'https://www.cnn.co.jp/world/'\n",
    "r = requests.get(url)\n",
    "soup = BeautifulSoup(r.text, \"html.parser\")\n",
    "elements = soup.select('.list-rank li a')\n",
    "\n",
    "news_urls = []\n",
    "news_titles = []\n",
    "# ニュースのURLとタイトルを取得\n",
    "for element in elements:\n",
    "    link = 'https://www.cnn.co.jp' + element.get('href')\n",
    "    title = element.text.strip()  # タイトルから不要な空白を削除\n",
    "    \n",
    "    news_urls.append(link)\n",
    "    news_titles.append(title)\n",
    "    \n",
    "    time.sleep(0.5)"
   ]
  },
  {
   "cell_type": "code",
   "execution_count": 43,
   "id": "01a4400b-ccf8-41c2-9815-5b46b493a9fa",
   "metadata": {},
   "outputs": [
    {
     "data": {
      "text/plain": [
       "['https://www.cnn.co.jp/showbiz/35206994.html',\n",
       " 'https://www.cnn.co.jp/world/35207145.html',\n",
       " 'https://www.cnn.co.jp/world/35207100.html',\n",
       " 'https://www.cnn.co.jp/world/35206988.html',\n",
       " 'https://www.cnn.co.jp/showbiz/35206947.html']"
      ]
     },
     "execution_count": 43,
     "metadata": {},
     "output_type": "execute_result"
    }
   ],
   "source": [
    "news_urls"
   ]
  },
  {
   "cell_type": "code",
   "execution_count": 39,
   "id": "726c2564-2e57-42db-a2d0-c106fbf4fb54",
   "metadata": {},
   "outputs": [
    {
     "data": {
      "text/plain": [
       "['レブロン・ジェームズ選手の長男が心停止、大学でのバスケ練習中に\\u3000米07/26',\n",
       " 'ウクライナ反攻、ロシアの対戦車障害物「竜の歯」に到達\\u3000動画浮上07/28',\n",
       " 'イラン「最高指導部」で内紛、ロシアへ無人機供与で\\u3000英ＭＩ６07/27',\n",
       " 'ウクライナ軍、東部バフムート周辺で前進07/26',\n",
       " 'サッカー女子Ｗ杯\\u3000英ＢＢＣが謝罪、モロッコ代表主将に「不適切」質問07/25']"
      ]
     },
     "execution_count": 39,
     "metadata": {},
     "output_type": "execute_result"
    }
   ],
   "source": [
    "news_titles"
   ]
  },
  {
   "cell_type": "code",
   "execution_count": null,
   "id": "6e157073-033a-4d25-8031-8026a47023c7",
   "metadata": {},
   "outputs": [],
   "source": []
  }
 ],
 "metadata": {
  "kernelspec": {
   "display_name": "Python 3 (ipykernel)",
   "language": "python",
   "name": "python3"
  },
  "language_info": {
   "codemirror_mode": {
    "name": "ipython",
    "version": 3
   },
   "file_extension": ".py",
   "mimetype": "text/x-python",
   "name": "python",
   "nbconvert_exporter": "python",
   "pygments_lexer": "ipython3",
   "version": "3.11.4"
  }
 },
 "nbformat": 4,
 "nbformat_minor": 5
}
