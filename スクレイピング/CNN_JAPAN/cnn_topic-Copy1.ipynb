{
 "cells": [
  {
   "cell_type": "code",
   "execution_count": 25,
   "id": "bbe4d0ea-35b1-4eaa-a744-2746857fc238",
   "metadata": {},
   "outputs": [],
   "source": [
    "from bs4 import BeautifulSoup\n",
    "import requests\n",
    "import time\n",
    "\n",
    "def cnn_news_scarping(topic):\n",
    "    url = 'https://www.cnn.co.jp'\n",
    "    r = requests.get(url)\n",
    "    soup = BeautifulSoup(r.text, \"html.parser\")\n",
    "    \n",
    "    #クラス名が変わるので注意！！\n",
    "    elements = soup.select('.pg-container li a')\n",
    "    elements = elements[6:11] + [elements[14], elements[16]]\n",
    "    \n",
    "    topic = topic\n",
    "    #トピックのURL取得\n",
    "    for i, element in enumerate(elements):\n",
    "        if topic in element.text:\n",
    "            categories_num = i\n",
    "    \n",
    "    element = elements[categories_num]\n",
    "    \n",
    "    topic_url = element['href']\n",
    "    URL = url + topic_url\n",
    "    \n",
    "    r = requests.get(URL)\n",
    "    soup = BeautifulSoup(r.text, \"html.parser\")\n",
    "    \n",
    "    #クラス名が変わるので注意！！\n",
    "    elements = soup.select('.cd a')\n",
    "    \n",
    "    elements = elements[:3]\n",
    "    \n",
    "    news_urls = []\n",
    "    news_titles = []\n",
    "    #ニュースのURLとタイトルを取得\n",
    "    for element in elements:\n",
    "        news_url =  url + element['href']\n",
    "        news_title = element.text\n",
    "    \n",
    "        news_urls.append(news_url)\n",
    "        news_titles.append(news_title)\n",
    "    \n",
    "    news_text = []\n",
    "    #ニュースの本文を取得\n",
    "    for i, news_url in enumerate(news_urls):\n",
    "        text = \"\"\n",
    "        \n",
    "        for j in range(1, 7):\n",
    "            num = str(j)\n",
    "            page = '-' + num + '.html'    \n",
    "            # 文字列の置換を行い新しいURLを生成\n",
    "            news_url_page = news_urls[i].replace('.html', page)\n",
    "    \n",
    "            #ページ数が複数のとき、ページ遷移し本文を取得\n",
    "            response = requests.get(news_url_page)\n",
    "    \n",
    "            # レスポンスのステータスコードを確認\n",
    "            if response.status_code != 404: \n",
    "                r = requests.get(news_url_page)\n",
    "                soup = BeautifulSoup(r.text, \"html.parser\")\n",
    "                #クラス名が変わるので注意！！ \n",
    "                elements = soup.find(id = 'leaf-body')\n",
    "                text += elements.text\n",
    "            else:\n",
    "                continue\n",
    "    \n",
    "        news_text.append(text)\n",
    "\n",
    "    articles = []\n",
    "    for url, title, text in zip(news_urls, news_titles, news_text):\n",
    "        article = {\n",
    "            \"title\" : title,\n",
    "            \"URL\" : url,\n",
    "            \"text\" : text\n",
    "        }\n",
    "        articles.append(article)\n",
    "\n",
    "    return articles"
   ]
  },
  {
   "cell_type": "code",
   "execution_count": 24,
   "id": "e155037c-5384-456e-8f5d-103c05e50b51",
   "metadata": {},
   "outputs": [],
   "source": [
    "def clean_data(articles):\n",
    "    for i in range(len(articles)):\n",
    "        articles[i]['title'] = articles[i]['title'].replace('\\u3000', '') \n",
    "        articles[i]['title'] = articles[i]['title'].lstrip('0123456789')\n",
    "        articles[i]['text'] = articles[i]['text'].replace('\\u3000', '')\n",
    "        articles[i]['text'] = articles[i]['text'].replace('\\n', '')\n",
    "\n",
    "    return articles"
   ]
  },
  {
   "cell_type": "code",
   "execution_count": 28,
   "id": "e47e99b9-513a-432f-986f-9afb0662d7df",
   "metadata": {},
   "outputs": [],
   "source": [
    "a = cnn_news_scarping('USA')"
   ]
  },
  {
   "cell_type": "code",
   "execution_count": 30,
   "id": "21d21927-a87e-4b01-9b73-6a88b034845a",
   "metadata": {},
   "outputs": [],
   "source": [
    "a = clean_data(a)"
   ]
  },
  {
   "cell_type": "code",
   "execution_count": null,
   "id": "0a70d704-69d2-4e9f-a218-4776cbb4cc7d",
   "metadata": {},
   "outputs": [],
   "source": []
  },
  {
   "cell_type": "code",
   "execution_count": null,
   "id": "bba02a59-24cb-499e-8ffc-b11be9d50d05",
   "metadata": {},
   "outputs": [],
   "source": []
  }
 ],
 "metadata": {
  "kernelspec": {
   "display_name": "Python 3 (ipykernel)",
   "language": "python",
   "name": "python3"
  },
  "language_info": {
   "codemirror_mode": {
    "name": "ipython",
    "version": 3
   },
   "file_extension": ".py",
   "mimetype": "text/x-python",
   "name": "python",
   "nbconvert_exporter": "python",
   "pygments_lexer": "ipython3",
   "version": "3.11.4"
  }
 },
 "nbformat": 4,
 "nbformat_minor": 5
}
