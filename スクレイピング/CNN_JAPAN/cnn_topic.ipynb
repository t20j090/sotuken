{
 "cells": [
  {
   "cell_type": "code",
   "execution_count": 77,
   "id": "099a9a9d-4192-4ac8-8514-6f7de7771ebc",
   "metadata": {},
   "outputs": [],
   "source": [
    "from bs4 import BeautifulSoup\n",
    "import requests\n",
    "import time"
   ]
  },
  {
   "cell_type": "code",
   "execution_count": 78,
   "id": "3adb22f3-1be0-4559-a39e-f0d40843d30f",
   "metadata": {},
   "outputs": [],
   "source": [
    "url = 'https://www.cnn.co.jp'\n",
    "r = requests.get(url)\n",
    "soup = BeautifulSoup(r.text, \"html.parser\")"
   ]
  },
  {
   "cell_type": "code",
   "execution_count": 79,
   "id": "2ba9a0d8-e829-4943-adae-492373a348db",
   "metadata": {},
   "outputs": [],
   "source": [
    "#クラス名が変わるので注意！！\n",
    "elements = soup.select('.pg-container li a')"
   ]
  },
  {
   "cell_type": "code",
   "execution_count": 80,
   "id": "b2ae28fc-5e42-4c0b-8dcb-bd4039eda1de",
   "metadata": {},
   "outputs": [],
   "source": [
    "elements = elements[6:11] + [elements[14], elements[16]]"
   ]
  },
  {
   "cell_type": "code",
   "execution_count": 84,
   "id": "1595fa7f-a011-407d-aa78-d5a66b2afe34",
   "metadata": {},
   "outputs": [],
   "source": [
    "topic = 'World'\n",
    "#トピックのURL取得\n",
    "for i, element in enumerate(elements):\n",
    "    if topic in element.text:\n",
    "        #トピックのURLとトピック名が違う\n",
    "        categories_num = i"
   ]
  },
  {
   "cell_type": "code",
   "execution_count": 85,
   "id": "f3c8ea79-15c6-4820-9cf2-7c7d8a54bc49",
   "metadata": {},
   "outputs": [
    {
     "data": {
      "text/plain": [
       "[<a href=\"/world/\">World</a>,\n",
       " <a href=\"/usa/\">USA</a>,\n",
       " <a href=\"/business/\">Business</a>,\n",
       " <a href=\"/tech/\">Tech</a>,\n",
       " <a href=\"/showbiz/\">Entertainment</a>,\n",
       " <a href=\"/fringe/\">Odd News</a>,\n",
       " <a href=\"/opinion/\">Opinion</a>]"
      ]
     },
     "execution_count": 85,
     "metadata": {},
     "output_type": "execute_result"
    }
   ],
   "source": [
    "elements"
   ]
  },
  {
   "cell_type": "code",
   "execution_count": 62,
   "id": "4de6febd-b76e-445d-a916-cf942a899237",
   "metadata": {},
   "outputs": [],
   "source": [
    "element = elements[categories_num]"
   ]
  },
  {
   "cell_type": "code",
   "execution_count": 63,
   "id": "931ca2a7-1d8a-4d51-8e92-9045709aceb3",
   "metadata": {},
   "outputs": [],
   "source": [
    "topic_url = element['href']\n",
    "URL = url + topic_url"
   ]
  },
  {
   "cell_type": "code",
   "execution_count": 64,
   "id": "2de64312-1ec8-4161-bbc0-2559008bff0d",
   "metadata": {},
   "outputs": [],
   "source": [
    "r = requests.get(URL)\n",
    "soup = BeautifulSoup(r.text, \"html.parser\")"
   ]
  },
  {
   "cell_type": "code",
   "execution_count": 65,
   "id": "0d903f2d-dffb-4e44-8678-e47b112483d0",
   "metadata": {},
   "outputs": [],
   "source": [
    "#クラス名が変わるので注意！！\n",
    "elements = soup.select('.cd a')"
   ]
  },
  {
   "cell_type": "code",
   "execution_count": 66,
   "id": "deae0e85-9bd1-4482-b5d0-335f1d912c14",
   "metadata": {},
   "outputs": [],
   "source": [
    "elements = elements[:3]"
   ]
  },
  {
   "cell_type": "code",
   "execution_count": 67,
   "id": "20bde955-9f1f-4074-933b-1e55ca7ccca9",
   "metadata": {},
   "outputs": [],
   "source": [
    "news_urls = []\n",
    "news_titles = []\n",
    "#ニュースのURLとタイトルを取得\n",
    "for element in elements:\n",
    "    news_url =  url + element['href']\n",
    "    news_title = element.text\n",
    "\n",
    "    news_urls.append(news_url)\n",
    "    news_titles.append(news_title)"
   ]
  },
  {
   "cell_type": "code",
   "execution_count": 68,
   "id": "a01c22b5-5c64-48c3-b872-cc88ecabd2f0",
   "metadata": {},
   "outputs": [],
   "source": [
    "news_text = []"
   ]
  },
  {
   "cell_type": "code",
   "execution_count": 73,
   "id": "3ed1c1a5-2b88-4891-9b66-d69300da129d",
   "metadata": {},
   "outputs": [],
   "source": [
    "news_url = news_urls[2]"
   ]
  },
  {
   "cell_type": "code",
   "execution_count": 74,
   "id": "030e8b3f-a966-4bf1-8291-f1dc45e7362c",
   "metadata": {},
   "outputs": [],
   "source": [
    "r = requests.get(news_url)\n",
    "soup = BeautifulSoup(r.text, \"html.parser\")\n",
    "#クラス名が変わるので注意！！ \n",
    "elements = soup.find(id = 'leaf-body')\n",
    "text = \"\""
   ]
  },
  {
   "cell_type": "code",
   "execution_count": 56,
   "id": "9ba1f27b-7972-41b7-b937-a9a61b644867",
   "metadata": {},
   "outputs": [],
   "source": [
    "for i in range(0, 8):\n",
    "    try:\n",
    "        if (i == 0):\n",
    "            text = elements[0].text\n",
    "        else:\n",
    "            text += elements[i].text\n",
    "    except:\n",
    "        pass\n",
    "\n",
    "    for i in range(8):\n",
    "        # 元のURL\n",
    "        news_url = 'https://www.cnn.co.jp/world/35207229.html'\n",
    "        \n",
    "        num = str(2)\n",
    "        page = '-' + num + '.html'\n",
    "        \n",
    "        # 文字列の置換を行い新しいURLを生成\n",
    "        news_url_page = news_url.replace('.html', page)\n",
    "            \n",
    "    "
   ]
  },
  {
   "cell_type": "code",
   "execution_count": null,
   "id": "533a830e-d2b8-4ff6-8248-808a91d14e1f",
   "metadata": {},
   "outputs": [],
   "source": []
  }
 ],
 "metadata": {
  "kernelspec": {
   "display_name": "Python 3 (ipykernel)",
   "language": "python",
   "name": "python3"
  },
  "language_info": {
   "codemirror_mode": {
    "name": "ipython",
    "version": 3
   },
   "file_extension": ".py",
   "mimetype": "text/x-python",
   "name": "python",
   "nbconvert_exporter": "python",
   "pygments_lexer": "ipython3",
   "version": "3.11.4"
  }
 },
 "nbformat": 4,
 "nbformat_minor": 5
}
