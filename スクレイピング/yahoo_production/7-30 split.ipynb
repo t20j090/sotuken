{
 "cells": [
  {
   "cell_type": "code",
   "execution_count": 25,
   "id": "26881a38-9382-43d7-9b63-9a604d3f98e7",
   "metadata": {},
   "outputs": [],
   "source": [
    "from bs4 import BeautifulSoup\n",
    "import requests\n",
    "import time\n",
    "\n",
    "url = 'https://news.yahoo.co.jp/'\n",
    "r = requests.get(url)\n",
    "soup = BeautifulSoup(r.text, \"html.parser\")\n",
    "\n",
    "list_item = soup.find_all('li')\n",
    "#もしかしたらエラーの原因になるかも\n",
    "list_item = list_item[12:21]\n",
    "\n",
    "# <a>要素からトピックを取得\n",
    "a_contents = [li.a for li in list_item]\n",
    "\n",
    "articles_dict = []\n",
    "topic = 'ライフ'\n",
    "#トピックのURL取得\n",
    "for i, a_content in enumerate(a_contents):\n",
    "    if topic in a_content.text:\n",
    "        categories_num = i\n",
    "\n",
    "a_content = a_contents[categories_num]\n",
    "\n",
    "topic_url = a_content['href']\n",
    "URL = url + topic_url\n",
    "\n",
    "r = requests.get(URL)\n",
    "soup = BeautifulSoup(r.text, \"html.parser\")\n",
    "#クラス名が変わる！！\n",
    "elements = soup.select('.sc-dvXYtj.iduHXF')\n",
    "\n",
    "elements = elements[:5]\n",
    "\n",
    "news_urls = []\n",
    "news_titles = []\n",
    "#ニュースのURLとタイトルを取得\n",
    "for element in elements:\n",
    "    url = element.a['href']\n",
    "    title = element.text[1:]\n",
    "    news_urls.append(url)\n",
    "    news_titles.append(title)\n",
    "    time.sleep(0.2)"
   ]
  },
  {
   "cell_type": "code",
   "execution_count": 26,
   "id": "f4eaa35d-c406-4c2a-896f-23e5ff917a6e",
   "metadata": {},
   "outputs": [
    {
     "data": {
      "text/plain": [
       "['「暑すぎて終わった」猛暑でカップヌードル売れず？\\u3000日清食品が吐いた本音にフォロー殺到ENCOUNT7/29(土)8:40',\n",
       " '「完全にやられた」孫の希望で迎えた豆柴に祖父が誰よりも“メロメロ”に…あまりの溺愛具合に家族が爆笑FNNプライムオンライン7/29(土)11:22',\n",
       " '木原副長官妻の取調官が異例の実名会見「事件はまだ終わっていない」不可解な捜査終結に激怒！日刊ゲンダイDIGITAL7/29(土)11:28',\n",
       " 'テレビがなく、NHKは「ラジオ」でしか聞いていません。受信料の支払いは必要でしょうか？ファイナンシャルフィールド7/29(土)11:30',\n",
       " '添い寝で荒ぶる子ねこ\\u3000必死の抵抗に悶絶する人が続出\\u3000「怪獣化したちびたん」Hint-Pot7/29(土)8:10']"
      ]
     },
     "execution_count": 26,
     "metadata": {},
     "output_type": "execute_result"
    }
   ],
   "source": [
    "news_titles"
   ]
  },
  {
   "cell_type": "code",
   "execution_count": 35,
   "id": "710f3b96-6f88-490f-96c6-a2be160726e3",
   "metadata": {},
   "outputs": [],
   "source": [
    "news_text = []\n",
    "#ニュースの本文を取得\n",
    "news_url = news_urls[0]\n",
    "r = requests.get(news_url)\n",
    "soup = BeautifulSoup(r.text, \"html.parser\")\n",
    "#クラス名が変わるので注意！！                         \n",
    "elements = soup.select('.sc-gDyJDg.dmrAcv.yjSlinkDirectlink.highLightSearchTarget')"
   ]
  },
  {
   "cell_type": "code",
   "execution_count": 36,
   "id": "1ef8c910-05c2-4e8c-aa04-6867bb07ee44",
   "metadata": {},
   "outputs": [
    {
     "data": {
      "text/plain": [
       "[<p class=\"sc-gDyJDg dmrAcv yjSlinkDirectlink highLightSearchTarget\">　危険な暑さが続く中で、手が伸びやすいのは冷たいもの。そんな現状を大手食品メーカー「日清食品」が嘆くCMが注目されている。カップヌードルの公式X（ツイッター）アカウントは高温が続く現状に「夏暑すぎて終わったわ　カプヌうまいのに売れてない」と恨み節。思わぬ投稿に、商品のファンからは「いつ食べてもうまいよ！」というエールのほか、夏におススメのレシピが集まるなど大反響となっている。同社の宣伝部に聞いた。\n",
       " \n",
       " <a data-cl-params=\"_cl_vmodule:related;_cl_link:photo;_cl_position:1;view_pos:1;shcid:76574fcf3dd57e12d32c6e04e3b8b7d54d4b1101;url:https%3A%2F%2Fencount.press%2Farchives%2F492169%2F2%2F%3Futm_source%3Dyahoonews%26utm_medium%3Drss%26utm_campaign%3D492169_6;title:【動画】「夏暑すぎて終わったわ」　300万回以上再生されているカップヌードルの新CM;\" href=\"https://encount.press/archives/492169/2/?utm_source=yahoonews&amp;utm_medium=rss&amp;utm_campaign=492169_6\">【動画】「夏暑すぎて終わったわ」　300万回以上再生されているカップヌードルの新CM</a>\n",
       " \n",
       " 　公式アカウントが「カプヌうまいのに売れてない」と投稿したのは7月18日のこと。画像や動画もない……、寂しい投稿にファンは仰天。1369万3000件も表示されたつぶやきには、「安心して下さい！食べてますよ！」「冷房でキンキンに冷えた部屋で食べるとうまい」「カプヌはいつ食べても美味いよ！！」というコメントと共に、9万5000件のいいねが集まり、担当者にエール。このほか、「夏はシーフードにライム搾ってナンプラー垂らしてパクチーをドサッ」「お湯少な目に入れて氷！！！！」「昔売ってた冷やして食べても美味しいそうめんのカップヌードル再販して」などおススメのアレンジ法や、過去の人気商品の復活を求める声が寄せられた。\n",
       " \n",
       " 　投稿した背景について宣伝担当者は、「7月19日にオンエアを開始した『カップヌードル シーフードヌードル』の新CM『夏は食っとけシーフード 篇』を盛り上げるために投稿しました」と説明。SNSの反応については「想定以上」とうれしそうだ。\n",
       " \n",
       " 　耳なじみがいいポップな曲は、人気ボカロP・ゆこぴの大ヒット曲「強風オールバック」をアレンジしたもの。原曲はランドセルを背負った少女が外に出た瞬間、強風に吹き付けられセットした髪の毛がオールバックになってしまった状況を歌っているが、CMでは制服を着た汗だくの少女がシーフードヌードルを買うため、やかんを手に砂浜をかっ歩する映像を採用。15秒と30秒の2種があり、30秒のCMの最後には夏限定で販売中の「カップヌードル レッドシーフードヌードル」をおいしそうに頬張る様子が描かれている。\n",
       " \n",
       " 　2種のCMは、テレビと同じ19日に、同社の公式YouTubeチャンネル「日清食品グループ公式チャンネル」でも配信。30秒編は配信1週間で315万回以上も再生されている。\n",
       " \n",
       " 　宣伝担当者は「CM曲として起用した『強風オールバック』を知らない方には『公式が暑さにぼやいている』と面白がっていただき、『強風オールバック』をご存知の方はツイッターでの投稿に対して、CMに続く歌詞を考えて投稿をするなど、楽しんでいただけました。投稿された歌詞をつないで替え歌にし、ボーカロイドに歌わせた楽曲を制作する方までいらっしゃったのには、スタッフ一同、とても驚きました」と広がる反響に目を丸くしたという。\n",
       " \n",
       " 　SNS上では、おススメのレシピがいくつも紹介されていたが、カップヌードルを知り尽くしたプロが太鼓判を押すアレンジもぜひ教えてほしいもの。\n",
       " \n",
       " 「CMでも紹介している『カップヌードル レッドシーフードヌードル』は、この夏にぜひともお召し上がりいただきたい夏季限定商品です。ほかには、海苔の佃煮を『シーフードヌードル』に“ちょい足し”するのもおすすめです。夏を感じさせる磯の香りが、シーフードスープと相性抜群です。また、『カップヌードル』にお酢とラー油をプラスすると、すっぱ辛さがクセになる『酸辣湯風』になるので、こちらも夏にお試しいただきたいです」</p>]"
      ]
     },
     "execution_count": 36,
     "metadata": {},
     "output_type": "execute_result"
    }
   ],
   "source": [
    "elements"
   ]
  },
  {
   "cell_type": "code",
   "execution_count": null,
   "id": "a4007bba-fcff-42b6-a1e7-2e1478e9bc00",
   "metadata": {},
   "outputs": [],
   "source": [
    "    text = \"\"\n",
    "\n",
    "    #ニュース記事の本文が配列で区切られていた場合\n",
    "    for i in range(0, 8):\n",
    "        try:\n",
    "            if (i == 0):\n",
    "                text = elements[0].text\n",
    "            else:\n",
    "                text += elements[i].text\n",
    "        except:\n",
    "            pass\n",
    "\n",
    "    print(text)\n",
    "    #ページが1つだけのとき、エラーが出るため\n",
    "    try:\n",
    "        #クラス名が変わるので注意！！ （取得例：２ページ)\n",
    "        page_element = soup.select('.sc-ihRHuF.kFnlxQ')\n",
    "        page = page_element[0].text         \n",
    "        page_str = ''.join(filter(str.isdigit, page))\n",
    "        page_num = int(page_str)\n",
    "    except:\n",
    "        page_num = 1\n",
    "        \n",
    "    #ページ数が複数のとき、ページ遷移し本文を取得\n",
    "    if (page_num > 1):\n",
    "        for i in range(2, page_num + 1):\n",
    "            news_url_page = news_url + \"?page=\" + str(page_num)\n",
    "            r = requests.get(news_url_page)\n",
    "            soup = BeautifulSoup(r.text, \"html.parser\")\n",
    "            #クラス名が変わるので注意！！ \n",
    "            elements = soup.select('.sc-gDyJDg.dmrAcv.yjSlinkDirectlink.highLightSearchTarget')\n",
    "            #ニュース記事の本文が配列で区切られていた場合\n",
    "            for i in range(0, 8):\n",
    "                try:\n",
    "                    text += elements[i].text\n",
    "                except:\n",
    "                    pass\n",
    "                    \n",
    "    news_text.append(text)\n",
    "\n",
    "    time.sleep(1)\n",
    "\n",
    "articles = []\n",
    "for url, title, text in zip(news_urls, news_titles, news_text):\n",
    "    article = {\n",
    "        \"title\" : title,\n",
    "        \"URL\" : url,\n",
    "        \"text\" : text\n",
    "    }\n",
    "    articles.append(article)"
   ]
  },
  {
   "cell_type": "code",
   "execution_count": null,
   "id": "18c5055c-2888-4223-8429-2824686767c9",
   "metadata": {},
   "outputs": [],
   "source": []
  },
  {
   "cell_type": "code",
   "execution_count": null,
   "id": "83bd6949-396a-4e91-b14d-a94767be8b1d",
   "metadata": {},
   "outputs": [],
   "source": []
  }
 ],
 "metadata": {
  "kernelspec": {
   "display_name": "Python 3 (ipykernel)",
   "language": "python",
   "name": "python3"
  },
  "language_info": {
   "codemirror_mode": {
    "name": "ipython",
    "version": 3
   },
   "file_extension": ".py",
   "mimetype": "text/x-python",
   "name": "python",
   "nbconvert_exporter": "python",
   "pygments_lexer": "ipython3",
   "version": "3.11.4"
  }
 },
 "nbformat": 4,
 "nbformat_minor": 5
}
