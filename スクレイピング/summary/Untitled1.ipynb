{
 "cells": [
  {
   "cell_type": "code",
   "execution_count": 4,
   "id": "aff7f515-7ebb-4a2b-89d8-0b7b47047926",
   "metadata": {},
   "outputs": [
    {
     "name": "stdout",
     "output_type": "stream",
     "text": [
      "有効なURLです\n"
     ]
    }
   ],
   "source": [
    "import re\n",
    "\n",
    "def is_valid_url(url):\n",
    "    # URLの正規表現パターン\n",
    "    url_pattern = re.compile(r'^(http|https)://[a-zA-Z0-9.-]+(\\.[a-zA-Z]{2,6})([a-zA-Z0-9/+.-]*)?$')\n",
    "\n",
    "    # URLの正規表現パターンに一致するか確認\n",
    "    if url_pattern.match(url):\n",
    "        return True\n",
    "    else:\n",
    "        return False\n",
    "\n",
    "# テスト\n",
    "url = \"https://www.example.com\"\n",
    "if is_valid_url(url):\n",
    "    print(\"有効なURLです\")\n",
    "else:\n",
    "    print(\"無効なURLです\")\n"
   ]
  },
  {
   "cell_type": "code",
   "execution_count": 10,
   "id": "33af487a-c135-44e0-a2e4-5de6c292334f",
   "metadata": {},
   "outputs": [],
   "source": [
    "def a():\n",
    "    return True"
   ]
  },
  {
   "cell_type": "code",
   "execution_count": null,
   "id": "13d61ee4-e325-4a56-bcd6-5ab98c37483c",
   "metadata": {},
   "outputs": [],
   "source": []
  },
  {
   "cell_type": "code",
   "execution_count": null,
   "id": "dfd69929-9291-47a7-b654-0b3ec0e02fb7",
   "metadata": {},
   "outputs": [],
   "source": []
  },
  {
   "cell_type": "code",
   "execution_count": null,
   "id": "6e2695a9-f779-43d3-818d-a68bb3c39677",
   "metadata": {},
   "outputs": [],
   "source": []
  }
 ],
 "metadata": {
  "kernelspec": {
   "display_name": "Python 3 (ipykernel)",
   "language": "python",
   "name": "python3"
  },
  "language_info": {
   "codemirror_mode": {
    "name": "ipython",
    "version": 3
   },
   "file_extension": ".py",
   "mimetype": "text/x-python",
   "name": "python",
   "nbconvert_exporter": "python",
   "pygments_lexer": "ipython3",
   "version": "3.11.4"
  }
 },
 "nbformat": 4,
 "nbformat_minor": 5
}
