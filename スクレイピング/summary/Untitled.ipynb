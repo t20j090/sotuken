{
 "cells": [
  {
   "cell_type": "code",
   "execution_count": 1,
   "id": "e472adc9-5411-4b10-99f9-5d3293287a11",
   "metadata": {},
   "outputs": [],
   "source": [
    "import requests\n",
    "import json"
   ]
  },
  {
   "cell_type": "code",
   "execution_count": 51,
   "id": "edd6e0d4-c806-4739-9870-e112fdb337ad",
   "metadata": {},
   "outputs": [],
   "source": [
    "# エンドポイント\n",
    "url = 'https://api.a3rt.recruit.co.jp/text_summarization/v1'\n",
    "\n",
    "# APIキー\n",
    "key = 'DZZkH17tdljiJjcI6DwY5ToVTWWGxwqc'\n",
    "\n",
    "#要約する文章\n",
    "sentence = '''\n",
    "プロスケーターの安藤美姫さんがInstagramを更新。現役時代に痛めた右肩を手術したことを報告しました。\n",
    "手術は無事終了したものの、痛々しい姿に心配の声が集まっています。\n",
    "ベッドに横たわる姿やレントゲン写真を公開した安藤さん。\n",
    "安藤さんは自身の現在の状態について、次のように報告しています。\n",
    "「私事ではございますが、この度、現役の頃に痛めた右肩の状態が思ったよりも悪くなっていたため、手術しました」\n",
    "「無事に手術を終え退院いたしましたので、ご報告させていただきます」\n",
    "安藤さんは現役時代、演技中に右肩を脱臼した際に、そのまま演技を続行したためケガをしたそうです。\n",
    "「2006年の全日本選手権ショートプログラムのスピンの最中に右肩を脱臼しました」\n",
    "「世界選手権の選考会でもあった大事な試合でしたので、そのまま演技を続けた結果『右肩 関節唇損傷』『脱臼』のケガ」\n",
    "「世界選手権の代表に選ばれたので、手術を断念しました」\n",
    "'''\n",
    "\n",
    "#パラメーターの設定\n",
    "params = {\n",
    "    'sentences': sentence,\n",
    "    'apikey': key,\n",
    "    'linenumber': '1' #抽出文章数\n",
    "}\n",
    "\n",
    "#リクエスト\n",
    "res = requests.post(url, data=params)\n",
    "values = json.loads(res.text)"
   ]
  },
  {
   "cell_type": "code",
   "execution_count": 52,
   "id": "c341ca60-e0c2-4b46-8525-9eb83a494e4b",
   "metadata": {},
   "outputs": [
    {
     "name": "stdout",
     "output_type": "stream",
     "text": [
      "\n",
      "「私事ではございますが、この度、現役の頃に痛めた右肩の状態が思ったよりも悪くなっていたため、手術しました」\n",
      "「無事に手術を終え退院いたしましたので、ご報告させていただきます」\n",
      "安藤さんは現役時代、演技中に右肩を脱臼した際に、そのまま演技を続行したためケガをしたそうです\n"
     ]
    }
   ],
   "source": [
    "#レスポンスから要約されたテキストを取り出す\n",
    "for summary in values[\"summary\"]:\n",
    "    print(summary)"
   ]
  },
  {
   "cell_type": "code",
   "execution_count": null,
   "id": "976ea6f9-ba96-492d-aece-a45a9d2c1534",
   "metadata": {},
   "outputs": [],
   "source": []
  }
 ],
 "metadata": {
  "kernelspec": {
   "display_name": "Python 3 (ipykernel)",
   "language": "python",
   "name": "python3"
  },
  "language_info": {
   "codemirror_mode": {
    "name": "ipython",
    "version": 3
   },
   "file_extension": ".py",
   "mimetype": "text/x-python",
   "name": "python",
   "nbconvert_exporter": "python",
   "pygments_lexer": "ipython3",
   "version": "3.11.4"
  }
 },
 "nbformat": 4,
 "nbformat_minor": 5
}
