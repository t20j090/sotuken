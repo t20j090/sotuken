{
 "cells": [
  {
   "cell_type": "code",
   "execution_count": 49,
   "id": "e472adc9-5411-4b10-99f9-5d3293287a11",
   "metadata": {},
   "outputs": [],
   "source": [
    "import requests\n",
    "import json"
   ]
  },
  {
   "cell_type": "code",
   "execution_count": 50,
   "id": "edd6e0d4-c806-4739-9870-e112fdb337ad",
   "metadata": {},
   "outputs": [],
   "source": [
    "# エンドポイント\n",
    "url = 'https://api.a3rt.recruit.co.jp/text_summarization/v1'\n",
    "\n",
    "# APIキー\n",
    "key = 'DZZkH17tdljiJjcI6DwY5ToVTWWGxwqc'\n",
    "\n",
    "#要約する文章\n",
    "sentence = '''\n",
    "　大谷翔平投手がドジャースへ移籍し、投打の大黒柱を失ったエンゼルスでは、主砲マイク・トラウト外野手のトレードの噂が絶えない。昨季、16勝を挙げたブルージェイズのクリス・バシット投手も「10月後半にプレーするようなチームで彼の姿を見なくちゃいけないって思うんだ」と移籍を望んだ。\n",
    "\n",
    "【動画】「とってもステキ」大谷翔平と並んでも変わらぬ…長身のド軍美人レポーター\n",
    "\n",
    "　トラウトは2009年のMLBドラフト1巡目（全体25位）でエンゼルスに入団。2011年に19歳という若さでメジャーデビューすると、翌2012年に新人王を獲得した。その後も、3度のMVP、9度のシルバースラッガー賞など、チームの顔として活躍してきた。2019年に当時の北米スポーツ史上最高額となる12年総額4億2650万ドル（約618億4000万円）で契約延長。オプトアウト（契約破棄）権は含まれておらず、事実上の生涯契約となった。\n",
    "\n",
    "　エンゼルスは2014年にプレーオフに進出して以降、メジャー30球団ワーストタイとなる9年連続でプレーオフ進出を逃している。MLBネットワークの番組司会者だったクリス・ローズ氏のポッドキャスト番組「クリス・ローズ・ローテーション」に出演したバシットは、ローズ氏からの「ショウヘイ・オオタニがもはやエンゼルスにいない今、野球ファンとしてトラウトのトレードを望んでいるのかな？」との質問に「間違いないよ」と賛同した。\n",
    "\n",
    "　バシットは、トラウトの地元であるニュージャージー州ミルビルの近郊にあるフィラデルフィアに本拠地を置くフィリーズへの移籍を提案。「彼がフィリーズでプレーするところを見たいね。彼の故郷のようなものだから。ファン目線で言うと、トラウトと（ブライス・）ハーパーが同じチームにいるなんて、ね。（カイル・）シュワーバーや他の選手たちも含め、彼らとは対戦したくないね」と話した。\n",
    "\n",
    "　トラウトは近年怪我にも苦しみ、今季は82試合で打率.263、18本塁打、44打点に終わった。しかし、バシットは「僕の意見では、ポジションの面でトラウトは史上5本の指に入る選手」とコメント。「彼だけではなく、球界や全ての人たちは、トラウトがプレーオフで戦う姿を見るに相応しいと思うよ」とエンゼルスからの移籍を願っていた。\n",
    "'''\n",
    "\n",
    "#パラメーターの設定\n",
    "params = {\n",
    "    'sentences': sentence,\n",
    "    'apikey': key,\n",
    "    'linenumber': '1' #抽出文章数\n",
    "}\n",
    "\n",
    "#リクエスト\n",
    "res = requests.post(url, data=params)\n",
    "values = json.loads(res.text)"
   ]
  },
  {
   "cell_type": "code",
   "execution_count": 52,
   "id": "f225e136-b396-4f13-b836-f9dd064e61b4",
   "metadata": {},
   "outputs": [
    {
     "data": {
      "text/plain": [
       "{'message': 'Request Entity Too Large', 'status': 1413}"
      ]
     },
     "execution_count": 52,
     "metadata": {},
     "output_type": "execute_result"
    }
   ],
   "source": [
    "values"
   ]
  },
  {
   "cell_type": "code",
   "execution_count": null,
   "id": "65f6d275-5f9b-416c-aa54-1f0ffcc0629a",
   "metadata": {},
   "outputs": [],
   "source": []
  }
 ],
 "metadata": {
  "kernelspec": {
   "display_name": "Python 3 (ipykernel)",
   "language": "python",
   "name": "python3"
  },
  "language_info": {
   "codemirror_mode": {
    "name": "ipython",
    "version": 3
   },
   "file_extension": ".py",
   "mimetype": "text/x-python",
   "name": "python",
   "nbconvert_exporter": "python",
   "pygments_lexer": "ipython3",
   "version": "3.11.4"
  }
 },
 "nbformat": 4,
 "nbformat_minor": 5
}
