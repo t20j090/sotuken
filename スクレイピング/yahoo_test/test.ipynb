{
 "cells": [
  {
   "cell_type": "code",
   "execution_count": 1,
   "id": "70879bce-3e63-4e74-84f3-b15acbf9d579",
   "metadata": {},
   "outputs": [],
   "source": [
    "from bs4 import BeautifulSoup\n",
    "import requests\n",
    "import time\n",
    "\n",
    "url = 'https://news.yahoo.co.jp/'\n",
    "\n",
    "r = requests.get(url)\n",
    "soup = BeautifulSoup(r.text, \"html.parser\")\n",
    "elements = soup.select('.sc-fKgJPI.fFnFHR')\n",
    "\n",
    "topics_list = []\n",
    "for element in elements:\n",
    "    url_href = element.a['href']\n",
    "    topics_list.append(url_href)\n",
    "    time.sleep(1)\n",
    "\n",
    "topics_list.pop(-1)\n",
    "\n",
    "topics_urls_list = []\n",
    "for topic in topics_list:\n",
    "    topics_urls_list.append(url + topic)"
   ]
  },
  {
   "cell_type": "code",
   "execution_count": 2,
   "id": "cfb07ab1-c651-41a5-bad9-03cc6bf451aa",
   "metadata": {},
   "outputs": [
    {
     "data": {
      "text/plain": [
       "['/categories/domestic',\n",
       " '/categories/world',\n",
       " '/categories/business',\n",
       " '/categories/entertainment',\n",
       " '/categories/sports',\n",
       " '/categories/it',\n",
       " '/categories/science',\n",
       " '/categories/life',\n",
       " '/categories/local']"
      ]
     },
     "execution_count": 2,
     "metadata": {},
     "output_type": "execute_result"
    }
   ],
   "source": [
    "topics_list"
   ]
  },
  {
   "cell_type": "code",
   "execution_count": 4,
   "id": "a71e1e08-3d21-4980-959c-f93b9633b4ae",
   "metadata": {},
   "outputs": [],
   "source": [
    "articles_dict = []\n",
    "\n",
    "\"\"\"for url in topics_urls_list:\"\"\"\n",
    "\n",
    "url = topics_urls_list[0]\n",
    "r = requests.get(url)\n",
    "soup = BeautifulSoup(r.text, \"html.parser\")"
   ]
  },
  {
   "cell_type": "code",
   "execution_count": 5,
   "id": "d20b5656-9c10-4ba1-9ac8-a0b8c5700275",
   "metadata": {},
   "outputs": [],
   "source": [
    "elements = soup.select('.sc-fXazdy.UjHkE')\n",
    "elements = elements[:5]\n",
    "\n",
    "news_urls = []\n",
    "news_titles = []\n",
    "for element in elements:\n",
    "    url = element.a['href']\n",
    "    title = element.text\n",
    "    \"\"\"\n",
    "    title = title.replace('\\u3000', '')\n",
    "    \"\"\"\n",
    "    news_urls.append(url)\n",
    "    news_titles.append(title)\n",
    "    \n",
    "    time.sleep(1)\n",
    "\n",
    "news_text = []\n",
    "for news_url in news_urls:\n",
    "    r = requests.get(news_url)\n",
    "    soup = BeautifulSoup(r.text, \"html.parser\")\n",
    "    \n",
    "    elements = soup.select('.sc-dYXZXt.jzZUwL.yjSlinkDirectlink.highLightSearchTarget')\n",
    "    text = elements[0].text[1:]\n",
    "    \"\"\"\n",
    "    text = text.replace('\\n', '')\n",
    "    \"\"\"\n",
    "    news_text.append(text)\n",
    "\n",
    "    time.sleep(1)\n",
    "    \n",
    "articles = []\n",
    "for url, title, text in zip(news_urls, news_titles, news_text):\n",
    "    article = {\n",
    "        \"title\" : title,\n",
    "        \"URL\" : url,\n",
    "        \"text\" : text\n",
    "    }\n",
    "    articles.append(article)\n",
    "articles_dict.append(articles)"
   ]
  },
  {
   "cell_type": "code",
   "execution_count": 6,
   "id": "2df6f918-1b1a-4c76-bf9c-a5e796c02755",
   "metadata": {},
   "outputs": [
    {
     "data": {
      "text/plain": [
       "[[{'title': '1公邸での忘年会写真はなぜ「流出」したのか\\u3000岸田首相の長男・翔太郎秘書官辞任ニッポン放送5/30(火)11:30',\n",
       "   'URL': 'https://news.yahoo.co.jp/articles/f4d136e081c48388e63fe3fa197f8791f29ea89f',\n",
       "   'text': 'ャーナリストの有本香が5月30日、ニッポン放送「飯田浩司のOK! Cozy up!」に出演。岸田翔太郎秘書官の事実上の更迭について解説した。\\n\\n【写真】「岸田ファミリーインスタライブ」を配信した時の、岸田翔太郎氏'},\n",
       "  {'title': '2ＰＴＡを解散したら…「楽しい」と笑って活動する親が増えた\\u3000保護者にのしかかる負担を減らし、義務・強制をやめる方法とは47NEWS5/30(火)10:02',\n",
       "   'URL': 'https://news.yahoo.co.jp/articles/490563c18d28aa0216425e50213ec396fc901e04',\n",
       "   'text': '「ＰＴＡを解散した」。そんな学校があると知って驚いた。改革さえ難しいと言われているのに。ＰＴＡ活動はもともと、専業主婦が担うことを前提としていた。共働き家庭が増加した現在では、時代遅れ感が否めない。なり手不足も深刻だ。\\n\\n\\u3000毎年春が近づくと新年度の役員決めが始まり、多くのしこりを残す。義務感だけで引き受けたり、半ば強制的に役を割り当てられたりする人も多い。やらされ感もつきまとい、「１年の我慢」と言い聞かせながら活動するのは非常につらい―。そんな現状を打破し、新しいＰＴＡの在り方を求め、保護者が無理なく参加できる組織を目指し改革を進めた二つの小学校を訪ねると、“常識”が覆されるような運営がなされていた。（共同通信＝小林磨由子）\\n\\n\\u3000▽ＬＩＮＥで済む用事なのに、わざわざ集まっていた\\n\\n\\u3000まず訪ねたのは、ＰＴＡを解散した滋賀県の大津市立志賀小。古くから住む世帯と、京都方面に通う新しい世帯が混在する地域にあり、児童数は７００人ちょっとだ。解散は２０２０年度だという。'},\n",
       "  {'title': '3ここまでアホを繰り返すとは…岸田”ドラ息子”秘書官更迭に与野党が安堵「国益のためにも、これでよかったのだ」みんかぶマガジン5/30(火)9:10',\n",
       "   'URL': 'https://news.yahoo.co.jp/articles/5c3c65f056172dad938862858ce6296198cd8aed',\n",
       "   'text': '岸田翔太郎首相秘書官を巡る報道が、またもお茶の間を賑わしている。SNSの発信力などを期待されて任命された翔太郎氏だが、危機管理力のなさが就任以降露呈しまい、ついに更迭となった。これまで、総理の外遊中のパリやロンドンで「公用車で観光していた」週刊誌報道などで総理の任命責任も問われてきた。どんなに世間から息子が叩かれようと必死に守ってきて岸田総理だが、ついに白旗をあげた形だ。これまで翔太郎氏を巡り政界を取材してきたルポライターの日野百草氏が改めて問題点を解説するーー。'},\n",
       "  {'title': '4【独自】逃げ切ったのにUターン?車の間をすり抜けパトカーから逃走する2人乗り原付バイク\\u3000不可解な行動の”謎”FNNプライムオンライン5/30(火)13:18',\n",
       "   'URL': 'https://news.yahoo.co.jp/articles/665f1f96ffc629f77d76d012f160e159c3ced6e2',\n",
       "   'text': '奈川県鎌倉市、信号待ちをしていた車のドライブレコーダーに、危険な運転を行う原付バイクの姿が映っていました。\\n\\n【画像】不可解なUターンであえなく御用…逃走の一部始終を見る\\n\\nサイレンの音とともに、交差点を勢いよく曲がってきたのは原付バイク。後ろからパトカーが追いかけています。\\n\\n映像をよく見ると、原付バイクには若い男が“2人乗り”していることが分かります。\\n\\nパトカーから逃れるためか、原付バイクは停車していたバスと対向車の隙間をすり抜けて走って行きました。\\n\\nバスの後ろでいったん止まるパトカー。\\nこのまま逃げられてしまうのか…と思った次の瞬間! 先ほどの原付バイクが再び姿を現し、今度は来た道を戻るような形で、パトカーが止まっている方向に向かって走っていったのです。\\n\\nしかも、なぜか後ろに乗っていた男の姿がありません。\\n\\nその数秒後、バイクの後ろに乗っていたとみられる男が、走りながらバイクを追いかけていきます。\\n\\nバイクを追いかけて走っていた男は、道路を横断したところで警察に身柄を確保されました。\\n\\nドライブレコーダーの車の運転者:\\nそんなに広い道路ではないので、結構なスピードで入ってきたので、危なかったですね。観光客とかも多い場所で、人も多かったので、事故にならないかというのもヒヤヒヤしながら見ていました。\\n\\n警察によると、パトロール中の警察官が、ナンバープレートを折り曲げた原付バイクを発見。職務質問をするため警察官が停止を求めたところ、そのまま逃走し始めたといいます。\\n\\nなぜ、パトカーの追跡を振り切ったようにも見えた原付バイクは、来た道を引き返してきたのでしょうか?\\n\\nドライブレコーダーの後方カメラを見せてもらうと、その“謎”の答えが映っていました。\\n\\n車の間をすり抜けて、原付バイクが走っていった先にあったのは、電車の踏切。\\nちょうど走り込んだタイミングで、遮断機が下りていたのです。\\n\\nそれに気づいたバイクはあわててUターン。この時、後ろに乗っていた男を振り落としてしまったとみられます。\\n\\nドライブレコーダーの車の運転者:\\n後ろの踏切が降りて、そうすると袋小路になってしまって逃げられないので。「これはもうすぐ捕まるな」と。まさか1人降りてUターンして逃げていくと思わなかったので。\\n\\n警察は振り落とされた男を確保したあと、原付バイクを運転していた男の身柄も確保。\\n\\n2人は17 歳の少年で、タバコを所持していたため補導されたということです。\\n\\n（めざまし8\\u30005月30日放送より）'},\n",
       "  {'title': '5岸田翔太郎氏、退職金やボーナス「支給なら返納したいと申し出」毎日新聞5/30(火)10:49',\n",
       "   'URL': 'https://news.yahoo.co.jp/articles/b630256eef99d1ced57b8473a60b14b4499cb66b',\n",
       "   'text': '松野博一官房長官は30日の記者会見で、6月1日付で首相秘書官を辞職する岸田文雄首相の長男翔太郎氏が、退職金やボーナスを受け取らない意向であることを明らかにした。松野氏は「本人から退職手当や期末、勤勉手当（ボーナス）が支給されるのであれば、全て返納したいとの申し出がなされている」と説明した。\\n\\n【写真】幼き翔太郎氏が映った家族写真\\n\\n\\u3000国家公務員の夏のボーナスは6月1日を基準日に支給すると定められており、野党などが翔太郎氏の辞職日が「ボーナスを受け取るために設定されたのではないか」と指摘していた。【古川宗】\\n\\n\\u3000◇「しっかりと襟を正して」梶山氏が苦言\\n\\n\\u3000自民党の梶山弘志幹事長代行は30日の記者会見で、岸田文雄首相の長男翔太郎氏が首相公邸で忘年会を開いた問題を受け首相秘書官を辞職することに関し「公職に就く者、その周りにいる者はしっかりと襟を正して自らの行動を考えていただきたい」と苦言を呈した。\\n\\n\\u3000今国会の会期末が6月21日に迫っていることを踏まえ、「国会が最終盤を迎える中で、重要法案を抱える参院は大変タイトな日程にもなっている。改めて政府・与党の連携を密にし、一層の緊張感をもって臨んでまいりたい」と述べた。【菊池陽南子】'}]]"
      ]
     },
     "execution_count": 6,
     "metadata": {},
     "output_type": "execute_result"
    }
   ],
   "source": [
    "articles_dict"
   ]
  },
  {
   "cell_type": "code",
   "execution_count": null,
   "id": "e032bfd1-ad2a-4609-b5c6-609b51a3d2ec",
   "metadata": {},
   "outputs": [],
   "source": []
  }
 ],
 "metadata": {
  "kernelspec": {
   "display_name": "Python 3 (ipykernel)",
   "language": "python",
   "name": "python3"
  },
  "language_info": {
   "codemirror_mode": {
    "name": "ipython",
    "version": 3
   },
   "file_extension": ".py",
   "mimetype": "text/x-python",
   "name": "python",
   "nbconvert_exporter": "python",
   "pygments_lexer": "ipython3",
   "version": "3.11.3"
  }
 },
 "nbformat": 4,
 "nbformat_minor": 5
}
