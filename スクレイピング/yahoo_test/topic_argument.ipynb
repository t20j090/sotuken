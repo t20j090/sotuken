{
 "cells": [
  {
   "cell_type": "code",
   "execution_count": 30,
   "id": "bdeca3c0-3810-47cf-a4fa-c14db19069d5",
   "metadata": {},
   "outputs": [],
   "source": [
    "from bs4 import BeautifulSoup\n",
    "import requests\n",
    "import time\n",
    "\n",
    "def scraping_YahooNews(topic):\n",
    "    url = 'https://news.yahoo.co.jp/'\n",
    "    \n",
    "    r = requests.get(url)\n",
    "    \n",
    "    soup = BeautifulSoup(r.text, \"html.parser\")\n",
    "    \n",
    "    elements = soup.select('.sc-fKgJPI.fFnFHR')\n",
    "\n",
    "    articles_dict = []\n",
    "    topic = topic\n",
    "    for i, element in enumerate(elements):\n",
    "        if topic in element.text:\n",
    "            categories_num = i\n",
    "    \n",
    "    element = elements[categories_num]\n",
    "    \n",
    "    topic_url= element.a['href']\n",
    "    \n",
    "    URL = url + topic_url\n",
    "    \n",
    "    r = requests.get(URL)\n",
    "    \n",
    "    soup = BeautifulSoup(r.text, \"html.parser\")\n",
    "    \n",
    "    elements = soup.select('.sc-fXazdy.UjHkE')\n",
    "    \n",
    "    elements = elements[:5]\n",
    "    \n",
    "    news_urls = []\n",
    "    news_titles = []\n",
    "    for element in elements:\n",
    "        url = element.a['href']\n",
    "        title = element.text[1:]\n",
    "        news_urls.append(url)\n",
    "        news_titles.append(title)\n",
    "        time.sleep(1)\n",
    "\n",
    "    news_text = []\n",
    "    for news_url in news_urls:\n",
    "        r = requests.get(news_url)\n",
    "        soup = BeautifulSoup(r.text, \"html.parser\")\n",
    "        \n",
    "        elements = soup.select('.sc-dYXZXt.jzZUwL.yjSlinkDirectlink.highLightSearchTarget')\n",
    "        text = elements[0].text\n",
    "        \n",
    "        news_text.append(text)\n",
    "\n",
    "        time.sleep(1)\n",
    "    \n",
    "    articles = []\n",
    "    for url, title, text in zip(news_urls, news_titles, news_text):\n",
    "        article = {\n",
    "            \"title\" : title,\n",
    "            \"URL\" : url,\n",
    "            \"text\" : text\n",
    "        }\n",
    "        articles.append(article)\n",
    "    articles_dict.append(articles)\n",
    "\n",
    "    return articles\n"
   ]
  },
  {
   "cell_type": "code",
   "execution_count": 44,
   "id": "ab410c5f-6a7e-4b9d-af8b-a91e455093ff",
   "metadata": {},
   "outputs": [],
   "source": [
    "def clean_data(articles):\n",
    "    for i in range(len(articles)):\n",
    "        articles[i]['title'] = articles[i]['title'].replace('\\u3000', '') \n",
    "        articles[i]['title'] = articles[i]['title'].lstrip('0123456789')\n",
    "        articles[i]['text'] = articles[i]['text'].replace('\\u3000', '')\n",
    "        articles[i]['text'] = articles[i]['text'].replace('\\n', '')\n",
    "\n",
    "    return articles"
   ]
  },
  {
   "cell_type": "code",
   "execution_count": 46,
   "id": "066f5397-d520-45bc-bb9e-f0e8e26fe836",
   "metadata": {},
   "outputs": [],
   "source": [
    "articles = scraping_YahooNews('国際')\n",
    "new_articles = clean_data(articles)"
   ]
  },
  {
   "cell_type": "markdown",
   "id": "25a9e8d1-a63d-408a-aa4d-6604661cd8cf",
   "metadata": {},
   "source": [
    "ニュース記事のページが複数ある場合を考えないといけない"
   ]
  },
  {
   "cell_type": "code",
   "execution_count": 47,
   "id": "f1d2461b-7009-4224-82a4-16b777d74bcd",
   "metadata": {},
   "outputs": [
    {
     "data": {
      "text/plain": [
       "[{'title': 'ディズニーの実写版「リトル・マーメイド」黒人のアリエルが巻き起こした議論と感動GLOBE＋6/9(金)12:01',\n",
       "  'URL': 'https://news.yahoo.co.jp/articles/8f5ed14ba9fb28e46304b3d2335fc3d664e97ac7',\n",
       "  'text': '虹色に輝く優美な尾びれを翻しながら、ほの暗い海の中を自在に泳ぐアリエル。かれんなのにシャープな動きとCGIならではのリアルな背景が相まって、ディズニーの実写版『リトル・マーメイド』の冒頭シーンは、大人ですら人魚の存在を信じてしまいそうになる。（堂本かおる＝ニューヨーク在住ライター）【名場面集】ハリー・ベイリー演じる実写版「リトル・マーメイド」のアリエル'},\n",
       " {'title': 'ロシアの破壊工作グループがダム爆破、証拠通話を傍受＝ウクライナロイター6/9(金)17:24',\n",
       "  'URL': 'https://news.yahoo.co.jp/articles/6687a741defb2a7511247e4125f3681cb25c1e38',\n",
       "  'text': '[キーウ ９日 ロイター] - ウクライナ保安局は９日、南部ヘルソン州のカホフカ水力発電所のダムをロシアの「破壊工作グループ」が爆破したことを証明する通話を傍受したと発表した。同局はメッセージアプリ「テレグラム」のチャンネルに、証拠とする１分半の音声データを投稿。２人の男がダム破壊についてロシア語で話し合っているとみられる内容となっている。この中で同局がロシア人兵士とする男の１人は「彼ら（ウクライナ人）は攻撃していない。あれはわれわれの破壊工作グループだ」と話している。このほか「彼らはあのダムで（人々を）怖がらせたかった」、「計画通りにはいかず、（彼らは）計画以上のことをした」とも語っている。同局は会話やその発言者について、これ以上の詳細を明らかにしなかった。声明で「侵略者はダムを爆破することでウクライナを脅迫しようとし、わが国南部で人災を演出した」と非難した。'},\n",
       " {'title': 'ウクライナ軍、「強固な抵抗」に苦戦ロシア軍の戦線への攻撃で損失被る米当局者CNN.co.jp6/9(金)11:05',\n",
       "  'URL': 'https://news.yahoo.co.jp/articles/cc8f349bce0ff798b263a5bff57c9bbf5f87d538',\n",
       "  'text': '（ＣＮＮ）ウクライナ軍が同国東部での戦闘で予想を上回るロシア軍の抵抗に遭い、装備と兵士の損失に見舞われていることが分かった。損失はロシア軍の戦線突破を図る最初の攻撃の中で、過去数日のうちに発生した。高位の米当局者２人がＣＮＮに明らかにした。【映像】ドネツク州の激戦地、ドローン映像が捉えたロシア軍の「混乱」米当局者１人は、損失を「相当の規模」と説明。米国が供与した耐地雷伏撃防護車両（ＭＲＡＰ）も複数失われたとした。ウクライナ軍は東部のバフムート周辺で、ロシア軍の複数の部隊を制圧することに成功した。しかし対戦車ミサイルや手榴弾（しゅりゅうだん）、迫撃砲で武装したロシア軍は「強固に抵抗」。深く掘った塹壕（ざんごう）の中で持ちこたえている。地雷原によってウクライナ軍の装甲車両にも大きな損害が出ている。どちらの米当局者も、これらの損失がウクライナの計画するより広範な反転攻勢に影響を及ぼす見込みはないと述べた。米国並びに西側の当局者らはかねて、当該の反転攻勢には時間がかかると予想。ウクライナ軍の兵員や装備は西側の供与したシステムを含め、高いリスクにさらされることを想定していた。ロシア国防省は７日、バフムート近くでのウクライナ軍の攻勢は「阻止されている」と主張。同軍は攻勢の目的を達成できておらず、甚大な損害を被ったとしていた。ロシア政府はしばしば戦場でのウクライナ軍の損失について誇張して伝えるが、ウクライナのゼレンスキー大統領は最近、反転攻勢はウクライナにとって厳しい戦いになると認めていた。米紙ウォールストリート・ジャーナルの取材に対し、ウクライナ軍の前進に伴い「非常に多くの兵士が命を落とすだろう」と述べてもいた。'},\n",
       " {'title': 'ウクライナがロシア国内で「工作員養成」の衝撃報道クレムリンなど〝中枢破壊〟か露政府「プーチン大統領の命を狙ったテロ行為」夕刊フジ6/9(金)17:00',\n",
       "  'URL': 'https://news.yahoo.co.jp/articles/368512312e69b391450424d71e6054f4a4c74c92',\n",
       "  'text': 'ウォロディミル・ゼレンスキー大統領率いるウクライナのロシアへの反転攻勢をめぐり、衝撃的な報道が飛び出した。同国が養成したスパイがロシア国内で破壊工作を行い、５月に行われたロシア中枢部に対する無人機（ドローン）攻撃も工作員組織によって実行されたというのだ。各国から供与された最新鋭戦車が戦線に投入されたとの情報もある。ロシアのウラジーミル・プーチン大統領に対する攻勢は、国内外で強まってきたようだ。【写真】ウクライナ軍の攻撃で破壊されたとするロシア軍陣地注目のニュースは、米ＣＮＮが５日、米当局者の話として報じた。記事によると、米当局者は、ウクライナが複数の工作員組織をロシア国内で展開し、ウクライナ製のドローンが組織のメンバーに供給されているとみている。５月３日未明、モスクワ中心部のクレムリン（大統領府）に対し、ドローン２機が攻撃を行った。ロシア大統領府が「プーチン大統領の命を狙った計画的なテロ行為だ」と非難した襲撃について、米当局者は、ロシア国内にいる親ウクライナの工作員によって実施されたと見方を示しているという。ロシアが侵略したウクライナでも、ウクライナ側の反攻が強まっている。英紙フィナンシャル・タイムズ（電子版）は８日、ウクライナの軍人や西側政府高官の話として、ドイツが供与した主力戦車レオパルトをウクライナ軍が実戦投入し、ロシア軍への反転攻勢を本格化させたと報じた。ロシアのセルゲイ・ショイグ国防相は８日、ウクライナ軍が同日未明に南部ザポロジエ方面で部隊１５００人と軍用車１５０両でロシア軍の防御を突破しようとしたが、撃退したと発表した。しかし、ウクライナ軍は８日、ザポロジエとヘルソンの戦線でロシア軍が防戦に回っていると反論。東部ドネツク州の激戦地バフムト付近でも、同国軍が進軍していると主張した。一方、南部ヘルソン州のカホフカ水力発電所のダム決壊は周辺地域の洪水に加え、同ダムから取水しているザポロジエ原発にも影響をもたらしている。ウクライナ水力発電企業は８日、原発の取水に必要な水位を下回ったと述べた。ダムからの水の流出は今後も７～８日間続くとの見通しで、併設された貯水池で当面の冷却水は確保できるものの、長期的な影響が懸念されているという。'},\n",
       " {'title': '【図解】ウクライナ、反転攻勢開始か＝南・東部戦線でロシア軍攻撃―独製戦車投入の情報時事通信6/9(金)18:08',\n",
       "  'URL': 'https://news.yahoo.co.jp/articles/20d5424efba647973f3102be4205a7bfdd983459',\n",
       "  'text': '複数の米メディアは8日、ウクライナ軍がロシア軍に対する反転攻勢を開始したと報じた。'}]"
      ]
     },
     "execution_count": 47,
     "metadata": {},
     "output_type": "execute_result"
    }
   ],
   "source": [
    "new_articles"
   ]
  },
  {
   "cell_type": "code",
   "execution_count": null,
   "id": "9c8dea7b-0964-4a84-b5cb-2905d9469034",
   "metadata": {},
   "outputs": [],
   "source": []
  }
 ],
 "metadata": {
  "kernelspec": {
   "display_name": "Python 3 (ipykernel)",
   "language": "python",
   "name": "python3"
  },
  "language_info": {
   "codemirror_mode": {
    "name": "ipython",
    "version": 3
   },
   "file_extension": ".py",
   "mimetype": "text/x-python",
   "name": "python",
   "nbconvert_exporter": "python",
   "pygments_lexer": "ipython3",
   "version": "3.11.3"
  }
 },
 "nbformat": 4,
 "nbformat_minor": 5
}
