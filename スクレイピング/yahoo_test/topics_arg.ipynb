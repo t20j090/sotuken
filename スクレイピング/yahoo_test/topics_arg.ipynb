{
 "cells": [
  {
   "cell_type": "code",
   "execution_count": 2,
   "id": "18728281-75ea-4761-8e1f-bebbc424a70d",
   "metadata": {},
   "outputs": [],
   "source": [
    "from bs4 import BeautifulSoup\n",
    "import requests\n",
    "import time"
   ]
  },
  {
   "cell_type": "code",
   "execution_count": 3,
   "id": "7ee7e1bd-dced-481e-8471-b08848b62152",
   "metadata": {},
   "outputs": [
    {
     "data": {
      "text/plain": [
       "[<li class=\"sc-fKgJPI fFnFHR\"><a class=\"sc-dlMDgC kpPvTx\" data-cl-params=\"_cl_vmodule:snavi;_cl_link:dom;\" href=\"/categories/domestic\">国内</a></li>,\n",
       " <li class=\"sc-fKgJPI fFnFHR\"><a class=\"sc-dlMDgC kpPvTx\" data-cl-params=\"_cl_vmodule:snavi;_cl_link:wor;\" href=\"/categories/world\">国際</a></li>,\n",
       " <li class=\"sc-fKgJPI fFnFHR\"><a class=\"sc-dlMDgC kpPvTx\" data-cl-params=\"_cl_vmodule:snavi;_cl_link:bus;\" href=\"/categories/business\">経済</a></li>,\n",
       " <li class=\"sc-fKgJPI fFnFHR\"><a class=\"sc-dlMDgC kpPvTx\" data-cl-params=\"_cl_vmodule:snavi;_cl_link:ent;\" href=\"/categories/entertainment\">エンタメ</a></li>,\n",
       " <li class=\"sc-fKgJPI fFnFHR\"><a class=\"sc-dlMDgC kpPvTx\" data-cl-params=\"_cl_vmodule:snavi;_cl_link:spo;\" href=\"/categories/sports\">スポーツ</a></li>,\n",
       " <li class=\"sc-fKgJPI fFnFHR\"><a class=\"sc-dlMDgC kpPvTx\" data-cl-params=\"_cl_vmodule:snavi;_cl_link:it;\" href=\"/categories/it\">IT</a></li>,\n",
       " <li class=\"sc-fKgJPI fFnFHR\"><a class=\"sc-dlMDgC kpPvTx\" data-cl-params=\"_cl_vmodule:snavi;_cl_link:sci;\" href=\"/categories/science\">科学</a></li>,\n",
       " <li class=\"sc-fKgJPI fFnFHR\"><a class=\"sc-dlMDgC kpPvTx\" data-cl-params=\"_cl_vmodule:snavi;_cl_link:lif;\" href=\"/categories/life\">ライフ</a></li>,\n",
       " <li class=\"sc-fKgJPI fFnFHR\"><a class=\"sc-dlMDgC kpPvTx\" data-cl-params=\"_cl_vmodule:snavi;_cl_link:loc;\" href=\"/categories/local\">地域</a></li>,\n",
       " <li class=\"sc-fKgJPI fFnFHR\"><a class=\"sc-dlMDgC kpPvTx\" data-cl-params=\"_cl_vmodule:snavi;_cl_link:tpc_list;\" href=\"/topics/top-picks\">トピックス一覧</a></li>]"
      ]
     },
     "execution_count": 3,
     "metadata": {},
     "output_type": "execute_result"
    }
   ],
   "source": [
    "url = 'https://news.yahoo.co.jp/'\n",
    "\n",
    "r = requests.get(url)\n",
    "\n",
    "soup = BeautifulSoup(r.text, \"html.parser\")\n",
    "\n",
    "elements = soup.select('.sc-fKgJPI.fFnFHR')\n",
    "\n",
    "elements"
   ]
  },
  {
   "cell_type": "code",
   "execution_count": 4,
   "id": "5d18a2aa-2d9a-4ba3-9b40-8c1cca86c606",
   "metadata": {},
   "outputs": [],
   "source": [
    "categories_num = 0"
   ]
  },
  {
   "cell_type": "code",
   "execution_count": 5,
   "id": "5cfd85a8-5a95-410f-a153-42fabe9add0d",
   "metadata": {},
   "outputs": [],
   "source": [
    "element = elements[categories_num]"
   ]
  },
  {
   "cell_type": "code",
   "execution_count": 7,
   "id": "791337eb-b154-488b-84aa-1e7bfe79695b",
   "metadata": {},
   "outputs": [],
   "source": [
    "topic_url= element.a['href']"
   ]
  },
  {
   "cell_type": "code",
   "execution_count": 8,
   "id": "cc64dbbd-a3d9-4482-b112-d158ae1eb622",
   "metadata": {},
   "outputs": [
    {
     "data": {
      "text/plain": [
       "[<li class=\"sc-fXazdy UjHkE\"><a class=\"sc-dsXzNU iNWOJK\" data-cl-params=\"_cl_vmodule:accr;_cl_link:title;_cl_position:1;\" href=\"https://news.yahoo.co.jp/articles/ba9c07bfaf4ea63a5ec6cb93c4ff353ab79ae72a\"><div class=\"sc-jHNicF bMmwdY\"><span class=\"sc-amiJK bvMJFo\">1</span><div class=\"sc-jOFryr egeLzW\"><div class=\"sc-hmbstg iriXCP\"><p class=\"sc-eKYRIR llyViG\">長嶋一茂、「スシロー」が迷惑動画の少年に６７００万円を請求した提訴で提言…少年に「裏方さんの業務をやらせるのもひとつ手じゃないか」</p><div class=\"sc-bTDOke etPSOa\"><span class=\"sc-kHWWYL zRuTu\">スポーツ報知</span><time><span class=\"sc-hOPeYd eXirsP\">6/9(金)</span><span class=\"sc-hOPeYd eXirsP\">8:38</span></time></div></div><div class=\"sc-TtZnY gnBPmJ\"><div class=\"sc-lbVvki inBtXc thumbnail thumbnail-small\"><picture><source srcset=\"https://news-pctr.c.yimg.jp/uUzvQ3lML_bkIqyakc1vFlbRKZtM9u5XWE0uy3m1LJu6SLQ0Hjm4rTXshTvF449cqmYcUvXcYuerHu59EHhzGMIEey5tcSWLBKBff6N3hRi7x2AXMJ2CdBvf9m5VEvh2AW4yfeLSfxJeRh_NJkJ3Bn9HWmilIFoIY78EKsDrxHXLE8ezaCvr618B456dlQ2FrN_sWUOBAH3dM62Wi8Thai_bQvgYnItdSt0Qyqk-Jug3MXz-JymFAVgn7GbDFaG9iKEV6IqcQ7hqB5Jg08R_t0Q1PnBskkWK5uNlzG3LT7v_aSplbTLmITYXn8r11sZT\" type=\"image/webp\"/><source srcset=\"https://news-pctr.c.yimg.jp/uUzvQ3lML_bkIqyakc1vFlbRKZtM9u5XWE0uy3m1LJu6SLQ0Hjm4rTXshTvF449cqmYcUvXcYuerHu59EHhzGMIEey5tcSWLBKBff6N3hRi7x2AXMJ2CdBvf9m5VEvh2AW4yfeLSfxJeRh_NJkJ3Bn9HWmilIFoIY78EKsDrxHXLE8ezaCvr618B456dlQ2FrN_sWUOBAH3dM62Wi8Thai_bQvgYnItdSt0Qyqk-Jug3MXz-JymFAVgn7GbDFaG9jIxnFVDegS_r7I6kbx7LbBUFfMY1sQdj8uILgfkpLvRG3_MOw6n6S6_iiDHPoakh\" type=\"image/jpeg\"/><img alt=\"\" class=\"sc-gGLxEB eFqdlj\" loading=\"lazy\" src=\"https://news-pctr.c.yimg.jp/t/amd-img/20230609-06091014-sph-000-3-view.jpg?w=264&amp;h=264&amp;pri=l&amp;cx=0&amp;cy=0&amp;cw=1127&amp;ch=1127&amp;q=90&amp;exp=10800&amp;order=c2r\"/></picture></div></div></div></div></a></li>,\n",
       " <li class=\"sc-fXazdy UjHkE\"><a class=\"sc-dsXzNU iNWOJK\" data-cl-params=\"_cl_vmodule:accr;_cl_link:title;_cl_position:2;\" href=\"https://news.yahoo.co.jp/articles/76501dc339bfdfc62079867d2d836d0a0e00bef1\"><div class=\"sc-jHNicF bMmwdY\"><span class=\"sc-amiJK bvMJFo\">2</span><div class=\"sc-jOFryr egeLzW\"><div class=\"sc-hmbstg iriXCP\"><p class=\"sc-eKYRIR llyViG\">新幹線のノーズが外れる衝撃　３００キロ走行中に人と接触か　乗客約４４０人が５時間待機強いられる</p><div class=\"sc-bTDOke etPSOa\"><span class=\"sc-kHWWYL zRuTu\">ABCニュース</span><time><span class=\"sc-hOPeYd eXirsP\">6/9(金)</span><span class=\"sc-hOPeYd eXirsP\">12:12</span></time></div></div><div class=\"sc-TtZnY gnBPmJ\"><div class=\"sc-lbVvki inBtXc thumbnail thumbnail-small\"><picture><source srcset=\"https://news-pctr.c.yimg.jp/uUzvQ3lML_bkIqyakc1vFlbRKZtM9u5XWE0uy3m1LJu6SLQ0Hjm4rTXshTvF449cqmYcUvXcYuerHu59EHhzGN8GqWdXa_6MZ7IO1vIKTgNryYFHDCfddl6p0K9VS-L3iMNXS4mjGCbTxb4NIunxQeAKEED0xaPbMQguhmNlYi-XubTargxMg372K_7sif6ScsnaviTmF3fdmcNZsGNauyLwYDw15CWyN3VCg37UMmqiVScCjVBOFO0JWX7wS00iZyU9H55UxzDOtHW0ViAfPnYANu8SPc-2GSQ8_W8dWfEcK2EFKVVDFAYi_4QOS-Xz\" type=\"image/webp\"/><source srcset=\"https://news-pctr.c.yimg.jp/uUzvQ3lML_bkIqyakc1vFlbRKZtM9u5XWE0uy3m1LJu6SLQ0Hjm4rTXshTvF449cqmYcUvXcYuerHu59EHhzGN8GqWdXa_6MZ7IO1vIKTgNryYFHDCfddl6p0K9VS-L3iMNXS4mjGCbTxb4NIunxQeAKEED0xaPbMQguhmNlYi-XubTargxMg372K_7sif6ScsnaviTmF3fdmcNZsGNauyLwYDw15CWyN3VCg37UMmqiVScCjVBOFO0JWX7wS00iZyU9H55UxzDOtHW0ViAfPsrJxrqiAr_zlVR2ZzDaunSeMWRG_PtGZjuZppnrFLEc\" type=\"image/jpeg\"/><img alt=\"\" class=\"sc-gGLxEB eFqdlj\" loading=\"lazy\" src=\"https://news-pctr.c.yimg.jp/t/amd-img/20230609-00041048-asahibc-000-2-view.jpg?w=264&amp;h=264&amp;pri=l&amp;cx=140&amp;cy=0&amp;cw=360&amp;ch=360&amp;q=90&amp;exp=10800&amp;order=c2r\"/></picture></div></div></div></div></a></li>,\n",
       " <li class=\"sc-fXazdy UjHkE\"><a class=\"sc-dsXzNU iNWOJK\" data-cl-params=\"_cl_vmodule:accr;_cl_link:title;_cl_position:3;\" href=\"https://news.yahoo.co.jp/articles/b71ecd1b980242110388be2d9c0295c79082ac0f\"><div class=\"sc-jHNicF bMmwdY\"><span class=\"sc-amiJK bvMJFo\">3</span><div class=\"sc-jOFryr egeLzW\"><div class=\"sc-hmbstg iriXCP\"><p class=\"sc-eKYRIR llyViG\">「ヤバくねえんだよ」すれ違い男性がベビーカー引っ張り凄む　母親が被害訴え...施設は警察に映像提供</p><div class=\"sc-bTDOke etPSOa\"><span class=\"sc-kHWWYL zRuTu\">J-CASTニュース</span><time><span class=\"sc-hOPeYd eXirsP\">6/8(木)</span><span class=\"sc-hOPeYd eXirsP\">19:58</span></time></div></div><div class=\"sc-TtZnY gnBPmJ\"><div class=\"sc-lbVvki inBtXc thumbnail thumbnail-small\"><picture><source srcset=\"https://news-pctr.c.yimg.jp/uUzvQ3lML_bkIqyakc1vFlbRKZtM9u5XWE0uy3m1LJu6SLQ0Hjm4rTXshTvF449cI4ZU7To74_yYis7cVr5X0ya4NOWwWYlJoAseO59M-ENnpzXWiH3SeMQb2_in0405G8eWj4X4HmK2kE5TUKJHuy92ixPu6kb2lcVDeCJ7MXev04IFXK_zR8_suFdhKKK9Sd51gS6br-ajrbmozz8hBKwhw7yMkAF2ZlXdnKuGh0Dxa7w2YOn1ktolY52wAgCZ8X64z0-l36BygW2cuEt35s2nn9EXa60pbhLqJD95A6NhAdmWNduDjIs9SE8KCbEp\" type=\"image/webp\"/><source srcset=\"https://news-pctr.c.yimg.jp/uUzvQ3lML_bkIqyakc1vFlbRKZtM9u5XWE0uy3m1LJu6SLQ0Hjm4rTXshTvF449cI4ZU7To74_yYis7cVr5X0ya4NOWwWYlJoAseO59M-ENnpzXWiH3SeMQb2_in0405G8eWj4X4HmK2kE5TUKJHuy92ixPu6kb2lcVDeCJ7MXev04IFXK_zR8_suFdhKKK9Sd51gS6br-ajrbmozz8hBKwhw7yMkAF2ZlXdnKuGh0Dxa7w2YOn1ktolY52wAgCZIAMA2Vq2pnyDIYjBgFTgAQrbD6xyBVjQLy91HNr_WiRkRlJrkESlfOaJvpr6Qw5g\" type=\"image/jpeg\"/><img alt=\"\" class=\"sc-gGLxEB eFqdlj\" loading=\"lazy\" src=\"https://news-pctr.c.yimg.jp/t/amd-img/20230608-00000011-jct-000-2-view.jpg?w=264&amp;h=264&amp;pri=l&amp;cx=200&amp;cy=0&amp;cw=800&amp;ch=800&amp;q=90&amp;exp=10800&amp;order=c2r\"/></picture></div></div></div></div></a></li>,\n",
       " <li class=\"sc-fXazdy UjHkE\"><a class=\"sc-dsXzNU iNWOJK\" data-cl-params=\"_cl_vmodule:accr;_cl_link:title;_cl_position:4;\" href=\"https://news.yahoo.co.jp/articles/c90a935cd4f6c726968b6e04993aa133ec23464a\"><div class=\"sc-jHNicF bMmwdY\"><span class=\"sc-amiJK bvMJFo\">4</span><div class=\"sc-jOFryr egeLzW\"><div class=\"sc-hmbstg iriXCP\"><p class=\"sc-eKYRIR llyViG\">れいわ・山本氏「懲罰は不当」</p><div class=\"sc-bTDOke etPSOa\"><span class=\"sc-kHWWYL zRuTu\">時事通信</span><time><span class=\"sc-hOPeYd eXirsP\">6/9(金)</span><span class=\"sc-hOPeYd eXirsP\">16:44</span></time></div></div><div class=\"sc-TtZnY gnBPmJ\"><div class=\"sc-lbVvki inBtXc thumbnail thumbnail-small\"><picture><source srcset=\"https://news-pctr.c.yimg.jp/uUzvQ3lML_bkIqyakc1vFlbRKZtM9u5XWE0uy3m1LJu6SLQ0Hjm4rTXshTvF449cqmYcUvXcYuerHu59EHhzGNHqqvOOIuthcgI96cNlLCsOnZCg5KrSCKcH6yWH3rASUf1tUC46Y0uX08oXWGrVvnVPLVVRznqBM7zs1ECKVXN_eNpyt-bY4ScAeLdJz0m7PxrOdAEigPKbw4HjD53NBFvCyN0FDEyuxO4sk14UVY0qgyXR-N4w8koTAisV07W0U05-bNCC_3C1t7OC7dD76OWe4iAztc8Jo7WN7TOAup_I_MW3uel_xD1xhaE0jcmq\" type=\"image/webp\"/><source srcset=\"https://news-pctr.c.yimg.jp/uUzvQ3lML_bkIqyakc1vFlbRKZtM9u5XWE0uy3m1LJu6SLQ0Hjm4rTXshTvF449cqmYcUvXcYuerHu59EHhzGNHqqvOOIuthcgI96cNlLCsOnZCg5KrSCKcH6yWH3rASUf1tUC46Y0uX08oXWGrVvnVPLVVRznqBM7zs1ECKVXN_eNpyt-bY4ScAeLdJz0m7PxrOdAEigPKbw4HjD53NBFvCyN0FDEyuxO4sk14UVY0qgyXR-N4w8koTAisV07W0zjyrNJ4pYrNX3X5ULmfmwz_Ye4Ci9K7FjRnxL5xt3Sxf88GgdxoJcJ99iyxuowwe\" type=\"image/jpeg\"/><img alt=\"\" class=\"sc-gGLxEB eFqdlj\" loading=\"lazy\" src=\"https://news-pctr.c.yimg.jp/t/amd-img/20230609-00000115-jij-000-14-view.jpg?w=264&amp;h=264&amp;pri=l&amp;cx=0&amp;cy=0&amp;cw=904&amp;ch=904&amp;q=90&amp;exp=10800&amp;order=c2r\"/></picture></div></div></div></div></a></li>,\n",
       " <li class=\"sc-fXazdy UjHkE\"><a class=\"sc-dsXzNU iNWOJK\" data-cl-params=\"_cl_vmodule:accr;_cl_link:title;_cl_position:5;\" href=\"https://news.yahoo.co.jp/articles/d5eb86f96ef3dfd218457c8ee806e5ed17017498\"><div class=\"sc-jHNicF bMmwdY\"><span class=\"sc-amiJK bvMJFo\">5</span><div class=\"sc-jOFryr egeLzW\"><div class=\"sc-hmbstg iriXCP\"><p class=\"sc-eKYRIR llyViG\">丸山穂高氏、国会で〝暴力〟のれいわ・山本太郎代表の除名処分訴える　山本代表の過去ツイート引用　ガーシー容疑者も引き合いに</p><div class=\"sc-bTDOke etPSOa\"><span class=\"sc-kHWWYL zRuTu\">よろず～ニュース</span><time><span class=\"sc-hOPeYd eXirsP\">6/9(金)</span><span class=\"sc-hOPeYd eXirsP\">14:29</span></time></div></div><div class=\"sc-TtZnY gnBPmJ\"><div class=\"sc-lbVvki inBtXc thumbnail thumbnail-small\"><picture><source srcset=\"https://news-pctr.c.yimg.jp/uUzvQ3lML_bkIqyakc1vFlbRKZtM9u5XWE0uy3m1LJu6SLQ0Hjm4rTXshTvF449c5RjCrdLy5BNXKpw-0feQEkHD-kJIl1ebmaETfpdSKg8KGrATmMJyFv3_PVMK9F12Bbc6oweA_W6kadzGJChcLyf2xnbvs5lTnPYPCwlVx8QcobpkeCZ2scIXiw4914vlQs6-ag2g28d16yHf9JxQ370JfbAoGqxWbgME6sZAsdN65RYxvQiRgqXEY9NehYL9420YNX-8dqfZzFWg1halNdEKES86p1WknsQCzzg3VpykzuzXKEnEScPpGt3WVw5u\" type=\"image/webp\"/><source srcset=\"https://news-pctr.c.yimg.jp/uUzvQ3lML_bkIqyakc1vFlbRKZtM9u5XWE0uy3m1LJu6SLQ0Hjm4rTXshTvF449c5RjCrdLy5BNXKpw-0feQEkHD-kJIl1ebmaETfpdSKg8KGrATmMJyFv3_PVMK9F12Bbc6oweA_W6kadzGJChcLyf2xnbvs5lTnPYPCwlVx8QcobpkeCZ2scIXiw4914vlQs6-ag2g28d16yHf9JxQ370JfbAoGqxWbgME6sZAsdN65RYxvQiRgqXEY9NehYL9420YNX-8dqfZzFWg1halNQLPZAbba4NhulBKxGMJlFJUDl8fKigVCFo1kzHflRR9\" type=\"image/jpeg\"/><img alt=\"\" class=\"sc-gGLxEB eFqdlj\" loading=\"lazy\" src=\"https://news-pctr.c.yimg.jp/t/amd-img/20230609-11433608-yorozuns-000-1-view.jpg?w=264&amp;h=264&amp;pri=l&amp;cx=46&amp;cy=0&amp;cw=547&amp;ch=547&amp;q=90&amp;exp=10800&amp;order=c2r\"/></picture></div></div></div></div></a></li>]"
      ]
     },
     "execution_count": 8,
     "metadata": {},
     "output_type": "execute_result"
    }
   ],
   "source": [
    "URL = url + topic_url\n",
    "\n",
    "r = requests.get(URL)\n",
    "\n",
    "soup = BeautifulSoup(r.text, \"html.parser\")\n",
    "\n",
    "elements = soup.select('.sc-fXazdy.UjHkE')\n",
    "\n",
    "elements = elements[:5]\n",
    "\n",
    "elements"
   ]
  },
  {
   "cell_type": "code",
   "execution_count": 9,
   "id": "78791e14-3bcc-43d9-95ce-7e32a1fb992e",
   "metadata": {},
   "outputs": [],
   "source": [
    "news_urls = []\n",
    "news_titles = []\n",
    "for element in elements:\n",
    "    url = element.a['href']\n",
    "    title = element.text[1:]\n",
    "    news_urls.append(url)\n",
    "    news_titles.append(title)\n",
    "    time.sleep(1)\n"
   ]
  },
  {
   "cell_type": "code",
   "execution_count": 10,
   "id": "4390cfbd-ab7d-450c-a05e-5d66b2ccdcee",
   "metadata": {},
   "outputs": [
    {
     "data": {
      "text/plain": [
       "[{'title': '長嶋一茂、「スシロー」が迷惑動画の少年に６７００万円を請求した提訴で提言…少年に「裏方さんの業務をやらせるのもひとつ手じゃないか」スポーツ報知6/9(金)8:38',\n",
       "  'URL': 'https://news.yahoo.co.jp/articles/ba9c07bfaf4ea63a5ec6cb93c4ff353ab79ae72a'},\n",
       " {'title': '新幹線のノーズが外れる衝撃\\u3000３００キロ走行中に人と接触か\\u3000乗客約４４０人が５時間待機強いられるABCニュース6/9(金)12:12',\n",
       "  'URL': 'https://news.yahoo.co.jp/articles/76501dc339bfdfc62079867d2d836d0a0e00bef1'},\n",
       " {'title': '「ヤバくねえんだよ」すれ違い男性がベビーカー引っ張り凄む\\u3000母親が被害訴え...施設は警察に映像提供J-CASTニュース6/8(木)19:58',\n",
       "  'URL': 'https://news.yahoo.co.jp/articles/b71ecd1b980242110388be2d9c0295c79082ac0f'},\n",
       " {'title': 'れいわ・山本氏「懲罰は不当」時事通信6/9(金)16:44',\n",
       "  'URL': 'https://news.yahoo.co.jp/articles/c90a935cd4f6c726968b6e04993aa133ec23464a'},\n",
       " {'title': '丸山穂高氏、国会で〝暴力〟のれいわ・山本太郎代表の除名処分訴える\\u3000山本代表の過去ツイート引用\\u3000ガーシー容疑者も引き合いによろず～ニュース6/9(金)14:29',\n",
       "  'URL': 'https://news.yahoo.co.jp/articles/d5eb86f96ef3dfd218457c8ee806e5ed17017498'}]"
      ]
     },
     "execution_count": 10,
     "metadata": {},
     "output_type": "execute_result"
    }
   ],
   "source": [
    "articles = []\n",
    "for url, title in zip(news_urls, news_titles):\n",
    "    article = {\n",
    "        \"title\" : title,\n",
    "        \"URL\" : url,\n",
    "    }\n",
    "    articles.append(article)\n",
    "\n",
    "articles"
   ]
  },
  {
   "cell_type": "code",
   "execution_count": 12,
   "id": "f2f22968-b946-45d1-9141-ccf5479ced11",
   "metadata": {},
   "outputs": [
    {
     "data": {
      "text/plain": [
       "['https://news.yahoo.co.jp/articles/ba9c07bfaf4ea63a5ec6cb93c4ff353ab79ae72a',\n",
       " 'https://news.yahoo.co.jp/articles/76501dc339bfdfc62079867d2d836d0a0e00bef1',\n",
       " 'https://news.yahoo.co.jp/articles/b71ecd1b980242110388be2d9c0295c79082ac0f',\n",
       " 'https://news.yahoo.co.jp/articles/c90a935cd4f6c726968b6e04993aa133ec23464a',\n",
       " 'https://news.yahoo.co.jp/articles/d5eb86f96ef3dfd218457c8ee806e5ed17017498']"
      ]
     },
     "execution_count": 12,
     "metadata": {},
     "output_type": "execute_result"
    }
   ],
   "source": [
    "news_urls"
   ]
  },
  {
   "cell_type": "code",
   "execution_count": null,
   "id": "e5054ba0-b9a5-4607-9f3f-b44dad6c04f2",
   "metadata": {},
   "outputs": [],
   "source": []
  }
 ],
 "metadata": {
  "kernelspec": {
   "display_name": "Python 3 (ipykernel)",
   "language": "python",
   "name": "python3"
  },
  "language_info": {
   "codemirror_mode": {
    "name": "ipython",
    "version": 3
   },
   "file_extension": ".py",
   "mimetype": "text/x-python",
   "name": "python",
   "nbconvert_exporter": "python",
   "pygments_lexer": "ipython3",
   "version": "3.11.3"
  }
 },
 "nbformat": 4,
 "nbformat_minor": 5
}
