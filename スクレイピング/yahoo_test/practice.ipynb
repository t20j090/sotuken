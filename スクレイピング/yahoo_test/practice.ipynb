{
 "cells": [
  {
   "cell_type": "code",
   "execution_count": 1,
   "id": "18728281-75ea-4761-8e1f-bebbc424a70d",
   "metadata": {},
   "outputs": [],
   "source": [
    "from bs4 import BeautifulSoup\n",
    "import requests\n",
    "import time"
   ]
  },
  {
   "cell_type": "code",
   "execution_count": 2,
   "id": "7ee7e1bd-dced-481e-8471-b08848b62152",
   "metadata": {},
   "outputs": [
    {
     "data": {
      "text/plain": [
       "[<li class=\"sc-fKgJPI fFnFHR\"><a class=\"sc-dlMDgC kpPvTx\" data-cl-params=\"_cl_vmodule:snavi;_cl_link:dom;\" href=\"/categories/domestic\">国内</a></li>,\n",
       " <li class=\"sc-fKgJPI fFnFHR\"><a class=\"sc-dlMDgC kpPvTx\" data-cl-params=\"_cl_vmodule:snavi;_cl_link:wor;\" href=\"/categories/world\">国際</a></li>,\n",
       " <li class=\"sc-fKgJPI fFnFHR\"><a class=\"sc-dlMDgC kpPvTx\" data-cl-params=\"_cl_vmodule:snavi;_cl_link:bus;\" href=\"/categories/business\">経済</a></li>,\n",
       " <li class=\"sc-fKgJPI fFnFHR\"><a class=\"sc-dlMDgC kpPvTx\" data-cl-params=\"_cl_vmodule:snavi;_cl_link:ent;\" href=\"/categories/entertainment\">エンタメ</a></li>,\n",
       " <li class=\"sc-fKgJPI fFnFHR\"><a class=\"sc-dlMDgC kpPvTx\" data-cl-params=\"_cl_vmodule:snavi;_cl_link:spo;\" href=\"/categories/sports\">スポーツ</a></li>,\n",
       " <li class=\"sc-fKgJPI fFnFHR\"><a class=\"sc-dlMDgC kpPvTx\" data-cl-params=\"_cl_vmodule:snavi;_cl_link:it;\" href=\"/categories/it\">IT</a></li>,\n",
       " <li class=\"sc-fKgJPI fFnFHR\"><a class=\"sc-dlMDgC kpPvTx\" data-cl-params=\"_cl_vmodule:snavi;_cl_link:sci;\" href=\"/categories/science\">科学</a></li>,\n",
       " <li class=\"sc-fKgJPI fFnFHR\"><a class=\"sc-dlMDgC kpPvTx\" data-cl-params=\"_cl_vmodule:snavi;_cl_link:lif;\" href=\"/categories/life\">ライフ</a></li>,\n",
       " <li class=\"sc-fKgJPI fFnFHR\"><a class=\"sc-dlMDgC kpPvTx\" data-cl-params=\"_cl_vmodule:snavi;_cl_link:loc;\" href=\"/categories/local\">地域</a></li>,\n",
       " <li class=\"sc-fKgJPI fFnFHR\"><a class=\"sc-dlMDgC kpPvTx\" data-cl-params=\"_cl_vmodule:snavi;_cl_link:tpc_list;\" href=\"/topics/top-picks\">トピックス一覧</a></li>]"
      ]
     },
     "execution_count": 2,
     "metadata": {},
     "output_type": "execute_result"
    }
   ],
   "source": [
    "url = 'https://news.yahoo.co.jp/'\n",
    "\n",
    "r = requests.get(url)\n",
    "\n",
    "soup = BeautifulSoup(r.text, \"html.parser\")\n",
    "\n",
    "elements = soup.select('.sc-fKgJPI.fFnFHR')\n",
    "\n",
    "elements"
   ]
  },
  {
   "cell_type": "code",
   "execution_count": 3,
   "id": "791337eb-b154-488b-84aa-1e7bfe79695b",
   "metadata": {},
   "outputs": [
    {
     "data": {
      "text/plain": [
       "['/categories/domestic',\n",
       " '/categories/world',\n",
       " '/categories/business',\n",
       " '/categories/entertainment',\n",
       " '/categories/sports',\n",
       " '/categories/it',\n",
       " '/categories/science',\n",
       " '/categories/life',\n",
       " '/categories/local',\n",
       " '/topics/top-picks']"
      ]
     },
     "execution_count": 3,
     "metadata": {},
     "output_type": "execute_result"
    }
   ],
   "source": [
    "topics_li = []\n",
    "for element in elements:\n",
    "    url_href = element.a['href']\n",
    "    topics_li.append(url_href)\n",
    "    time.sleep(1)\n",
    "\n",
    "topics_li"
   ]
  },
  {
   "cell_type": "code",
   "execution_count": 4,
   "id": "b540e8bc-969b-46e0-9fe6-77c635a92688",
   "metadata": {},
   "outputs": [],
   "source": [
    "topics_urls = []\n",
    "for i in topics_li:\n",
    "    topics_urls.append(url + i)\n",
    "    time.sleep(1)"
   ]
  },
  {
   "cell_type": "code",
   "execution_count": 5,
   "id": "cb2aa050-c47a-454a-87d6-f4748b7b4f1c",
   "metadata": {},
   "outputs": [
    {
     "data": {
      "text/plain": [
       "'https://news.yahoo.co.jp//topics/top-picks'"
      ]
     },
     "execution_count": 5,
     "metadata": {},
     "output_type": "execute_result"
    }
   ],
   "source": [
    "topics_urls.pop(-1)"
   ]
  },
  {
   "cell_type": "code",
   "execution_count": 6,
   "id": "cc64dbbd-a3d9-4482-b112-d158ae1eb622",
   "metadata": {},
   "outputs": [
    {
     "data": {
      "text/plain": [
       "[<li class=\"sc-fXazdy UjHkE\"><a class=\"sc-dsXzNU iNWOJK\" data-cl-params=\"_cl_vmodule:accr;_cl_link:title;_cl_position:1;\" href=\"https://news.yahoo.co.jp/articles/f4d136e081c48388e63fe3fa197f8791f29ea89f\"><div class=\"sc-jHNicF bMmwdY\"><span class=\"sc-amiJK bvMJFo\">1</span><div class=\"sc-jOFryr egeLzW\"><div class=\"sc-hmbstg iriXCP\"><p class=\"sc-eKYRIR llyViG\">公邸での忘年会写真はなぜ「流出」したのか　岸田首相の長男・翔太郎秘書官辞任</p><div class=\"sc-bTDOke etPSOa\"><span class=\"sc-kHWWYL zRuTu\">ニッポン放送</span><time><span class=\"sc-hOPeYd eXirsP\">5/30(火)</span><span class=\"sc-hOPeYd eXirsP\">11:30</span></time></div></div><div class=\"sc-TtZnY gnBPmJ\"><div class=\"sc-lbVvki inBtXc thumbnail thumbnail-small\"><picture><source srcset=\"https://news-pctr.c.yimg.jp/uUzvQ3lML_bkIqyakc1vFlbRKZtM9u5XWE0uy3m1LJu6SLQ0Hjm4rTXshTvF449c1UurPOqJY5fuOtksvw_Y6DLN6QeiAY9rjgtNh4lkDTCcbtk-VUHl4MCm3uRQIDwA5Y2FsmZkvOnMIlXzwgPsNCA_TNZ4Z-MRoVH8jPBG4v6pZgXyr-O9yyqZe7LGwL1dubH2MBDVAmVebVkPlxiY7Ff04YtDYSWPpBqx2JI_7HyFIiMVpbJDMwfvSKtFp06Woy6ypMf2_UDDhoxeFPFgtJqwU2CY-FBv7VHA3YlBj17DNDg_2xn8vYStqqX54R6l\" type=\"image/webp\"/><source srcset=\"https://news-pctr.c.yimg.jp/uUzvQ3lML_bkIqyakc1vFlbRKZtM9u5XWE0uy3m1LJu6SLQ0Hjm4rTXshTvF449c1UurPOqJY5fuOtksvw_Y6DLN6QeiAY9rjgtNh4lkDTCcbtk-VUHl4MCm3uRQIDwA5Y2FsmZkvOnMIlXzwgPsNCA_TNZ4Z-MRoVH8jPBG4v6pZgXyr-O9yyqZe7LGwL1dubH2MBDVAmVebVkPlxiY7Ff04YtDYSWPpBqx2JI_7HyFIiMVpbJDMwfvSKtFp06WNGoq6jSdZtu6YA4Yr-69Sjbh8uzkxACZyb84pCuHO5zYuGn_2wVr99A-RlwgOEnj\" type=\"image/jpeg\"/><img alt=\"\" class=\"sc-gGLxEB eFqdlj\" loading=\"lazy\" src=\"https://news-pctr.c.yimg.jp/t/amd-img/20230530-00440162-nshaberu-000-3-view.jpg?w=264&amp;h=264&amp;pri=l&amp;cx=0&amp;cy=0&amp;cw=500&amp;ch=500&amp;q=90&amp;exp=10800&amp;order=c2r\"/></picture></div></div></div></div></a></li>,\n",
       " <li class=\"sc-fXazdy UjHkE\"><a class=\"sc-dsXzNU iNWOJK\" data-cl-params=\"_cl_vmodule:accr;_cl_link:title;_cl_position:2;\" href=\"https://news.yahoo.co.jp/articles/5c3c65f056172dad938862858ce6296198cd8aed\"><div class=\"sc-jHNicF bMmwdY\"><span class=\"sc-amiJK bvMJFo\">2</span><div class=\"sc-jOFryr egeLzW\"><div class=\"sc-hmbstg iriXCP\"><p class=\"sc-eKYRIR llyViG\">ここまでアホを繰り返すとは…岸田”ドラ息子”秘書官更迭に与野党が安堵「国益のためにも、これでよかったのだ」</p><div class=\"sc-bTDOke etPSOa\"><span class=\"sc-kHWWYL zRuTu\">みんかぶマガジン</span><time><span class=\"sc-hOPeYd eXirsP\">5/30(火)</span><span class=\"sc-hOPeYd eXirsP\">9:10</span></time></div></div><div class=\"sc-TtZnY gnBPmJ\"><div class=\"sc-lbVvki inBtXc thumbnail thumbnail-small\"><picture><source srcset=\"https://news-pctr.c.yimg.jp/uUzvQ3lML_bkIqyakc1vFlbRKZtM9u5XWE0uy3m1LJu6SLQ0Hjm4rTXshTvF449c1UurPOqJY5fuOtksvw_Y6HJXJ1xB3X1O68EpH1uRFjw64O8g1jBxSFUQCFfyLHI852x11Ac0sp-s617po8tytwe-GcnIFyXkYDmq44QSP7TXw6CgP1nepdxSMDNVVsCprj91tiMs9_sU8SglFsYDebKaaHeDA67CZmKauDwlR-CWQAvHakRBQ7M-n7Z2YIQrjqxsprJobmxMNFkdQZE7WyDHlyadenVkivqnulwxowTihp91M7qN2aDUkO_dSFlI\" type=\"image/webp\"/><source srcset=\"https://news-pctr.c.yimg.jp/uUzvQ3lML_bkIqyakc1vFlbRKZtM9u5XWE0uy3m1LJu6SLQ0Hjm4rTXshTvF449c1UurPOqJY5fuOtksvw_Y6HJXJ1xB3X1O68EpH1uRFjw64O8g1jBxSFUQCFfyLHI852x11Ac0sp-s617po8tytwe-GcnIFyXkYDmq44QSP7TXw6CgP1nepdxSMDNVVsCprj91tiMs9_sU8SglFsYDebKaaHeDA67CZmKauDwlR-CWQAvHakRBQ7M-n7Z2YIQrjqxsprJobmxMNFkdQZE7W_0RwcUh1hmHorQbGZlDeC3wvCpf_dej0LdaMnkt79zd\" type=\"image/jpeg\"/><img alt=\"\" class=\"sc-gGLxEB eFqdlj\" loading=\"lazy\" src=\"https://news-pctr.c.yimg.jp/t/amd-img/20230530-00010001-minkabu-000-1-view.jpg?w=264&amp;h=264&amp;pri=l&amp;cx=285&amp;cy=0&amp;cw=630&amp;ch=630&amp;q=90&amp;exp=10800&amp;order=c2r\"/></picture></div></div></div></div></a></li>,\n",
       " <li class=\"sc-fXazdy UjHkE\"><a class=\"sc-dsXzNU iNWOJK\" data-cl-params=\"_cl_vmodule:accr;_cl_link:title;_cl_position:3;\" href=\"https://news.yahoo.co.jp/articles/490563c18d28aa0216425e50213ec396fc901e04\"><div class=\"sc-jHNicF bMmwdY\"><span class=\"sc-amiJK bvMJFo\">3</span><div class=\"sc-jOFryr egeLzW\"><div class=\"sc-hmbstg iriXCP\"><p class=\"sc-eKYRIR llyViG\">ＰＴＡを解散したら…「楽しい」と笑って活動する親が増えた　保護者にのしかかる負担を減らし、義務・強制をやめる方法とは</p><div class=\"sc-bTDOke etPSOa\"><span class=\"sc-kHWWYL zRuTu\">47NEWS</span><time><span class=\"sc-hOPeYd eXirsP\">5/30(火)</span><span class=\"sc-hOPeYd eXirsP\">10:02</span></time></div></div><div class=\"sc-TtZnY gnBPmJ\"><div class=\"sc-lbVvki inBtXc thumbnail thumbnail-small\"><picture><source srcset=\"https://news-pctr.c.yimg.jp/uUzvQ3lML_bkIqyakc1vFlbRKZtM9u5XWE0uy3m1LJu6SLQ0Hjm4rTXshTvF449c1UurPOqJY5fuOtksvw_Y6JezAKQOWnYhSEKc88VwQnROG-RkPxJVBshdT57FLCQodDOHjUtYPFgAN1bcKD6CUXicNnUTb51jEHM8hZBGAfgEoegQNLOO14BZPV7zyHzxzU_Z48cAKYgXPcLFXzSUpQuJ9ptAtSDVK3OE2NCT-JjBpGyQTs30NNkA-hfGsClu6mQ_lwjryuhL9N7SULEfnJgIG91EFg5pAfux_97x_5QOsOl0_p4hz2uM4MC6fjgz\" type=\"image/webp\"/><source srcset=\"https://news-pctr.c.yimg.jp/uUzvQ3lML_bkIqyakc1vFlbRKZtM9u5XWE0uy3m1LJu6SLQ0Hjm4rTXshTvF449c1UurPOqJY5fuOtksvw_Y6JezAKQOWnYhSEKc88VwQnROG-RkPxJVBshdT57FLCQodDOHjUtYPFgAN1bcKD6CUXicNnUTb51jEHM8hZBGAfgEoegQNLOO14BZPV7zyHzxzU_Z48cAKYgXPcLFXzSUpQuJ9ptAtSDVK3OE2NCT-JjBpGyQTs30NNkA-hfGsClu6mQ_lwjryuhL9N7SULEfnBnYqV2LYMW3ZiKsZVMBbWyWrAz4sc3yiSOuyqA8a_1o\" type=\"image/jpeg\"/><img alt=\"\" class=\"sc-gGLxEB eFqdlj\" loading=\"lazy\" src=\"https://news-pctr.c.yimg.jp/t/amd-img/20230530-00000001-yonnana-000-2-view.jpg?w=264&amp;h=264&amp;pri=l&amp;cx=187&amp;cy=0&amp;cw=518&amp;ch=518&amp;q=90&amp;exp=10800&amp;order=c2r\"/></picture></div></div></div></div></a></li>,\n",
       " <li class=\"sc-fXazdy UjHkE\"><a class=\"sc-dsXzNU iNWOJK\" data-cl-params=\"_cl_vmodule:accr;_cl_link:title;_cl_position:4;\" href=\"https://news.yahoo.co.jp/articles/665f1f96ffc629f77d76d012f160e159c3ced6e2\"><div class=\"sc-jHNicF bMmwdY\"><span class=\"sc-amiJK bvMJFo\">4</span><div class=\"sc-jOFryr egeLzW\"><div class=\"sc-hmbstg iriXCP\"><p class=\"sc-eKYRIR llyViG\">【独自】逃げ切ったのにUターン?車の間をすり抜けパトカーから逃走する2人乗り原付バイク　不可解な行動の”謎”</p><div class=\"sc-bTDOke etPSOa\"><span class=\"sc-kHWWYL zRuTu\">FNNプライムオンライン</span><time><span class=\"sc-hOPeYd eXirsP\">5/30(火)</span><span class=\"sc-hOPeYd eXirsP\">13:18</span></time></div></div><div class=\"sc-TtZnY gnBPmJ\"><div class=\"sc-lbVvki inBtXc thumbnail thumbnail-small\"><picture><source srcset=\"https://news-pctr.c.yimg.jp/uUzvQ3lML_bkIqyakc1vFlbRKZtM9u5XWE0uy3m1LJu6SLQ0Hjm4rTXshTvF449c1UurPOqJY5fuOtksvw_Y6JO1dCM5Nj-tpy4Ss5t0IJ2VUz2tz6UHkTYG7ss450NWIBhEJL_oOVbIQKCJIBJZXZQl9N0NMvudT6vhRte_y_w5fYLOucUNvCLYL3FKi0aUrg-JaYpaF6ENJS5yXPNJ9jqGHdH5BVX_dPjz6C-PdSvZ_dyvmdexnNAP3qBqi8GRPlrFdKiqw0yJb7SxKlHt9Oq4FMTkljXIhZpD63q9yO7T-oFVBfowMyBcbD85AdkT\" type=\"image/webp\"/><source srcset=\"https://news-pctr.c.yimg.jp/uUzvQ3lML_bkIqyakc1vFlbRKZtM9u5XWE0uy3m1LJu6SLQ0Hjm4rTXshTvF449c1UurPOqJY5fuOtksvw_Y6JO1dCM5Nj-tpy4Ss5t0IJ2VUz2tz6UHkTYG7ss450NWIBhEJL_oOVbIQKCJIBJZXZQl9N0NMvudT6vhRte_y_w5fYLOucUNvCLYL3FKi0aUrg-JaYpaF6ENJS5yXPNJ9jqGHdH5BVX_dPjz6C-PdSvZ_dyvmdexnNAP3qBqi8GRPlrFdKiqw0yJb7SxKlHt9OL_wz67ElMFqG0Z8_lUM-zy8DGMDsXJuNAV9oldZQ2d\" type=\"image/jpeg\"/><img alt=\"\" class=\"sc-gGLxEB eFqdlj\" loading=\"lazy\" src=\"https://news-pctr.c.yimg.jp/t/amd-img/20230530-00635131-fnnprimev-000-1-view.jpg?w=264&amp;h=264&amp;pri=l&amp;cx=420&amp;cy=0&amp;cw=1080&amp;ch=1080&amp;q=90&amp;exp=10800&amp;order=c2r\"/></picture></div></div></div></div></a></li>,\n",
       " <li class=\"sc-fXazdy UjHkE\"><a class=\"sc-dsXzNU iNWOJK\" data-cl-params=\"_cl_vmodule:accr;_cl_link:title;_cl_position:5;\" href=\"https://news.yahoo.co.jp/articles/b630256eef99d1ced57b8473a60b14b4499cb66b\"><div class=\"sc-jHNicF bMmwdY\"><span class=\"sc-amiJK bvMJFo\">5</span><div class=\"sc-jOFryr egeLzW\"><div class=\"sc-hmbstg iriXCP\"><p class=\"sc-eKYRIR llyViG\">岸田翔太郎氏、退職金やボーナス「支給なら返納したいと申し出」</p><div class=\"sc-bTDOke etPSOa\"><span class=\"sc-kHWWYL zRuTu\">毎日新聞</span><time><span class=\"sc-hOPeYd eXirsP\">5/30(火)</span><span class=\"sc-hOPeYd eXirsP\">10:49</span></time></div></div><div class=\"sc-TtZnY gnBPmJ\"><div class=\"sc-lbVvki inBtXc thumbnail thumbnail-small\"><picture><source srcset=\"https://news-pctr.c.yimg.jp/uUzvQ3lML_bkIqyakc1vFlbRKZtM9u5XWE0uy3m1LJu6SLQ0Hjm4rTXshTvF449c1UurPOqJY5fuOtksvw_Y6M8fiGqL3OoMkiC5254fREobQEK_I_cG9vSgIT9DCorBFrcNdPUs3gFTDWfqemQTyFL32kRYrFSYUpowrq4jmH5gRu1z4byCw2g73idI0e9YM9jltB4tR8ETSsSUGkSuCNweT0VNDVl1xyq4j_6LLOSEaT6ONEzbTP1DvP6ibP8FyoEZ6g8A-CqfGQOMR19xQPvNzv9gGFxqT-IEMu5sya83MEkw-n73I8SJl7FEXn-2\" type=\"image/webp\"/><source srcset=\"https://news-pctr.c.yimg.jp/uUzvQ3lML_bkIqyakc1vFlbRKZtM9u5XWE0uy3m1LJu6SLQ0Hjm4rTXshTvF449c1UurPOqJY5fuOtksvw_Y6M8fiGqL3OoMkiC5254fREobQEK_I_cG9vSgIT9DCorBFrcNdPUs3gFTDWfqemQTyFL32kRYrFSYUpowrq4jmH5gRu1z4byCw2g73idI0e9YM9jltB4tR8ETSsSUGkSuCNweT0VNDVl1xyq4j_6LLOSEaT6ONEzbTP1DvP6ibP8Fuj7u74WvGWLP_3DX_b2zbxpbXuzfeIRLkr4rc8SGZtOsOmgBwscm23rVWz1MiES_\" type=\"image/jpeg\"/><img alt=\"\" class=\"sc-gGLxEB eFqdlj\" loading=\"lazy\" src=\"https://news-pctr.c.yimg.jp/t/amd-img/20230530-00000015-mai-000-14-view.jpg?w=264&amp;h=264&amp;pri=l&amp;cx=0&amp;cy=85&amp;cw=437&amp;ch=437&amp;q=90&amp;exp=10800&amp;order=c2r\"/></picture></div></div></div></div></a></li>]"
      ]
     },
     "execution_count": 6,
     "metadata": {},
     "output_type": "execute_result"
    }
   ],
   "source": [
    "topics_url =  topics_urls[0]\n",
    "\n",
    "r = requests.get(topics_url)\n",
    "\n",
    "soup = BeautifulSoup(r.text, \"html.parser\")\n",
    "\n",
    "elements = soup.select('.sc-fXazdy.UjHkE')\n",
    "\n",
    "elements = elements[:5]\n",
    "\n",
    "elements"
   ]
  },
  {
   "cell_type": "code",
   "execution_count": 7,
   "id": "78791e14-3bcc-43d9-95ce-7e32a1fb992e",
   "metadata": {},
   "outputs": [],
   "source": [
    "news_urls = []\n",
    "news_titles = []\n",
    "for element in elements:\n",
    "    url = element.a['href']\n",
    "    title = element.text[1:]\n",
    "    news_urls.append(url)\n",
    "    news_titles.append(title)\n",
    "    time.sleep(1)\n"
   ]
  },
  {
   "cell_type": "code",
   "execution_count": 8,
   "id": "4390cfbd-ab7d-450c-a05e-5d66b2ccdcee",
   "metadata": {},
   "outputs": [
    {
     "data": {
      "text/plain": [
       "[{'title': '公邸での忘年会写真はなぜ「流出」したのか\\u3000岸田首相の長男・翔太郎秘書官辞任ニッポン放送5/30(火)11:30',\n",
       "  'URL': 'https://news.yahoo.co.jp/articles/f4d136e081c48388e63fe3fa197f8791f29ea89f'},\n",
       " {'title': 'ここまでアホを繰り返すとは…岸田”ドラ息子”秘書官更迭に与野党が安堵「国益のためにも、これでよかったのだ」みんかぶマガジン5/30(火)9:10',\n",
       "  'URL': 'https://news.yahoo.co.jp/articles/5c3c65f056172dad938862858ce6296198cd8aed'},\n",
       " {'title': 'ＰＴＡを解散したら…「楽しい」と笑って活動する親が増えた\\u3000保護者にのしかかる負担を減らし、義務・強制をやめる方法とは47NEWS5/30(火)10:02',\n",
       "  'URL': 'https://news.yahoo.co.jp/articles/490563c18d28aa0216425e50213ec396fc901e04'},\n",
       " {'title': '【独自】逃げ切ったのにUターン?車の間をすり抜けパトカーから逃走する2人乗り原付バイク\\u3000不可解な行動の”謎”FNNプライムオンライン5/30(火)13:18',\n",
       "  'URL': 'https://news.yahoo.co.jp/articles/665f1f96ffc629f77d76d012f160e159c3ced6e2'},\n",
       " {'title': '岸田翔太郎氏、退職金やボーナス「支給なら返納したいと申し出」毎日新聞5/30(火)10:49',\n",
       "  'URL': 'https://news.yahoo.co.jp/articles/b630256eef99d1ced57b8473a60b14b4499cb66b'}]"
      ]
     },
     "execution_count": 8,
     "metadata": {},
     "output_type": "execute_result"
    }
   ],
   "source": [
    "articles = []\n",
    "for url, title in zip(news_urls, news_titles):\n",
    "    article = {\n",
    "        \"title\" : title,\n",
    "        \"URL\" : url,\n",
    "    }\n",
    "    articles.append(article)\n",
    "\n",
    "articles"
   ]
  },
  {
   "cell_type": "code",
   "execution_count": 9,
   "id": "f2f22968-b946-45d1-9141-ccf5479ced11",
   "metadata": {},
   "outputs": [
    {
     "data": {
      "text/plain": [
       "['https://news.yahoo.co.jp/articles/f4d136e081c48388e63fe3fa197f8791f29ea89f',\n",
       " 'https://news.yahoo.co.jp/articles/5c3c65f056172dad938862858ce6296198cd8aed',\n",
       " 'https://news.yahoo.co.jp/articles/490563c18d28aa0216425e50213ec396fc901e04',\n",
       " 'https://news.yahoo.co.jp/articles/665f1f96ffc629f77d76d012f160e159c3ced6e2',\n",
       " 'https://news.yahoo.co.jp/articles/b630256eef99d1ced57b8473a60b14b4499cb66b']"
      ]
     },
     "execution_count": 9,
     "metadata": {},
     "output_type": "execute_result"
    }
   ],
   "source": [
    "news_urls"
   ]
  },
  {
   "cell_type": "code",
   "execution_count": 10,
   "id": "658673ca-df17-4528-bd28-f866da075e0e",
   "metadata": {},
   "outputs": [],
   "source": [
    "news_url = news_urls[0]\n",
    "r = requests.get(news_url)\n",
    "soup = BeautifulSoup(r.text, \"html.parser\")\n",
    "elements = soup.select('.sc-dYXZXt.jzZUwL.yjSlinkDirectlink.highLightSearchTarget')"
   ]
  },
  {
   "cell_type": "code",
   "execution_count": 11,
   "id": "0c217c13-dea8-4503-8141-9c55eacfa9a0",
   "metadata": {},
   "outputs": [],
   "source": [
    "text = elements[0].text"
   ]
  },
  {
   "cell_type": "code",
   "execution_count": 12,
   "id": "133a03d1-d7b2-4eea-92ab-e3bd6b8373ab",
   "metadata": {},
   "outputs": [],
   "source": [
    "text = text.replace('\\n', '')"
   ]
  },
  {
   "cell_type": "code",
   "execution_count": 13,
   "id": "30a93a21-1cf7-42a3-a959-0d480d33fe90",
   "metadata": {},
   "outputs": [
    {
     "data": {
      "text/plain": [
       "'ジャーナリストの有本香が5月30日、ニッポン放送「飯田浩司のOK! Cozy up!」に出演。岸田翔太郎秘書官の事実上の更迭について解説した。【写真】「岸田ファミリーインスタライブ」を配信した時の、岸田翔太郎氏'"
      ]
     },
     "execution_count": 13,
     "metadata": {},
     "output_type": "execute_result"
    }
   ],
   "source": [
    "text"
   ]
  },
  {
   "cell_type": "code",
   "execution_count": null,
   "id": "e5054ba0-b9a5-4607-9f3f-b44dad6c04f2",
   "metadata": {},
   "outputs": [],
   "source": []
  }
 ],
 "metadata": {
  "kernelspec": {
   "display_name": "Python 3 (ipykernel)",
   "language": "python",
   "name": "python3"
  },
  "language_info": {
   "codemirror_mode": {
    "name": "ipython",
    "version": 3
   },
   "file_extension": ".py",
   "mimetype": "text/x-python",
   "name": "python",
   "nbconvert_exporter": "python",
   "pygments_lexer": "ipython3",
   "version": "3.11.3"
  }
 },
 "nbformat": 4,
 "nbformat_minor": 5
}
