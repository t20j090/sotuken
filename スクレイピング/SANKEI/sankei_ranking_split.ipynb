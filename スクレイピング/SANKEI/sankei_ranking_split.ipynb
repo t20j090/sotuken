{
 "cells": [
  {
   "cell_type": "code",
   "execution_count": 2,
   "id": "105fa2d5-ccb4-4cfa-9fe1-1010cbdb1175",
   "metadata": {},
   "outputs": [],
   "source": [
    "from bs4 import BeautifulSoup\n",
    "import requests\n",
    "import time"
   ]
  },
  {
   "cell_type": "code",
   "execution_count": 3,
   "id": "35d59773-46cf-4a6e-8d67-207128d8a03c",
   "metadata": {},
   "outputs": [],
   "source": [
    "url = 'https://www.sankei.com/'\n",
    "r = requests.get(url)\n",
    "soup = BeautifulSoup(r.text, \"html.parser\")"
   ]
  },
  {
   "cell_type": "code",
   "execution_count": 4,
   "id": "8b08ecef-c43c-41ef-a59e-e7be07c03d43",
   "metadata": {},
   "outputs": [],
   "source": [
    "elements = soup.select('.ranking__item')"
   ]
  },
  {
   "cell_type": "code",
   "execution_count": 5,
   "id": "5af55dd3-588f-4e6c-be83-e22b7207c342",
   "metadata": {},
   "outputs": [],
   "source": [
    "news_urls = []\n",
    "# ニュースのURLとタイトルを取得\n",
    "for element in elements:\n",
    "    link = element.a['href']\n",
    "    news_urls.append(link)\n",
    "    \n",
    "    time.sleep(0.5)"
   ]
  },
  {
   "cell_type": "code",
   "execution_count": 7,
   "id": "4d8fade6-3e45-4e0b-a7db-5e05b636ce88",
   "metadata": {},
   "outputs": [
    {
     "data": {
      "text/plain": [
       "['https://www.sankei.com/article/20231017-F6CTRHZ7LZIO7P2CP2CQC6J32Y/',\n",
       " 'https://www.sankei.com/article/20231017-VHWWRJEF25LB7ARXBXWL4N323U/',\n",
       " 'https://www.sankei.com/article/20231017-G3QR6SZZIFMUBC2AHV2IYJSZEE/',\n",
       " 'https://www.sankei.com/article/20231017-G3GWEXKWTRKELP6KUICZNN4BZI/',\n",
       " 'https://www.sankei.com/article/20231017-PV2S55TMPVOCTL2STIAHKIX4PE/']"
      ]
     },
     "execution_count": 7,
     "metadata": {},
     "output_type": "execute_result"
    }
   ],
   "source": [
    "news_urls"
   ]
  },
  {
   "cell_type": "code",
   "execution_count": null,
   "id": "18ecd50d-1fae-478d-8539-0250c04e8a2e",
   "metadata": {},
   "outputs": [],
   "source": []
  }
 ],
 "metadata": {
  "kernelspec": {
   "display_name": "Python 3 (ipykernel)",
   "language": "python",
   "name": "python3"
  },
  "language_info": {
   "codemirror_mode": {
    "name": "ipython",
    "version": 3
   },
   "file_extension": ".py",
   "mimetype": "text/x-python",
   "name": "python",
   "nbconvert_exporter": "python",
   "pygments_lexer": "ipython3",
   "version": "3.11.4"
  }
 },
 "nbformat": 4,
 "nbformat_minor": 5
}
