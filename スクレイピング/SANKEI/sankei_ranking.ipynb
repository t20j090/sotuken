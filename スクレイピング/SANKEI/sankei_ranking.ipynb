{
 "cells": [
  {
   "cell_type": "code",
   "execution_count": 1,
   "id": "1f4f9b44-a6b4-4a42-96ed-a5b1eb47adb2",
   "metadata": {},
   "outputs": [],
   "source": [
    "from bs4 import BeautifulSoup\n",
    "import requests\n",
    "import time\n",
    "\n",
    "def sankei_news_ranking():\n",
    "    url = 'https://www.sankei.com/'\n",
    "    r = requests.get(url)\n",
    "    soup = BeautifulSoup(r.text, \"html.parser\")\n",
    "    \n",
    "    elements = soup.select('.ranking__item')\n",
    "    \n",
    "    news_urls = []\n",
    "    # ニュースのURLとタイトルを取得\n",
    "    for element in elements:\n",
    "        link = element.a['href']\n",
    "        news_urls.append(link)\n",
    "        \n",
    "        time.sleep(0.5)\n",
    "    \n",
    "    return news_urls"
   ]
  },
  {
   "cell_type": "code",
   "execution_count": 2,
   "id": "1837e191-0352-4f65-b52f-81fbdc4282da",
   "metadata": {},
   "outputs": [
    {
     "data": {
      "text/plain": [
       "['https://www.sankei.com/article/20231017-F6CTRHZ7LZIO7P2CP2CQC6J32Y/',\n",
       " 'https://www.sankei.com/article/20231017-VHWWRJEF25LB7ARXBXWL4N323U/',\n",
       " 'https://www.sankei.com/article/20231017-G3QR6SZZIFMUBC2AHV2IYJSZEE/',\n",
       " 'https://www.sankei.com/article/20231017-G3GWEXKWTRKELP6KUICZNN4BZI/',\n",
       " 'https://www.sankei.com/article/20231017-PV2S55TMPVOCTL2STIAHKIX4PE/']"
      ]
     },
     "execution_count": 2,
     "metadata": {},
     "output_type": "execute_result"
    }
   ],
   "source": [
    "sankei_news_ranking()"
   ]
  },
  {
   "cell_type": "code",
   "execution_count": null,
   "id": "bf98c33a-1108-4be2-a34e-4f6d6585fe19",
   "metadata": {},
   "outputs": [],
   "source": []
  }
 ],
 "metadata": {
  "kernelspec": {
   "display_name": "Python 3 (ipykernel)",
   "language": "python",
   "name": "python3"
  },
  "language_info": {
   "codemirror_mode": {
    "name": "ipython",
    "version": 3
   },
   "file_extension": ".py",
   "mimetype": "text/x-python",
   "name": "python",
   "nbconvert_exporter": "python",
   "pygments_lexer": "ipython3",
   "version": "3.11.4"
  }
 },
 "nbformat": 4,
 "nbformat_minor": 5
}
