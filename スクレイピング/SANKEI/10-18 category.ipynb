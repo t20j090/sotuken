{
 "cells": [
  {
   "cell_type": "code",
   "execution_count": 23,
   "id": "142cb4b4-08db-4d7e-a823-395a99cfb885",
   "metadata": {},
   "outputs": [],
   "source": [
    "from bs4 import BeautifulSoup\n",
    "import requests\n",
    "import time"
   ]
  },
  {
   "cell_type": "code",
   "execution_count": 24,
   "id": "e14cf9c4-d8ae-4ecc-96aa-f161f530a237",
   "metadata": {},
   "outputs": [],
   "source": [
    "url = 'https://www.sankei.com/'\n",
    "r = requests.get(url)\n",
    "soup = BeautifulSoup(r.text, \"html.parser\")"
   ]
  },
  {
   "cell_type": "code",
   "execution_count": 25,
   "id": "a93eba28-3376-44bb-b9b9-26f44d752b70",
   "metadata": {},
   "outputs": [],
   "source": [
    "elements = soup.select('.nav-link')"
   ]
  },
  {
   "cell_type": "code",
   "execution_count": 26,
   "id": "c78322fd-34ea-407d-9d38-c2ff0956a002",
   "metadata": {},
   "outputs": [],
   "source": [
    "categories_elements = elements[2:9]"
   ]
  },
  {
   "cell_type": "code",
   "execution_count": 33,
   "id": "25cf9917-bad7-483b-aa06-d045bf6cc851",
   "metadata": {},
   "outputs": [],
   "source": [
    "topic = '経済'\n",
    "category_urls = []\n",
    "for i, element in enumerate(categories_elements):\n",
    "    link = 'https://www.sankei.com' + element.a['href']\n",
    "    category_urls.append(link)\n",
    "\n",
    "    if (topic == element.text):\n",
    "        categories_num = i\n",
    "    time.sleep(0.2)"
   ]
  },
  {
   "cell_type": "code",
   "execution_count": 38,
   "id": "902feeab-dabe-4f08-bcde-0f9ae3988ff3",
   "metadata": {},
   "outputs": [
    {
     "data": {
      "text/plain": [
       "'https://www.sankei.com/economy/'"
      ]
     },
     "execution_count": 38,
     "metadata": {},
     "output_type": "execute_result"
    }
   ],
   "source": [
    "category_urls[categories_num]"
   ]
  },
  {
   "cell_type": "code",
   "execution_count": 15,
   "id": "e7b224d3-985f-41b9-b4f4-2028928c0af8",
   "metadata": {},
   "outputs": [],
   "source": [
    "#カテゴリーのURL取得\n",
    "category_urls = []\n",
    "for element in categories_elements:\n",
    "    link = 'https://www.sankei.com/' + element.a['href']\n",
    "    category_urls.append(link)\n",
    "    time.sleep(0.2)"
   ]
  },
  {
   "cell_type": "code",
   "execution_count": 35,
   "id": "3e46ec52-1aca-4359-882c-6ea02c276a80",
   "metadata": {},
   "outputs": [],
   "source": [
    "r = requests.get(category_urls[categories_num])\n",
    "soup = BeautifulSoup(r.text, \"html.parser\")\n",
    "elements = soup.select('.ranking__item ')"
   ]
  },
  {
   "cell_type": "code",
   "execution_count": 36,
   "id": "abe62b0b-591b-4ac2-9d67-4c4cdf405a2b",
   "metadata": {},
   "outputs": [
    {
     "data": {
      "text/plain": [
       "<li class=\"ranking__item\"><h3 class=\"text\"><a class=\"gtm-click\" data-gtm-action=\"click article ranking\" data-gtm-category=\"contents\" data-gtm-label=\"#1 / 「運命のタックル」主人公　けがと病に倒れた２人の５年後\" href=\"https://www.sankei.com/article/20220813-45DTSMMBRVMNRNNIHC6FCSR6UA/\" title=\"「運命のタックル」主人公　けがと病に倒れた２人の５年後\">「運命のタックル」主人公　けがと病に倒れた２人の５年後</a></h3></li>"
      ]
     },
     "execution_count": 36,
     "metadata": {},
     "output_type": "execute_result"
    }
   ],
   "source": [
    "elements[0]"
   ]
  },
  {
   "cell_type": "code",
   "execution_count": 20,
   "id": "20213bb9-26a0-41c0-b54d-41671c9c77ba",
   "metadata": {},
   "outputs": [],
   "source": [
    "#取得するニュースの数を５つにしている\n",
    "elements = elements[0:5]"
   ]
  },
  {
   "cell_type": "code",
   "execution_count": 28,
   "id": "b0fe1e00-a068-44fa-939a-8f1d755596be",
   "metadata": {},
   "outputs": [],
   "source": [
    "#ニュースのURLの取得\n",
    "news_urls = []\n",
    "for element in elements:\n",
    "    link = element.a['href']\n",
    "    news_urls.append(link)\n",
    "    time.sleep(0.2)"
   ]
  },
  {
   "cell_type": "code",
   "execution_count": 30,
   "id": "76c557d2-786d-4dc7-8367-8ffe68d0122c",
   "metadata": {},
   "outputs": [],
   "source": [
    "r = requests.get(news_urls[0])\n",
    "soup = BeautifulSoup(r.text, \"html.parser\")"
   ]
  },
  {
   "cell_type": "code",
   "execution_count": 34,
   "id": "1fa84f2c-75ec-4975-8834-14274ce2eed9",
   "metadata": {},
   "outputs": [],
   "source": [
    "elements = soup.select('.article-text')"
   ]
  },
  {
   "cell_type": "code",
   "execution_count": 32,
   "id": "056f93b0-b8c8-4af3-a4a4-914915b4d6cd",
   "metadata": {},
   "outputs": [
    {
     "data": {
      "text/plain": [
       "[<p class=\"article-text\">障害者の作業所やグループホームを運営する東京都小平市の社会福祉法人を巡り、不衛生な環境によるダニ発生を虐待のネグレクト（放棄）として職員が内部告発で市に通報したのに、担当課が受け付けを拒否していたことが１５日、分かった。法人は「ときわ会」。</p>,\n",
       " <p class=\"article-text\">ときわ会では、役員ら複数の職員による知的障害者への暴行や暴言が長期間、続いていたことも内部資料や関係者の証言で判明。複数の職員らが「市は過去にも通報を受けていたのに、きちんと指導しなかった」と訴えており、市の不十分な対応が被害を長期化させた可能性がある。</p>,\n",
       " <p class=\"article-text\">障害者虐待防止法は、虐待の発見者に市町村への通報を義務付けている。厚生労働省の担当者は「通常は受け付けて調査すべきもの」としているが、市は取材に対し「法に沿って対応している」と答えた。</p>]"
      ]
     },
     "execution_count": 32,
     "metadata": {},
     "output_type": "execute_result"
    }
   ],
   "source": [
    "#ニュースの本文を取得\n",
    "text = ''\n",
    "for element in elements:\n",
    "    text += element.text"
   ]
  },
  {
   "cell_type": "code",
   "execution_count": null,
   "id": "0da81efc-ff48-4967-a29f-e5be077d5d25",
   "metadata": {},
   "outputs": [],
   "source": []
  }
 ],
 "metadata": {
  "kernelspec": {
   "display_name": "Python 3 (ipykernel)",
   "language": "python",
   "name": "python3"
  },
  "language_info": {
   "codemirror_mode": {
    "name": "ipython",
    "version": 3
   },
   "file_extension": ".py",
   "mimetype": "text/x-python",
   "name": "python",
   "nbconvert_exporter": "python",
   "pygments_lexer": "ipython3",
   "version": "3.11.4"
  }
 },
 "nbformat": 4,
 "nbformat_minor": 5
}
