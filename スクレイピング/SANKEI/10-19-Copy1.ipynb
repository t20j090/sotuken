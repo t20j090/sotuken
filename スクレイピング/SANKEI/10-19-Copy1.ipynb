{
 "cells": [
  {
   "cell_type": "code",
   "execution_count": 4,
   "id": "db4c226f-f5e7-447e-8455-94adad30455f",
   "metadata": {},
   "outputs": [],
   "source": [
    "from bs4 import BeautifulSoup\n",
    "import requests\n",
    "import time\n",
    "\n",
    "url = 'https://www.sankei.com/'\n",
    "r = requests.get(url)\n",
    "soup = BeautifulSoup(r.text, \"html.parser\")\n",
    "elements = soup.select('.nav-link')"
   ]
  },
  {
   "cell_type": "code",
   "execution_count": 9,
   "id": "9ff7ba6c-8fa8-44ca-b8c1-d6257f5efdc0",
   "metadata": {},
   "outputs": [
    {
     "data": {
      "text/plain": [
       "[<span class=\"nav-link\"><a class=\"gtm-click\" data-gtm-action=\"move to {text} page\" data-gtm-category=\"navigation\" data-gtm-label=\"header module\" href=\"/affairs/\">社会</a></span>,\n",
       " <span class=\"nav-link\"><a class=\"gtm-click\" data-gtm-action=\"move to {text} page\" data-gtm-category=\"navigation\" data-gtm-label=\"header module\" href=\"/politics/\">政治</a></span>,\n",
       " <span class=\"nav-link\"><a class=\"gtm-click\" data-gtm-action=\"move to {text} page\" data-gtm-category=\"navigation\" data-gtm-label=\"header module\" href=\"/world/\">国際</a></span>,\n",
       " <span class=\"nav-link\"><a class=\"gtm-click\" data-gtm-action=\"move to {text} page\" data-gtm-category=\"navigation\" data-gtm-label=\"header module\" href=\"/economy/\">経済</a></span>,\n",
       " <span class=\"nav-link\"><a class=\"gtm-click\" data-gtm-action=\"move to {text} page\" data-gtm-category=\"navigation\" data-gtm-label=\"header module\" href=\"/sports/\">スポーツ</a></span>,\n",
       " <span class=\"nav-link\"><a class=\"gtm-click\" data-gtm-action=\"move to {text} page\" data-gtm-category=\"navigation\" data-gtm-label=\"header module\" href=\"/entertainments/\">エンタメ</a></span>,\n",
       " <span class=\"nav-link\"><a class=\"gtm-click\" data-gtm-action=\"move to {text} page\" data-gtm-category=\"navigation\" data-gtm-label=\"header module\" href=\"/life/\">ライフ</a></span>]"
      ]
     },
     "execution_count": 9,
     "metadata": {},
     "output_type": "execute_result"
    }
   ],
   "source": [
    "elements[11:18]"
   ]
  },
  {
   "cell_type": "code",
   "execution_count": null,
   "id": "c00ef48c-871f-459e-bb81-f8bf7d5ab86b",
   "metadata": {},
   "outputs": [],
   "source": [
    "categories_elements = elements[2:9]"
   ]
  },
  {
   "cell_type": "code",
   "execution_count": null,
   "id": "22941203-dd2f-4da6-a710-b4ff218bab35",
   "metadata": {},
   "outputs": [],
   "source": [
    "#カテゴリーのURL取得\n",
    "category_urls = []\n",
    "for i, element in enumerate(categories_elements):\n",
    "    link = 'https://www.sankei.com/' + element.a['href']\n",
    "    category_urls.append(link)\n",
    "\n",
    "    if (topic == element.text):\n",
    "        categories_num = i\n",
    "    time.sleep(0.2)\n",
    "\n",
    "r = requests.get(category_urls[categories_num])\n",
    "soup = BeautifulSoup(r.text, \"html.parser\")\n",
    "elements = soup.select('.ranking__item ')\n",
    "\n",
    "#取得するニュースの数を５つにしている\n",
    "elements = elements[0:5]\n",
    "\n",
    "#ニュースのURLの取得\n",
    "news_urls = []\n",
    "for element in elements:\n",
    "    link = element.a['href']\n",
    "    news_urls.append(link)\n",
    "    time.sleep(0.2)\n",
    "\n",
    "#ニュースの本文を取得\n",
    "news_text = []\n",
    "for news_url in news_urls:\n",
    "    r = requests.get(news_url)\n",
    "    soup = BeautifulSoup(r.text, \"html.parser\")\n",
    "    elements = soup.select('.article-text')\n",
    "\n",
    "    time.sleep(0.2)\n",
    "\n",
    "    text = ''\n",
    "    for element in elements:\n",
    "        text += element.text\n",
    "        \n",
    "    news_text.append(text)\n",
    "\n",
    "articles = []\n",
    "for url, text in zip(news_urls, news_text):\n",
    "    article = {\n",
    "        \"URL\" : url,\n",
    "        \"text\" : text\n",
    "    }\n",
    "    articles.append(article)"
   ]
  },
  {
   "cell_type": "code",
   "execution_count": 5,
   "id": "32cba933-ee21-4f00-8de5-a18af64fe3d9",
   "metadata": {},
   "outputs": [
    {
     "data": {
      "text/plain": [
       "689"
      ]
     },
     "execution_count": 5,
     "metadata": {},
     "output_type": "execute_result"
    }
   ],
   "source": []
  },
  {
   "cell_type": "code",
   "execution_count": null,
   "id": "f01db8e5-84ca-405a-a43d-330842c76713",
   "metadata": {},
   "outputs": [],
   "source": []
  }
 ],
 "metadata": {
  "kernelspec": {
   "display_name": "Python 3 (ipykernel)",
   "language": "python",
   "name": "python3"
  },
  "language_info": {
   "codemirror_mode": {
    "name": "ipython",
    "version": 3
   },
   "file_extension": ".py",
   "mimetype": "text/x-python",
   "name": "python",
   "nbconvert_exporter": "python",
   "pygments_lexer": "ipython3",
   "version": "3.11.4"
  }
 },
 "nbformat": 4,
 "nbformat_minor": 5
}
