{
 "cells": [
  {
   "cell_type": "code",
   "execution_count": 5,
   "id": "7128fd24-96d9-4ee8-a123-42768f9c42e5",
   "metadata": {},
   "outputs": [],
   "source": [
    "url = 3\n",
    "try:\n",
    "    text = yahoo_news_text(url)\n",
    "except:\n",
    "    pass\n",
    "\n",
    "try:\n",
    "    text = cnn_news_text(url)\n",
    "except:\n",
    "    pass\n",
    "\n",
    "try:\n",
    "    text = sankei_news_text(url)\n",
    "except:\n",
    "    pass"
   ]
  },
  {
   "cell_type": "code",
   "execution_count": 6,
   "id": "c7650409-b76c-4cc2-b2cc-00b92f5bb197",
   "metadata": {},
   "outputs": [],
   "source": [
    "text"
   ]
  },
  {
   "cell_type": "code",
   "execution_count": 7,
   "id": "bac5af83-2b24-4942-bf0d-275bce09815b",
   "metadata": {},
   "outputs": [],
   "source": [
    "def yahoo_news_text(url):\n",
    "    a = dfa\n",
    "    return a"
   ]
  },
  {
   "cell_type": "code",
   "execution_count": 8,
   "id": "de0a225d-9434-449a-9e6d-422698f56358",
   "metadata": {},
   "outputs": [],
   "source": [
    "def cnn_news_text(url):\n",
    "    a = 3\n",
    "    return a"
   ]
  },
  {
   "cell_type": "code",
   "execution_count": 4,
   "id": "c75ef842-8b7b-4ebe-83d4-4e8192d9e811",
   "metadata": {},
   "outputs": [],
   "source": [
    "def sankei_news_text(url):\n",
    "    a = dfa"
   ]
  },
  {
   "cell_type": "code",
   "execution_count": null,
   "id": "15af1ce8-ed59-4d0e-bb4c-672ba035f98e",
   "metadata": {},
   "outputs": [],
   "source": []
  }
 ],
 "metadata": {
  "kernelspec": {
   "display_name": "Python 3 (ipykernel)",
   "language": "python",
   "name": "python3"
  },
  "language_info": {
   "codemirror_mode": {
    "name": "ipython",
    "version": 3
   },
   "file_extension": ".py",
   "mimetype": "text/x-python",
   "name": "python",
   "nbconvert_exporter": "python",
   "pygments_lexer": "ipython3",
   "version": "3.11.4"
  }
 },
 "nbformat": 4,
 "nbformat_minor": 5
}
