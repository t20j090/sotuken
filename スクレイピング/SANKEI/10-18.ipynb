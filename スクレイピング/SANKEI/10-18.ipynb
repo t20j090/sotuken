{
 "cells": [
  {
   "cell_type": "code",
   "execution_count": 1,
   "id": "27cb36ef-2081-4d38-86a8-f87704c54292",
   "metadata": {},
   "outputs": [],
   "source": [
    "from bs4 import BeautifulSoup\n",
    "import requests\n",
    "import time\n",
    "\n",
    "def sankei_news_scraping(topic):\n",
    "    url = 'https://www.sankei.com/'\n",
    "    r = requests.get(url)\n",
    "    soup = BeautifulSoup(r.text, \"html.parser\")\n",
    "    elements = soup.select('.nav-link')\n",
    "    categories_elements = elements[2:9]\n",
    "    \n",
    "    #カテゴリーのURL取得\n",
    "    category_urls = []\n",
    "    for i, element in enumerate(categories_elements):\n",
    "        link = 'https://www.sankei.com/' + element.a['href']\n",
    "        category_urls.append(link)\n",
    "\n",
    "        if (topic == element.text):\n",
    "            categories_num = i\n",
    "        time.sleep(0.2)\n",
    "    \n",
    "    r = requests.get(category_urls[categories_num])\n",
    "    soup = BeautifulSoup(r.text, \"html.parser\")\n",
    "    elements = soup.select('.ranking__item ')\n",
    "    \n",
    "    #取得するニュースの数を５つにしている\n",
    "    elements = elements[0:5]\n",
    "    \n",
    "    #ニュースのURLの取得\n",
    "    news_urls = []\n",
    "    for element in elements:\n",
    "        link = element.a['href']\n",
    "        news_urls.append(link)\n",
    "        time.sleep(0.2)\n",
    "    \n",
    "    #ニュースの本文を取得\n",
    "    news_text = []\n",
    "    for news_url in news_urls:\n",
    "        r = requests.get(news_url)\n",
    "        soup = BeautifulSoup(r.text, \"html.parser\")\n",
    "        elements = soup.select('.article-text')\n",
    "\n",
    "        time.sleep(0.2)\n",
    "    \n",
    "        text = ''\n",
    "        for element in elements:\n",
    "            text += element.text\n",
    "            \n",
    "        news_text.append(text)\n",
    "\n",
    "    articles = []\n",
    "    for url, text in zip(news_urls, news_text):\n",
    "        article = {\n",
    "            \"URL\" : url,\n",
    "            \"text\" : text\n",
    "        }\n",
    "        articles.append(article)\n",
    "\n",
    "    return articles\n"
   ]
  },
  {
   "cell_type": "code",
   "execution_count": 3,
   "id": "c14b0183-b60b-4205-a85c-4b2ff94cbd6b",
   "metadata": {},
   "outputs": [],
   "source": [
    "a = sankei_news_scraping('エンタメ')"
   ]
  },
  {
   "cell_type": "code",
   "execution_count": 5,
   "id": "32cba933-ee21-4f00-8de5-a18af64fe3d9",
   "metadata": {},
   "outputs": [
    {
     "data": {
      "text/plain": [
       "689"
      ]
     },
     "execution_count": 5,
     "metadata": {},
     "output_type": "execute_result"
    }
   ],
   "source": [
    "len(a[4]['text'])"
   ]
  },
  {
   "cell_type": "code",
   "execution_count": null,
   "id": "f01db8e5-84ca-405a-a43d-330842c76713",
   "metadata": {},
   "outputs": [],
   "source": []
  }
 ],
 "metadata": {
  "kernelspec": {
   "display_name": "Python 3 (ipykernel)",
   "language": "python",
   "name": "python3"
  },
  "language_info": {
   "codemirror_mode": {
    "name": "ipython",
    "version": 3
   },
   "file_extension": ".py",
   "mimetype": "text/x-python",
   "name": "python",
   "nbconvert_exporter": "python",
   "pygments_lexer": "ipython3",
   "version": "3.11.4"
  }
 },
 "nbformat": 4,
 "nbformat_minor": 5
}
