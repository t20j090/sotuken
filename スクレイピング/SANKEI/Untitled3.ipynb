{
 "cells": [
  {
   "cell_type": "code",
   "execution_count": 11,
   "id": "858fadd2-26de-40ed-b567-024780945784",
   "metadata": {},
   "outputs": [],
   "source": [
    "import time\n",
    "from bs4 import BeautifulSoup\n",
    "import requests"
   ]
  },
  {
   "cell_type": "code",
   "execution_count": 28,
   "id": "e6bbb41e-92be-4fa2-800c-850b42569006",
   "metadata": {},
   "outputs": [],
   "source": [
    "url = 'https://www.sankei.com/'\n",
    "r = requests.get(url)\n",
    "soup = BeautifulSoup(r.text, \"html.parser\")\n",
    "elements = soup.select('.nav-link')\n",
    "categories_elements = elements[13:20]"
   ]
  },
  {
   "cell_type": "code",
   "execution_count": 33,
   "id": "aae78629-815d-497d-9fda-6ce785878313",
   "metadata": {},
   "outputs": [
    {
     "data": {
      "text/plain": [
       "722"
      ]
     },
     "execution_count": 33,
     "metadata": {},
     "output_type": "execute_result"
    }
   ],
   "source": [
    "len('''\n",
    "アイドルグループすてねこキャッツの西條真未が19日までに、「新しい命を授かりました」と自身のSNSで報告。注釈として「食べ過ぎです」と“ネタバラシ”をしていたが、ネット上では大きな話題を集めた。\n",
    "\n",
    "【写真】「これは3ヶ月ぐらいのお腹」「どんだけ食べたのw」の声…勘違いする人が続出した西條真未のぽっこりお腹\n",
    "\n",
    "　西條は自身のXのサブアカウントで横から撮影されたぽっこりお腹の写真を投稿。「【ご報告】この度、新しい命を授かりました。現役アイドルでありながらこのようなことになり本当に申し訳ありません。ですが、ぜひ大切なファンの皆さんにも一緒にこの子の成長を見守って頂きたいです。これからも、西條真未とお腹の子共々、よろしくお願いします」と妊娠報告のような投稿を行った。\n",
    "\n",
    "　しかし、写真の説明では「食べ過ぎです」と補足。また、投稿を引用する形で「こういうことです」と大量のピザ、うどん、ドーナツ、ケーキの写真を添え、お腹の膨らみは“爆食”が原因であることを説明した。\n",
    "\n",
    "　この投稿は、130万件を超えるインプレッションを獲得するなど大きな話題となり、ファンからも「どんだけ食べたのw」「本当かと思ったわ」「エイプリルフール用のネタに取っておいてほしかったw」「マジでビビったじゃん！」などの声があがった。\n",
    "\n",
    "　一方で、本当の妊娠報告と捉えるユーザーも多数いたことから、「最近こういうの流行ってるのか」「この手の釣りツイートは信用を失いかねないな」など疑念を抱く声もあがった。\n",
    "\n",
    "　西條は反響の大きさに「ちゃんとALTに書いてたのでここまで本気にされると思ってなかった……もうちょっとわかりやすく本文に書けばよかったですね……反省」とつづった。\n",
    "''')"
   ]
  },
  {
   "cell_type": "code",
   "execution_count": null,
   "id": "a1f06ab4-8dac-426d-a7fc-ab48d6a0dcdc",
   "metadata": {},
   "outputs": [],
   "source": []
  }
 ],
 "metadata": {
  "kernelspec": {
   "display_name": "Python 3 (ipykernel)",
   "language": "python",
   "name": "python3"
  },
  "language_info": {
   "codemirror_mode": {
    "name": "ipython",
    "version": 3
   },
   "file_extension": ".py",
   "mimetype": "text/x-python",
   "name": "python",
   "nbconvert_exporter": "python",
   "pygments_lexer": "ipython3",
   "version": "3.11.4"
  }
 },
 "nbformat": 4,
 "nbformat_minor": 5
}
