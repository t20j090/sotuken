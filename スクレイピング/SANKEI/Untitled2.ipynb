{
 "cells": [
  {
   "cell_type": "code",
   "execution_count": 4,
   "id": "8dbe0d11-fb16-4d60-9b4d-815d44be27c0",
   "metadata": {},
   "outputs": [],
   "source": [
    "#ニュースの本文を取得\n",
    "r = requests.get('https://news.yahoo.co.jp/articles/463ef7c4b65d6563427dc8753eaaa0c311c31def')\n",
    "soup = BeautifulSoup(r.text, \"html.parser\")\n",
    "#クラス名が変わるので注意！！ \n",
    "elements = soup.select('.sc-gLMgcV.EJLaQ.yjSlinkDirectlink.highLightSearchTarget')\n",
    "\n",
    "text = \"\"\n",
    "\n",
    "#ニュース記事の本文が配列で区切られていた場合\n",
    "for i in range(0, 8):\n",
    "    try:\n",
    "        if (i == 0):\n",
    "            text = elements[0].text\n",
    "        else:\n",
    "            text += elements[i].text\n",
    "    except:\n",
    "        pass\n",
    "\n",
    "#ページが1つだけのとき、エラーが出るため\n",
    "try:\n",
    "    #クラス名が変わるので注意！！ （取得例：２ページ)\n",
    "    page_element = soup.select('.sc-cpUASM.bqNXll')\n",
    "    page = page_element[0].text         \n",
    "    page_str = ''.join(filter(str.isdigit, page))\n",
    "    page_num = int(page_str)\n",
    "except:\n",
    "    page_num = 1\n",
    "    \n",
    "#ページ数が複数のとき、ページ遷移し本文を取得\n",
    "if (page_num > 1):\n",
    "    for i in range(2, page_num + 1):\n",
    "        news_url_page = url + \"?page=\" + str(page_num)\n",
    "        r = requests.get(news_url_page)\n",
    "        soup = BeautifulSoup(r.text, \"html.parser\")\n",
    "        #クラス名が変わるので注意！！ \n",
    "        elements = soup.select('.sc-gLMgcV.EJLaQ.yjSlinkDirectlink.highLightSearchTarget')\n",
    "        #ニュース記事の本文が配列で区切られていた場合\n",
    "        for i in range(0, 8):\n",
    "            try:\n",
    "                text += elements[i].text\n",
    "            except:\n",
    "                pass\n",
    "text = text.replace('\\u3000', '')\n",
    "text = text.replace('\\n', '')\n"
   ]
  },
  {
   "cell_type": "code",
   "execution_count": 5,
   "id": "78c4cb6e-0cb7-4a2a-bf8d-2d37ee2bea60",
   "metadata": {},
   "outputs": [
    {
     "data": {
      "text/plain": [
       "'アイドルグループすてねこキャッツの西條真未が19日までに、「新しい命を授かりました」と自身のSNSで報告。注釈として「食べ過ぎです」と“ネタバラシ”をしていたが、ネット上では大きな話題を集めた。【写真】「これは3ヶ月ぐらいのお腹」「どんだけ食べたのw」の声…勘違いする人が続出した西條真未のぽっこりお腹西條は自身のXのサブアカウントで横から撮影されたぽっこりお腹の写真を投稿。「【ご報告】この度、新しい命を授かりました。現役アイドルでありながらこのようなことになり本当に申し訳ありません。ですが、ぜひ大切なファンの皆さんにも一緒にこの子の成長を見守って頂きたいです。これからも、西條真未とお腹の子共々、よろしくお願いします」と妊娠報告のような投稿を行った。しかし、写真の説明では「食べ過ぎです」と補足。また、投稿を引用する形で「こういうことです」と大量のピザ、うどん、ドーナツ、ケーキの写真を添え、お腹の膨らみは“爆食”が原因であることを説明した。この投稿は、130万件を超えるインプレッションを獲得するなど大きな話題となり、ファンからも「どんだけ食べたのw」「本当かと思ったわ」「エイプリルフール用のネタに取っておいてほしかったw」「マジでビビったじゃん！」などの声があがった。一方で、本当の妊娠報告と捉えるユーザーも多数いたことから、「最近こういうの流行ってるのか」「この手の釣りツイートは信用を失いかねないな」など疑念を抱く声もあがった。西條は反響の大きさに「ちゃんとALTに書いてたのでここまで本気にされると思ってなかった……もうちょっとわかりやすく本文に書けばよかったですね……反省」とつづった。'"
      ]
     },
     "execution_count": 5,
     "metadata": {},
     "output_type": "execute_result"
    }
   ],
   "source": [
    "text"
   ]
  },
  {
   "cell_type": "code",
   "execution_count": 2,
   "id": "d203daed-5dbe-4ed3-8732-03b67f474509",
   "metadata": {},
   "outputs": [],
   "source": [
    "import requests\n",
    "from bs4 import BeautifulSoup\n",
    "import time"
   ]
  },
  {
   "cell_type": "code",
   "execution_count": null,
   "id": "d5be9d8f-7c0d-4983-b475-cb7c102b20db",
   "metadata": {},
   "outputs": [],
   "source": []
  }
 ],
 "metadata": {
  "kernelspec": {
   "display_name": "Python 3 (ipykernel)",
   "language": "python",
   "name": "python3"
  },
  "language_info": {
   "codemirror_mode": {
    "name": "ipython",
    "version": 3
   },
   "file_extension": ".py",
   "mimetype": "text/x-python",
   "name": "python",
   "nbconvert_exporter": "python",
   "pygments_lexer": "ipython3",
   "version": "3.11.4"
  }
 },
 "nbformat": 4,
 "nbformat_minor": 5
}
